{
 "cells": [
  {
   "cell_type": "markdown",
   "id": "09b90706",
   "metadata": {},
   "source": [
    "1.Given two strings s and t, *determine if they are isomorphic*.\n",
    "\n",
    "Two strings s and t are isomorphic if the characters in s can be replaced to get t.\n",
    "\n",
    "All occurrences of a character must be replaced with another character while preserving the order of characters. No two characters may map to the same character, but a character may map to itself.\n",
    "\n",
    "**Example 1:**\n",
    "\n",
    "**Input:** s = \"egg\", t = \"add\"\n",
    "\n",
    "**Output:** true"
   ]
  },
  {
   "cell_type": "raw",
   "id": "297c6823",
   "metadata": {},
   "source": [
    "#ALGORITHM\n",
    "The Solution iterates through the characters of the strings from right to left, starting from the last character (index n). It performs the following checks for each character:\n",
    "\n",
    "If the character s[n] is already present in the map and it is mapped to a different character t[n], then the strings are not isomorphic. In this case, the function returns false.\n",
    "\n",
    "If the character s[n] is not present in the map but the character t[n] is already present in the set, then the strings are not isomorphic. In this case, the function returns false.\n",
    "\n",
    "Otherwise, the function proceeds to insert the character t[n] into the set and map the character s[n] to t[n] in the map."
   ]
  },
  {
   "cell_type": "code",
   "execution_count": 2,
   "id": "1ee02340",
   "metadata": {},
   "outputs": [],
   "source": [
    "def isisomor(s,t):\n",
    "    mapping={}\n",
    "    char_set=set()\n",
    "    n=len(s)-1\n",
    "    \n",
    "    while n>=0:\n",
    "        if s[n] in mapping and mapping[s[n]]!=t[n]:\n",
    "            return False\n",
    "        if s[n] not in mapping and t[n] in char_set:\n",
    "            return False\n",
    "        \n",
    "        char_set.add(t[n])\n",
    "        mapping[s[n]]=t[n]\n",
    "        n-=1\n",
    "    return True"
   ]
  },
  {
   "cell_type": "code",
   "execution_count": 3,
   "id": "8e738b90",
   "metadata": {},
   "outputs": [
    {
     "data": {
      "text/plain": [
       "True"
      ]
     },
     "execution_count": 3,
     "metadata": {},
     "output_type": "execute_result"
    }
   ],
   "source": [
    "s = \"egg\"\n",
    "t = \"add\"\n",
    "isisomor(s,t)"
   ]
  },
  {
   "cell_type": "code",
   "execution_count": 3,
   "id": "6674de0b",
   "metadata": {},
   "outputs": [],
   "source": [
    "def isiso(s,t):\n",
    "    return len(set(s))==len(set(t))==len(set(zip(s,t)))"
   ]
  },
  {
   "cell_type": "markdown",
   "id": "27f14d8d",
   "metadata": {},
   "source": [
    " **Question 2**\n",
    "\n",
    "Given a string num which represents an integer, return true *if* num *is a **strobogrammatic number***.\n",
    "\n",
    "A **strobogrammatic number** is a number that looks the same when rotated 180 degrees (looked at upside down).\n",
    "\n",
    "**Example 1:**\n",
    "\n",
    "**Input:** num = \"69\"\n",
    "\n",
    "**Output:**\n",
    "\n",
    "true"
   ]
  },
  {
   "cell_type": "code",
   "execution_count": 4,
   "id": "bbf3c4e7",
   "metadata": {},
   "outputs": [],
   "source": [
    "def isstobo(num):\n",
    "    maps = {(\"0\", \"0\"), (\"1\", \"1\"), (\"6\", \"9\"), (\"8\", \"8\"), (\"9\", \"6\")}\n",
    "    i=0\n",
    "    j=len(num)-1\n",
    "    \n",
    "    while i<j:\n",
    "        if(num[i],num[j]) not in maps:\n",
    "            return False\n",
    "        i+=1\n",
    "        j-=1\n",
    "    return True"
   ]
  },
  {
   "cell_type": "code",
   "execution_count": 5,
   "id": "c3f1a639",
   "metadata": {},
   "outputs": [
    {
     "data": {
      "text/plain": [
       "True"
      ]
     },
     "execution_count": 5,
     "metadata": {},
     "output_type": "execute_result"
    }
   ],
   "source": [
    "num = \"69\"\n",
    "isstobo(num)"
   ]
  },
  {
   "cell_type": "markdown",
   "id": "cb04aaeb",
   "metadata": {},
   "source": [
    "3.Given two non-negative integers, num1 and num2 represented as string, return *the sum of* num1 *and* num2 *as a string*.\n",
    "\n",
    "You must solve the problem without using any built-in library for handling large integers (such as BigInteger). You must also not convert the inputs to integers directly.\n",
    "\n",
    "**Example 1:**\n",
    "\n",
    "**Input:** num1 = \"11\", num2 = \"123\"\n",
    "\n",
    "**Output:**\n",
    "\n",
    "\"134\""
   ]
  },
  {
   "cell_type": "code",
   "execution_count": 7,
   "id": "0b9c1983",
   "metadata": {},
   "outputs": [],
   "source": [
    "def addstring(num1,num2):\n",
    "    n1,n2=len(num1),len(num2)\n",
    "    s=t=0\n",
    "    \n",
    "    for i in range(n1):\n",
    "        o=ord(num1[i])-48\n",
    "        a=s*10\n",
    "        s=a+o\n",
    "        \n",
    "    for i in range(n2):\n",
    "        o=ord(num2[i])-48\n",
    "        a=t*10\n",
    "        t=a+o\n",
    "        \n",
    "    return str(s+t)"
   ]
  },
  {
   "cell_type": "code",
   "execution_count": 8,
   "id": "1665648b",
   "metadata": {},
   "outputs": [
    {
     "data": {
      "text/plain": [
       "'134'"
      ]
     },
     "execution_count": 8,
     "metadata": {},
     "output_type": "execute_result"
    }
   ],
   "source": [
    "num1 = \"11\"\n",
    "num2 = \"123\"\n",
    "addstring(num1,num2)"
   ]
  },
  {
   "cell_type": "raw",
   "id": "5a3800bf",
   "metadata": {},
   "source": [
    "#ALGORITHM\n",
    "Reverse the input strings num1 and num2 so that we start adding from the least significant digits.\n",
    "\n",
    "Pad the shorter input string with zeros so that both strings are the same length.\n",
    "\n",
    "Initialize an empty string result to store the sum of the two input strings and a variable carry to 0.\n",
    "\n",
    "Loop through both strings, starting from the least significant digits, and add the corresponding digits of num1 and num2.\n",
    "\n",
    "If there is a carry from the previous iteration, add it to the sum.\n",
    "\n",
    "If the sum is greater than or equal to 10, set carry to 1 and subtract 10 from the sum. Otherwise, set carry to 0.\n",
    "\n",
    "Append the least significant digit of the sum to the result string.\n",
    "\n",
    "If there is a carry after the last iteration, append it to the result string.\n",
    "\n",
    "Reverse the result string to obtain the final sum.\n",
    "\n",
    "Return the final sum as a string."
   ]
  },
  {
   "cell_type": "code",
   "execution_count": 9,
   "id": "4b2fa76d",
   "metadata": {},
   "outputs": [],
   "source": [
    "def adds(num1,num2):\n",
    "    num1=num1[::-1]\n",
    "    num2=num2[::-1]\n",
    "    \n",
    "    if len(num1)<len(num2):\n",
    "        num1 += '0'*(len(num2)-len(num1))\n",
    "    else:\n",
    "        num2 += '0'*(len(num1)-len(num2))\n",
    "        \n",
    "    \n",
    "    result=''\n",
    "    carry=0\n",
    "    \n",
    "    \n",
    "    for i in range(len(num1)):\n",
    "        digit_sum=int(num1[i])+int(num2[i])+carry\n",
    "        carry=digit_sum//10\n",
    "        \n",
    "        result +=str(digit_sum %10)\n",
    "        \n",
    "    if carry>0:\n",
    "        result +=str(carry)\n",
    "        \n",
    "        \n",
    "    return result[::-1]"
   ]
  },
  {
   "cell_type": "markdown",
   "id": "d4fd3c70",
   "metadata": {},
   "source": [
    "\n",
    "💡 **Question 4**\n",
    "\n",
    "Given a string s, reverse the order of characters in each word within a sentence while still preserving whitespace and initial word order.\n",
    "\n",
    "**Example 1:**\n",
    "\n",
    "**Input:** s = \"Let's take LeetCode contest\"\n",
    "\n",
    "**Output:** \"s'teL ekat edoCteeL tsetnoc\"\n",
    "\n"
   ]
  },
  {
   "cell_type": "code",
   "execution_count": 30,
   "id": "24c37cb9",
   "metadata": {},
   "outputs": [],
   "source": [
    " def reverseWords( s):\n",
    "        return \" \".join([word[::-1] for word in s.split()])"
   ]
  },
  {
   "cell_type": "code",
   "execution_count": 31,
   "id": "c86a6d25",
   "metadata": {},
   "outputs": [],
   "source": [
    "def reverse_word(st):\n",
    "    return \" \".join([word[::-1] for word in s.split()])"
   ]
  },
  {
   "cell_type": "code",
   "execution_count": 32,
   "id": "8741b028",
   "metadata": {},
   "outputs": [],
   "source": [
    "def revesre(st):\n",
    "    \n",
    "    r=''\n",
    "    l=0\n",
    "    \n",
    "    for i in range(len(st)):\n",
    "        if s[i]==\" \":\n",
    "            if l==0:\n",
    "                r=r+s[i-1::-1]\n",
    "            else:\n",
    "                r=r+s[i-1:l:-1]\n",
    "                \n",
    "            r=r+\" \"\n",
    "            l=i\n",
    "            \n",
    "        if l==0:\n",
    "            return s[::-1]\n",
    "        \n",
    "        r=r+s[i:l:-1]\n",
    "        return r"
   ]
  },
  {
   "cell_type": "code",
   "execution_count": 33,
   "id": "64452ee7",
   "metadata": {},
   "outputs": [
    {
     "data": {
      "text/plain": [
       "\"tsetnoc edoCteeL ekat s'teL\""
      ]
     },
     "execution_count": 33,
     "metadata": {},
     "output_type": "execute_result"
    }
   ],
   "source": [
    "s = \"Let's take LeetCode contest\"\n",
    "revesre(s)"
   ]
  },
  {
   "cell_type": "markdown",
   "id": "51133d12",
   "metadata": {},
   "source": [
    "5.Given a string s and an integer k, reverse the first k characters for every 2k characters counting from the start of the string.\n",
    "\n",
    "If there are fewer than k characters left, reverse all of them. If there are less than 2k but greater than or equal to k characters, then reverse the first k characters and leave the other as original.\n",
    "\n",
    "**Example 1:**\n",
    "\n",
    "**Input:** s = \"abcdefg\", k = 2\n",
    "\n",
    "**Output:**\n",
    "\n",
    "\"bacdfeg\""
   ]
  },
  {
   "cell_type": "code",
   "execution_count": 34,
   "id": "83e1f0f6",
   "metadata": {},
   "outputs": [],
   "source": [
    "def reverse_str(st,k):\n",
    "    a=list(st)\n",
    "    for i in range(0,len(st),2*k):\n",
    "        a[i:i+k]=a[i:i+k][::-1]\n",
    "    return \"\".join(a)"
   ]
  },
  {
   "cell_type": "code",
   "execution_count": 35,
   "id": "a4d00e46",
   "metadata": {},
   "outputs": [
    {
     "data": {
      "text/plain": [
       "'bacdfeg'"
      ]
     },
     "execution_count": 35,
     "metadata": {},
     "output_type": "execute_result"
    }
   ],
   "source": [
    "s = \"abcdefg\"\n",
    "k = 2\n",
    "reverse_str(s,k)"
   ]
  },
  {
   "cell_type": "markdown",
   "id": "910c4964",
   "metadata": {},
   "source": [
    "6.Given two strings s and goal, return true *if and only if* s *can become* goal *after some number of **shifts** on* s.\n",
    "\n",
    "A **shift** on s consists of moving the leftmost character of s to the rightmost position.\n",
    "\n",
    "- For example, if s = \"abcde\", then it will be \"bcdea\" after one shift.\n",
    "\n",
    "**Example 1:**\n",
    "\n",
    "**Input:** s = \"abcde\", goal = \"cdeab\"\n",
    "\n",
    "**Output:**\n",
    "\n",
    "true"
   ]
  },
  {
   "cell_type": "code",
   "execution_count": 36,
   "id": "b5820fee",
   "metadata": {},
   "outputs": [],
   "source": [
    "def rotate_arr(a,b):\n",
    "    if len(a) != len(b):\n",
    "        return False\n",
    "    if len(a)==0:\n",
    "        return True\n",
    "    \n",
    "    for i in range(len(a)):\n",
    "        if all(a[i+1 %len(a)]== b[i] for i in range(len(b))):\n",
    "            return True\n",
    "    return False"
   ]
  },
  {
   "cell_type": "code",
   "execution_count": 37,
   "id": "2f044175",
   "metadata": {},
   "outputs": [
    {
     "data": {
      "text/plain": [
       "False"
      ]
     },
     "execution_count": 37,
     "metadata": {},
     "output_type": "execute_result"
    }
   ],
   "source": [
    "s = \"abcde\"\n",
    "goal = \"cdeab\"\n",
    "rotate_arr(s,goal)"
   ]
  },
  {
   "cell_type": "code",
   "execution_count": 38,
   "id": "a651dc45",
   "metadata": {},
   "outputs": [],
   "source": [
    "def rotate_str(a,b):\n",
    "    return len(a)==len(b) and b in a+a"
   ]
  },
  {
   "cell_type": "code",
   "execution_count": 39,
   "id": "2df36263",
   "metadata": {},
   "outputs": [],
   "source": [
    "from collections import deque\n",
    "def rotate(a,b):\n",
    "    if a==b:\n",
    "        return True\n",
    "    q1,q2=deque(),deque()\n",
    "    \n",
    "    for i in a:\n",
    "        q1.append(i)\n",
    "        \n",
    "    for i in b:\n",
    "        q2.append(i)\n",
    "        \n",
    "        \n",
    "    i=0\n",
    "    \n",
    "    while i<len(a):\n",
    "        q1.append(q1.popleft())\n",
    "        if q1==q2:\n",
    "            return True\n",
    "        i+=1\n",
    "    return False"
   ]
  },
  {
   "cell_type": "markdown",
   "id": "5f7e4a2d",
   "metadata": {},
   "source": [
    "7.Given two strings s and t, return true *if they are equal when both are typed into empty text editors*. '#' means a backspace character.\n",
    "\n",
    "Note that after backspacing an empty text, the text will continue empty.\n",
    "\n",
    "**Example 1:**\n",
    "\n",
    "**Input:** s = \"ab#c\", t = \"ad#c\"\n",
    "\n",
    "**Output:** true\n",
    "\n",
    "**Explanation:**\n",
    "\n",
    "Both s and t become \"ac\"."
   ]
  },
  {
   "cell_type": "code",
   "execution_count": 40,
   "id": "84f7835d",
   "metadata": {},
   "outputs": [],
   "source": [
    "def back_space(s,t):\n",
    "    def build(s):\n",
    "        ans=[]\n",
    "        for i in s:\n",
    "            if i!= '#':\n",
    "                ans.append(i)\n",
    "            else:\n",
    "                ans.pop()\n",
    "        return \"\".join(ans)\n",
    "    return build(s)==build(t)\n",
    "                "
   ]
  },
  {
   "cell_type": "code",
   "execution_count": 41,
   "id": "8fc376f1",
   "metadata": {},
   "outputs": [
    {
     "data": {
      "text/plain": [
       "True"
      ]
     },
     "execution_count": 41,
     "metadata": {},
     "output_type": "execute_result"
    }
   ],
   "source": [
    "s = \"ab#c\"\n",
    "t = \"ad#c\"\n",
    "back_space(s,t)"
   ]
  },
  {
   "cell_type": "code",
   "execution_count": 42,
   "id": "23928452",
   "metadata": {},
   "outputs": [],
   "source": [
    "def back_space(s,t):\n",
    "    new_s=new_t=''\n",
    "    for letter in s:\n",
    "        if letter != '#':\n",
    "            new_s+=letter\n",
    "        else:\n",
    "            new_s=remove_previous(new_s)\n",
    "            \n",
    "    for letter in t:\n",
    "        if letter != '#':\n",
    "            new_t+=letter\n",
    "        else:\n",
    "            new_t=remove_previous(new_t)\n",
    "            \n",
    "    if len(new_s)==len(new_t):\n",
    "        return True \n",
    "    return False\n",
    "\n",
    "def remove(s):\n",
    "    if s=='':\n",
    "        return s\n",
    "    return s[:-1]"
   ]
  },
  {
   "cell_type": "markdown",
   "id": "5fc0f8ea",
   "metadata": {},
   "source": [
    "💡 **Question 8**\n",
    "\n",
    "You are given an array coordinates, coordinates[i] = [x, y], where [x, y] represents the coordinate of a point. Check if these points make a straight line in the XY plane.\n",
    "\n",
    "**Example 1:**\n",
    "\n",
    "**Input:** coordinates = [[1,2],[2,3],[3,4],[4,5],[5,6],[6,7]]\n",
    "\n",
    "**Output:** true"
   ]
  },
  {
   "cell_type": "code",
   "execution_count": 43,
   "id": "389556d6",
   "metadata": {},
   "outputs": [],
   "source": [
    " def checkStraightLine( coordinates):\n",
    "        x0, y0 = coordinates.pop()\n",
    "        x1, y1 = coordinates.pop()\n",
    "        return all((x1 - x0) * (y - y1) == (x - x1) * (y1 - y0) for x, y in coordinates)\n"
   ]
  },
  {
   "cell_type": "code",
   "execution_count": 44,
   "id": "f137a9d3",
   "metadata": {},
   "outputs": [
    {
     "data": {
      "text/plain": [
       "True"
      ]
     },
     "execution_count": 44,
     "metadata": {},
     "output_type": "execute_result"
    }
   ],
   "source": [
    "coordinates = [[1,2],[2,3],[3,4],[4,5],[5,6],[6,7]]\n",
    "checkStraightLine( coordinates)"
   ]
  },
  {
   "cell_type": "code",
   "execution_count": 45,
   "id": "8527163a",
   "metadata": {},
   "outputs": [],
   "source": [
    "def checkStraightLine(coordinates):\n",
    "        x0,y0=coordinates[0]\n",
    "        x1,y1=coordinates[1]\n",
    "        for x,y in coordinates[2:]:\n",
    "            if (y1-y0)*(x-x0)!=(y-y0)*(x1-x0):\n",
    "                return False\n",
    "\n",
    "        return True        "
   ]
  },
  {
   "cell_type": "code",
   "execution_count": null,
   "id": "77cc1cf0",
   "metadata": {},
   "outputs": [],
   "source": []
  }
 ],
 "metadata": {
  "kernelspec": {
   "display_name": "Python 3 (ipykernel)",
   "language": "python",
   "name": "python3"
  },
  "language_info": {
   "codemirror_mode": {
    "name": "ipython",
    "version": 3
   },
   "file_extension": ".py",
   "mimetype": "text/x-python",
   "name": "python",
   "nbconvert_exporter": "python",
   "pygments_lexer": "ipython3",
   "version": "3.10.9"
  }
 },
 "nbformat": 4,
 "nbformat_minor": 5
}
