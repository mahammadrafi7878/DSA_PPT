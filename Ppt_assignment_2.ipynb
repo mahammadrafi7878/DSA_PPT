{
 "cells": [
  {
   "cell_type": "markdown",
   "id": "934577d6",
   "metadata": {},
   "source": [
    "1. Given an integer array nums of 2n integers, group these integers into n pairs (a1, b1), (a2, b2),..., (an, bn) such that the sum of min(ai, bi) for all i is maximized. Return the maximized sum.\n",
    "\n",
    "**Example 1:**\n",
    "Input: nums = [1,4,3,2]\n",
    "Output: 4\n",
    "\n",
    "**Explanation:** All possible pairings (ignoring the ordering of elements) are:\n",
    "\n",
    "1. (1, 4), (2, 3) -> min(1, 4) + min(2, 3) = 1 + 2 = 3\n",
    "2. (1, 3), (2, 4) -> min(1, 3) + min(2, 4) = 1 + 2 = 3\n",
    "3. (1, 2), (3, 4) -> min(1, 2) + min(3, 4) = 1 + 3 = 4\n",
    "So the maximum possible sum is 4"
   ]
  },
  {
   "cell_type": "raw",
   "id": "6d83f299",
   "metadata": {},
   "source": [
    "#Alogorithm\n",
    "1.Target is sum(min(a1, b1), min(a2, b2), ... , min(an, bn)). \n",
    "\n",
    "2.The best order in given array is a1 < b1 < a2 < b2 < ... < an < bn.\n",
    "\n",
    "3.As a result, we sort the input array firstly.\n",
    "\n",
    "4.Then, add values at odd index of sorted array.\n",
    "\n",
    "\n",
    "\n",
    "\n",
    "Input: [1,4,3,2]\n",
    "\n",
    "Output: 4\n",
    "Explanation: n is 2, and the maximum sum of pairs is 4 = min(1, 2) + min(3, 4)."
   ]
  },
  {
   "cell_type": "code",
   "execution_count": 1,
   "id": "bbbab0d8",
   "metadata": {},
   "outputs": [],
   "source": [
    "def arrayPairSum(arr):\n",
    "    arr.sort()\n",
    "    result=0\n",
    "    \n",
    "    for i in range(0,len(arr)-1,2):\n",
    "        result=result+arr[i]\n",
    "        \n",
    "    return result\n",
    "\n",
    "#Time complexity =O(n log n +n)\n",
    "#space complexity=O(1)"
   ]
  },
  {
   "cell_type": "code",
   "execution_count": 2,
   "id": "669b9f2a",
   "metadata": {},
   "outputs": [],
   "source": [
    "nums=[1,4,3,2]"
   ]
  },
  {
   "cell_type": "code",
   "execution_count": 3,
   "id": "f2de9f4a",
   "metadata": {},
   "outputs": [
    {
     "data": {
      "text/plain": [
       "4"
      ]
     },
     "execution_count": 3,
     "metadata": {},
     "output_type": "execute_result"
    }
   ],
   "source": [
    "arrayPairSum(nums)"
   ]
  },
  {
   "cell_type": "markdown",
   "id": "5cff1ad9",
   "metadata": {},
   "source": [
    "2.Alice has n candies, where the ith candy is of type candyType[i]. Alice noticed that she started to gain weight, so she visited a doctor. \n",
    "\n",
    "The doctor advised Alice to only eat n / 2 of the candies she has (n is always even). Alice likes her candies very much, and she wants to eat the maximum number of different types of candies while still following the doctor's advice. \n",
    "\n",
    "Given the integer array candyType of length n, return the maximum number of different types of candies she can eat if she only eats n / 2 of them.\n",
    "\n",
    "Example 1:\n",
    "Input: candyType = [1,1,2,2,3,3]\n",
    "Output: 3\n",
    "\n",
    "Explanation: Alice can only eat 6 / 2 = 3 candies. Since there are only 3 types, she can eat one of each type."
   ]
  },
  {
   "cell_type": "code",
   "execution_count": 5,
   "id": "aa46e977",
   "metadata": {},
   "outputs": [],
   "source": [
    "#Iterartive approach\n",
    "\n",
    "def unique_candie(arr):\n",
    "    unique_val=0\n",
    "    \n",
    "    for i in range(len(arr)):\n",
    "        for j in range(0,i):\n",
    "            if arr[i]==arr[j]:\n",
    "                break\n",
    "            \n",
    "        else:\n",
    "            unique_val+=1\n",
    "            print(unique_val)\n",
    "            \n",
    "    return min(unique_val,len(arr)//2)\n",
    "\n",
    "#Time complexity =O(n2)\n",
    "#space complexity=O(1)"
   ]
  },
  {
   "cell_type": "code",
   "execution_count": 6,
   "id": "9a8c8365",
   "metadata": {},
   "outputs": [],
   "source": [
    "arr=[1,1,2,3,3,4]"
   ]
  },
  {
   "cell_type": "code",
   "execution_count": 7,
   "id": "e5b416bd",
   "metadata": {},
   "outputs": [
    {
     "name": "stdout",
     "output_type": "stream",
     "text": [
      "1\n",
      "2\n",
      "3\n",
      "4\n"
     ]
    },
    {
     "data": {
      "text/plain": [
       "3"
      ]
     },
     "execution_count": 7,
     "metadata": {},
     "output_type": "execute_result"
    }
   ],
   "source": [
    "unique_candie(arr)"
   ]
  },
  {
   "cell_type": "code",
   "execution_count": 34,
   "id": "d587d443",
   "metadata": {},
   "outputs": [],
   "source": [
    "#Using sorting approach\n",
    "\n",
    "def sort(arr):\n",
    "    arr.sort()\n",
    "    \n",
    "    uni_val=1\n",
    "    \n",
    "    for i in range(1,len(arr)):\n",
    "        if arr[i]!=arr[i-1]:\n",
    "            uni_val+=1\n",
    "            \n",
    "        if uni_val==len(arr)//2:\n",
    "            break\n",
    "    return min(uni_val,len(arr)//2)\n",
    "            \n",
    "    \n",
    "#Time complexity =O(n log n +n)\n",
    "#space complexity=O(1)"
   ]
  },
  {
   "cell_type": "code",
   "execution_count": 35,
   "id": "716fe531",
   "metadata": {},
   "outputs": [
    {
     "data": {
      "text/plain": [
       "3"
      ]
     },
     "execution_count": 35,
     "metadata": {},
     "output_type": "execute_result"
    }
   ],
   "source": [
    "sort(arr)"
   ]
  },
  {
   "cell_type": "code",
   "execution_count": 8,
   "id": "42ef0160",
   "metadata": {},
   "outputs": [],
   "source": [
    "#Using Hash map\n",
    "def hash_set(arr):\n",
    "    unique_val=len(set(arr))\n",
    "    return min(unique_val, len(arr)//2)\n",
    "\n",
    "#Time complexity =O(1)\n",
    "#space complexity=O(n)"
   ]
  },
  {
   "cell_type": "code",
   "execution_count": 9,
   "id": "48d66e91",
   "metadata": {},
   "outputs": [
    {
     "data": {
      "text/plain": [
       "3"
      ]
     },
     "execution_count": 9,
     "metadata": {},
     "output_type": "execute_result"
    }
   ],
   "source": [
    "hash_set(arr)"
   ]
  },
  {
   "cell_type": "markdown",
   "id": "ea4a9046",
   "metadata": {},
   "source": [
    "3.We define a harmonious array as an array where the difference between its maximum value\n",
    "and its minimum value is exactly 1.\n",
    "\n",
    "Given an integer array nums, return the length of its longest harmonious subsequence\n",
    "among all its possible subsequences.\n",
    "\n",
    "A subsequence of an array is a sequence that can be derived from the array by deleting some or no elements without changing the order of the remaining elements.\n",
    "\n",
    "Example 1:\n",
    "Input: nums = [1,3,2,2,5,2,3,7]\n",
    "Output: 5\n",
    "\n",
    "Explanation: The longest harmonious subsequence is [3,2,2,2,3]."
   ]
  },
  {
   "cell_type": "code",
   "execution_count": 10,
   "id": "aa8c9595",
   "metadata": {},
   "outputs": [],
   "source": [
    "def lhs(arr):\n",
    "    res=0\n",
    "    for i in range(0,len(arr)):\n",
    "        count=0\n",
    "        flag=False\n",
    "        for j in range(0,len(arr)):\n",
    "            if arr[j]==arr[i]:\n",
    "                count+=1\n",
    "                \n",
    "            elif arr[j]+1 == arr[i]:\n",
    "                count+=1\n",
    "                \n",
    "                flag=True\n",
    "        if flag:\n",
    "            res=max(count,res)\n",
    "            \n",
    "    return res\n",
    "\n",
    "#Time complexity =O(n*2)\n",
    "#space complexity=O(1)"
   ]
  },
  {
   "cell_type": "code",
   "execution_count": 11,
   "id": "a9e9735e",
   "metadata": {},
   "outputs": [],
   "source": [
    "nums = [1,3,2,2,5,2,3,7]"
   ]
  },
  {
   "cell_type": "code",
   "execution_count": 12,
   "id": "39a9472f",
   "metadata": {},
   "outputs": [
    {
     "data": {
      "text/plain": [
       "5"
      ]
     },
     "execution_count": 12,
     "metadata": {},
     "output_type": "execute_result"
    }
   ],
   "source": [
    "lhs(nums)"
   ]
  },
  {
   "cell_type": "code",
   "execution_count": 41,
   "id": "78e9fab5",
   "metadata": {},
   "outputs": [],
   "source": [
    "def findlhs(arr):\n",
    "    dt={}                             #using hash map\n",
    "    ans=0\n",
    "    \n",
    "    for i in arr:\n",
    "        if i not in dt:\n",
    "            dt[i]=1\n",
    "        else:\n",
    "            dt[i]+=1\n",
    "            \n",
    "    for i in dt:\n",
    "        if i+1 in dt.keys():\n",
    "            ans=max(ans,dt[i]+dt[i+1])\n",
    "    return ans\n",
    "\n",
    "#Time complexity =O(n)\n",
    "#space complexity=O(n)"
   ]
  },
  {
   "cell_type": "code",
   "execution_count": 42,
   "id": "541cce75",
   "metadata": {},
   "outputs": [
    {
     "data": {
      "text/plain": [
       "0"
      ]
     },
     "execution_count": 42,
     "metadata": {},
     "output_type": "execute_result"
    }
   ],
   "source": [
    "findlhs(nums)"
   ]
  },
  {
   "cell_type": "markdown",
   "id": "c9b56693",
   "metadata": {},
   "source": [
    "4.You have a long flowerbed in which some of the plots are planted, and some are not.\n",
    "However, flowers cannot be planted in adjacent plots.\n",
    "Given an integer array flowerbed containing 0's and 1's, where 0 means empty and 1 means not empty, and an integer n, return true if n new flowers can be planted in the flowerbed without violating the no-adjacent-flowers rule and false otherwise.\n",
    "\n",
    "Example 1:\n",
    "Input: flowerbed = [1,0,0,0,1], n = 1\n",
    "Output: true"
   ]
  },
  {
   "cell_type": "code",
   "execution_count": 43,
   "id": "3bd3800e",
   "metadata": {},
   "outputs": [],
   "source": [
    "def flower(arr,n):\n",
    "    count=0\n",
    "    \n",
    "    for i in range(len(arr)):\n",
    "        if arr[i]==0:\n",
    "            empty_left= (i==0) or (arr[i-1]==0)\n",
    "            empty_right= (i==len(arr)-1) or (arr[i+1]==0)\n",
    "            \n",
    "            if empty_left and empty_right:                      #single scan\n",
    "                arr[i]=1\n",
    "                count+=1\n",
    "                \n",
    "    return count>=n\n",
    "\n",
    "#Time complexity =O(n)\n",
    "#space complexity=O(1)"
   ]
  },
  {
   "cell_type": "code",
   "execution_count": 44,
   "id": "81bdacc7",
   "metadata": {},
   "outputs": [],
   "source": [
    "nums=[1,0,0,0,1]\n",
    "n=1"
   ]
  },
  {
   "cell_type": "code",
   "execution_count": 45,
   "id": "28c8ced9",
   "metadata": {},
   "outputs": [
    {
     "data": {
      "text/plain": [
       "True"
      ]
     },
     "execution_count": 45,
     "metadata": {},
     "output_type": "execute_result"
    }
   ],
   "source": [
    "flower(nums,n)"
   ]
  },
  {
   "cell_type": "code",
   "execution_count": 47,
   "id": "638b754c",
   "metadata": {},
   "outputs": [],
   "source": [
    "def flower2(arr,n):\n",
    "    s=len(arr)\n",
    "    new=[0]+arr+[0]\n",
    "    \n",
    "    for i in range(1,s+1):\n",
    "        if new[i]==new[i-1]==new[i+1]==0:\n",
    "            new[i]==1\n",
    "            n-=1\n",
    "            \n",
    "        if n<=0:\n",
    "            return True\n",
    "    return False\n",
    "\n",
    "#Time complexity =O(n)\n",
    "#space complexity=O(1)"
   ]
  },
  {
   "cell_type": "markdown",
   "id": "aa17a220",
   "metadata": {},
   "source": [
    "5.Given an integer array nums, find three numbers whose product is maximum and return the maximum product.\n",
    "\n",
    "Example 1:\n",
    "Input: nums = [1,2,3]\n",
    "Output: 6"
   ]
  },
  {
   "cell_type": "code",
   "execution_count": 23,
   "id": "b9dabcbc",
   "metadata": {},
   "outputs": [],
   "source": [
    " def maximumProduct( nums) -> int:\n",
    "        smallestTwo = [float('inf')]*2\n",
    "        largestThree = [float('-inf')]*3\n",
    "        for num in nums:\n",
    "            if num <= smallestTwo[0]:\n",
    "                smallestTwo[0] = num\n",
    "                smallestTwo.sort(reverse=True)\n",
    "            if num >= largestThree[0]:\n",
    "                largestThree[0] = num\n",
    "                largestThree.sort()\n",
    "        return max(smallestTwo[0]*smallestTwo[1]*largestThree[2], \n",
    "                   largestThree[0]*largestThree[1]*largestThree[2])\n",
    "    \n",
    "    \n",
    "#Time complexity =O(n)\n",
    "#space complexity=O(1)"
   ]
  },
  {
   "cell_type": "code",
   "execution_count": 24,
   "id": "02eff3a8",
   "metadata": {},
   "outputs": [
    {
     "data": {
      "text/plain": [
       "60"
      ]
     },
     "execution_count": 24,
     "metadata": {},
     "output_type": "execute_result"
    }
   ],
   "source": [
    "maximumProduct(k)"
   ]
  },
  {
   "cell_type": "markdown",
   "id": "ce196eff",
   "metadata": {},
   "source": [
    "6.Given an array of integers nums which is sorted in ascending order, and an integer target,\n",
    "write a function to search target in nums. If target exists, then return its index. Otherwise,\n",
    "return -1.\n",
    "\n",
    "You must write an algorithm with O(log n) runtime complexity.\n",
    "\n",
    "Input: nums = [-1,0,3,5,9,12], target = 9\n",
    "Output: 4\n",
    "\n",
    "Explanation: 9 exists in nums and its index is 4"
   ]
  },
  {
   "cell_type": "code",
   "execution_count": 48,
   "id": "7bb9c452",
   "metadata": {},
   "outputs": [],
   "source": [
    "def search_number(arr,tar):\n",
    "    s=0\n",
    "    e=len(arr)-1\n",
    "    \n",
    "    while s<e:\n",
    "        mid=(s+e)//2\n",
    "        if arr[mid]==tar:\n",
    "            return mid\n",
    "        elif arr[mid]<tar:\n",
    "            s=s+1\n",
    "            \n",
    "        else:\n",
    "            ans=mid\n",
    "            e=e-1\n",
    "            \n",
    "    return ans\n",
    "       \n",
    "#Time complexity =O(log n)\n",
    "#space complexity=O(1)\n",
    "        "
   ]
  },
  {
   "cell_type": "code",
   "execution_count": 49,
   "id": "be6f8300",
   "metadata": {},
   "outputs": [],
   "source": [
    "nums = [-1,0,3,5,9,12]\n",
    "target = 0"
   ]
  },
  {
   "cell_type": "code",
   "execution_count": 50,
   "id": "83fd311c",
   "metadata": {},
   "outputs": [
    {
     "data": {
      "text/plain": [
       "1"
      ]
     },
     "execution_count": 50,
     "metadata": {},
     "output_type": "execute_result"
    }
   ],
   "source": [
    "search_number(nums,target)"
   ]
  },
  {
   "cell_type": "markdown",
   "id": "d60b6ef9",
   "metadata": {},
   "source": [
    "Question 7\n",
    "An array is monotonic if it is either monotone increasing or monotone decreasing.\n",
    "\n",
    "An array nums is monotone increasing if for all i <= j, nums[i] <= nums[j]. An array nums is\n",
    "monotone decreasing if for all i <= j, nums[i] >= nums[j].\n",
    "\n",
    "Given an integer array nums, return true if the given array is monotonic, or false otherwise.\n",
    "\n",
    "Example 1:\n",
    "Input: nums = [1,2,2,3]\n",
    "Output: true"
   ]
  },
  {
   "cell_type": "code",
   "execution_count": 51,
   "id": "d8c6211e",
   "metadata": {},
   "outputs": [],
   "source": [
    "def mono(arr):\n",
    "    return (all(arr[i]<=arr[i+1] for  i in range(len(arr)-1)) or      #two pass \n",
    "           all(arr[i]>=arr[i+1] for i in range(len(arr)-1)))\n",
    "    \n",
    "#Time complexity =O(1)\n",
    "#space complexity=O(1)"
   ]
  },
  {
   "cell_type": "code",
   "execution_count": 52,
   "id": "3974d859",
   "metadata": {},
   "outputs": [],
   "source": [
    "nums = [1,4,3,2,1]"
   ]
  },
  {
   "cell_type": "code",
   "execution_count": 53,
   "id": "dfca8b90",
   "metadata": {},
   "outputs": [
    {
     "data": {
      "text/plain": [
       "False"
      ]
     },
     "execution_count": 53,
     "metadata": {},
     "output_type": "execute_result"
    }
   ],
   "source": [
    "mono(nums)"
   ]
  },
  {
   "cell_type": "code",
   "execution_count": 55,
   "id": "fa8bf9cc",
   "metadata": {},
   "outputs": [],
   "source": [
    "#one pass simpe variant\n",
    "\n",
    "def ismono(arr):\n",
    "    incre=decre=True\n",
    "    \n",
    "    for i in range(len(arr)-1):\n",
    "        if arr[i]>arr[i+1]:\n",
    "            incre=False\n",
    "        elif arr[i]<arr[i+1]:\n",
    "            decre=False\n",
    "            \n",
    "    return incre or decre\n",
    "\n",
    "#Time complexity =O(n)\n",
    "#space complexity=O(1)"
   ]
  },
  {
   "cell_type": "code",
   "execution_count": 56,
   "id": "5bb1094a",
   "metadata": {},
   "outputs": [
    {
     "data": {
      "text/plain": [
       "False"
      ]
     },
     "execution_count": 56,
     "metadata": {},
     "output_type": "execute_result"
    }
   ],
   "source": [
    "ismono(nums)"
   ]
  },
  {
   "cell_type": "markdown",
   "id": "8f844883",
   "metadata": {},
   "source": [
    "8.You are given an integer array nums and an integer k.\n",
    "\n",
    "In one operation, you can choose any index i where 0 <= i < nums.length and change nums[i] to nums[i] + x where x is an integer from the range [-k, k]. You can apply this operation at most once for each index i.\n",
    "\n",
    "The score of nums is the difference between the maximum and minimum elements in nums.\n",
    "\n",
    "Return the minimum score of nums after applying the mentioned operation at most once for each index in it.\n",
    "\n",
    "Example 1:\n",
    "Input: nums = [1], k = 0\n",
    "Output: 0\n",
    "\n",
    "Explanation: The score is max(nums) - min(nums) = 1 - 1 = 0."
   ]
  },
  {
   "cell_type": "code",
   "execution_count": 57,
   "id": "83132a27",
   "metadata": {},
   "outputs": [],
   "source": [
    "def smallestRange( nums, k):\n",
    "        if len(nums) == 1:\n",
    "            return 0\n",
    "\n",
    "        if (max(nums) - k) - (min(nums) + k ) <= 0:\n",
    "            return 0\n",
    "        else:\n",
    "            return (max(nums) - k) - (min(nums) + k )\n",
    "        \n",
    "        \n",
    "#Time complexity =O(1)\n",
    "#space complexity=O(1)"
   ]
  },
  {
   "cell_type": "code",
   "execution_count": 58,
   "id": "375ac22d",
   "metadata": {},
   "outputs": [
    {
     "data": {
      "text/plain": [
       "0"
      ]
     },
     "execution_count": 58,
     "metadata": {},
     "output_type": "execute_result"
    }
   ],
   "source": [
    "nums = [1]\n",
    "k=0\n",
    "smallestRange(nums,k)"
   ]
  },
  {
   "cell_type": "code",
   "execution_count": null,
   "id": "bb519fab",
   "metadata": {},
   "outputs": [],
   "source": []
  }
 ],
 "metadata": {
  "kernelspec": {
   "display_name": "Python 3 (ipykernel)",
   "language": "python",
   "name": "python3"
  },
  "language_info": {
   "codemirror_mode": {
    "name": "ipython",
    "version": 3
   },
   "file_extension": ".py",
   "mimetype": "text/x-python",
   "name": "python",
   "nbconvert_exporter": "python",
   "pygments_lexer": "ipython3",
   "version": "3.10.9"
  }
 },
 "nbformat": 4,
 "nbformat_minor": 5
}
