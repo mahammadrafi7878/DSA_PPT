{
 "cells": [
  {
   "cell_type": "markdown",
   "id": "f7a77cc0",
   "metadata": {},
   "source": [
    "1.Given two strings s1 and s2, return *the lowest **ASCII** sum of deleted characters to make two strings equal*.\n",
    "\n",
    "**Example 1:**\n",
    "\n",
    "**Input:** s1 = \"sea\", s2 = \"eat\"\n",
    "\n",
    "**Output:** 231\n",
    "\n",
    "**Explanation:** Deleting \"s\" from \"sea\" adds the ASCII value of \"s\" (115) to the sum.\n",
    "\n",
    "Deleting \"t\" from \"eat\" adds 116 to the sum.\n",
    "\n",
    "At the end, both strings are equal, and 115 + 116 = 231 is the minimum sum possible to achieve this."
   ]
  },
  {
   "cell_type": "code",
   "execution_count": 16,
   "id": "0cad2205",
   "metadata": {},
   "outputs": [],
   "source": [
    "def minimumDeleteSum(s1, s2):\n",
    "\n",
    "        \n",
    "        def compute_cost(i, j):\n",
    "\n",
    "           \n",
    "            if i < 0:\n",
    "                delete_cost = 0\n",
    "                for pointer in range(j+1):\n",
    "                    delete_cost += ord(s2[pointer])\n",
    "                return delete_cost\n",
    "            \n",
    "            \n",
    "            if j < 0:\n",
    "                delete_cost = 0\n",
    "                for pointer in range(i+1):\n",
    "                    delete_cost += ord(s1[pointer])\n",
    "                return delete_cost\n",
    "            \n",
    "            \n",
    "            if s1[i] == s2[j]:\n",
    "                return compute_cost(i-1, j-1)\n",
    "            else:\n",
    "                return min(\n",
    "                    ord(s1[i]) + compute_cost(i-1, j),\n",
    "                    ord(s2[j]) + compute_cost(i, j-1),\n",
    "                    ord(s1[i]) + ord(s2[j]) + compute_cost(i-1, j-1)\n",
    "                )\n",
    "        \n",
    "        \n",
    "        return compute_cost(len(s1)-1, len(s2)-1)"
   ]
  },
  {
   "cell_type": "code",
   "execution_count": 17,
   "id": "9eae97ac",
   "metadata": {},
   "outputs": [
    {
     "data": {
      "text/plain": [
       "231"
      ]
     },
     "execution_count": 17,
     "metadata": {},
     "output_type": "execute_result"
    }
   ],
   "source": [
    "s1 = \"sea\"\n",
    "s2 = \"eat\"\n",
    "minimumDeleteSum(s1, s2)"
   ]
  },
  {
   "cell_type": "code",
   "execution_count": 5,
   "id": "7442c2f1",
   "metadata": {},
   "outputs": [],
   "source": [
    "def mindele(s1,s2):\n",
    "    saved_result={}\n",
    "    def cost_sum(i,j):\n",
    "        if i<0 and j<0:\n",
    "            return 0\n",
    "        \n",
    "        if (i,j) in saved_result:\n",
    "            return saved_result[(i,j)]\n",
    "        \n",
    "        if i<0:\n",
    "            saved_result[(i,j)]= ord(s2[j])+cost_sum(i,j-1)\n",
    "            return saved_result[(i,j)]\n",
    "        \n",
    "        if j<0:\n",
    "            saved_result[(i,j)]=ord(s1[i])+cost_sum(i_1,j)\n",
    "            return saved_result[(i,j)]\n",
    "        \n",
    "        if s1[i]==s2[j]:\n",
    "            saved_result[(i,j)]=cost_sum(i-1,j-1)\n",
    "            \n",
    "            \n",
    "        else:\n",
    "            saved_result[(i, j)] = min(\n",
    "                    ord(s1[i]) + compute_cost(i-1, j),\n",
    "                    ord(s2[j]) + compute_cost(i, j-1)\n",
    "                )\n",
    "\n",
    "            return saved_result[(i, j)]\n",
    "\n",
    "        # Return the result of the main problem\n",
    "        return compute_cost(len(s1)-1, len(s2)-1)\n",
    "            "
   ]
  },
  {
   "cell_type": "markdown",
   "id": "68f4a56b",
   "metadata": {},
   "source": [
    "2.Given a string s containing only three types of characters: '(', ')' and '*', return true *if* s *is **valid***.\n",
    "\n",
    "The following rules define a **valid** string:\n",
    "\n",
    "- Any left parenthesis '(' must have a corresponding right parenthesis ')'.\n",
    "- Any right parenthesis ')' must have a corresponding left parenthesis '('.\n",
    "- Left parenthesis '(' must go before the corresponding right parenthesis ')'.\n",
    "- '*' could be treated as a single right parenthesis ')' or a single left parenthesis '(' or an empty string \"\".\n",
    "\n",
    "**Example 1:**\n",
    "\n",
    "**Input:** s = \"()\"\n",
    "\n",
    "**Output:**\n",
    "\n",
    "true"
   ]
  },
  {
   "cell_type": "code",
   "execution_count": 24,
   "id": "7a35fd00",
   "metadata": {},
   "outputs": [],
   "source": [
    "def check_valid(st):\n",
    "    stk1=[]\n",
    "    stk2=[]\n",
    "    \n",
    "    for i,c in enumerate(st):\n",
    "        if c=='(':\n",
    "            stk1.append(i)\n",
    "        elif c ==')':\n",
    "            if stk1:\n",
    "                stk1.pop()\n",
    "            elif stk2:\n",
    "                stk2.pop()\n",
    "                \n",
    "            else:\n",
    "                return False\n",
    "        else:\n",
    "            stk2.append(i)\n",
    "            \n",
    "        while stk1 and stk2:\n",
    "            if stk1[-1]>stk2[-1]:\n",
    "                return False\n",
    "            \n",
    "            stk1.pop()\n",
    "            stk2.pop()\n",
    "            \n",
    "    return len(stk1)==0"
   ]
  },
  {
   "cell_type": "code",
   "execution_count": 25,
   "id": "a48746f5",
   "metadata": {},
   "outputs": [
    {
     "data": {
      "text/plain": [
       "True"
      ]
     },
     "execution_count": 25,
     "metadata": {},
     "output_type": "execute_result"
    }
   ],
   "source": [
    "s = \"()\"\n",
    "check_valid(s)"
   ]
  },
  {
   "cell_type": "markdown",
   "id": "2b2f2f24",
   "metadata": {},
   "source": [
    "3.Given two strings word1 and word2, return *the minimum number of **steps** required to make* word1 *and* word2 *the same*.\n",
    "\n",
    "In one **step**, you can delete exactly one character in either string.\n",
    "\n",
    "**Example 1:**\n",
    "\n",
    "**Input:** word1 = \"sea\", word2 = \"eat\"\n",
    "\n",
    "**Output:** 2\n",
    "\n",
    "**Explanation:** You need one step to make \"sea\" to \"ea\" and another step to make \"eat\" to \"ea\"."
   ]
  },
  {
   "cell_type": "raw",
   "id": "c21748c2",
   "metadata": {},
   "source": [
    "#ALGORITHM\n",
    "Get the lengths of the two input strings and store them in variables m and n.\n",
    "Initialize a dynamic programming table dp of size (m + 1) x (n + 1) with all entries initialized to 0.\n",
    "Use a nested loop to iterate over all entries of the dynamic programming table dp.\n",
    "If the characters word1[i-1] and word2[j-1] are the same, set dp[i][j] to be one greater than dp[i-1][j-1].\n",
    "Otherwise, set dp[i][j] to be the maximum of dp[i-1][j] and dp[i][j-1].\n",
    "After the loop completes, return the minimum number of deletions required to convert word1 to word2. This is equal to m + n - 2 * dp[m][n]."
   ]
  },
  {
   "cell_type": "code",
   "execution_count": 46,
   "id": "fec0e593",
   "metadata": {},
   "outputs": [],
   "source": [
    "def minDistance( word1, word2):\n",
    "        m, n = len(word1), len(word2)\n",
    "        dp = [[0] * (n + 1) for _ in range(m + 1)]\n",
    "        \n",
    "       \n",
    "        for i in range(1, m + 1):\n",
    "            for j in range(1, n + 1):\n",
    "                if word1[i - 1] == word2[j - 1]:\n",
    "                    dp[i][j] = dp[i - 1][j - 1] + 1\n",
    "                else:\n",
    "                    dp[i][j] = max(dp[i - 1][j], dp[i][j - 1])\n",
    "        \n",
    "       \n",
    "        return m + n - 2 * dp[m][n]"
   ]
  },
  {
   "cell_type": "code",
   "execution_count": 62,
   "id": "772f32c7",
   "metadata": {},
   "outputs": [
    {
     "data": {
      "text/plain": [
       "2"
      ]
     },
     "execution_count": 62,
     "metadata": {},
     "output_type": "execute_result"
    }
   ],
   "source": [
    "word1 = \"sea\"\n",
    "word2 = \"eat\"\n",
    "minDistance(word1,word2)"
   ]
  },
  {
   "cell_type": "markdown",
   "id": "d78e0ed9",
   "metadata": {},
   "source": [
    "4.You need to construct a binary tree from a string consisting of parenthesis and integers.\n",
    "\n",
    "The whole input represents a binary tree. It contains an integer followed by zero, one or two pairs of parenthesis. The integer represents the root's value and a pair of parenthesis contains a child binary tree with the same structure.\n",
    "You always start to construct the **left** child node of the parent first if it exists.\n",
    "\n",
    "**Input:** s = \"4(2(3)(1))(6(5))\"\n",
    "\n",
    "**Output:** [4,2,6,3,1,5]"
   ]
  },
  {
   "cell_type": "code",
   "execution_count": 5,
   "id": "aad574fb",
   "metadata": {},
   "outputs": [],
   "source": [
    "class TreeNode(object):\n",
    "    def __init__(self, val=0, left=None, right=None):\n",
    "        self.val = val\n",
    "        self.left = left\n",
    "        self.right = right\n",
    "        \n",
    "def tree2str(self, root):\n",
    "\n",
    "    def dfs(node):\n",
    "        if not node:\n",
    "            return ''\n",
    "\n",
    "        left = dfs(node.left)\n",
    "        right = dfs(node.right)\n",
    "\n",
    "        #  if its not a leaf node, then left child should not be omitted\n",
    "        #  it should give an empty bracket\n",
    "        if (node.left or node.right) and not left:\n",
    "            left = \"()\"\n",
    "\n",
    "        return f'({node.val}{left}{right})'\n",
    "\n",
    "    # remove extra brackets around result\n",
    "    return dfs(root)[1: -1]"
   ]
  },
  {
   "cell_type": "markdown",
   "id": "2c5ccca8",
   "metadata": {},
   "source": [
    "5.Given an array of characters chars, compress it using the following algorithm:\n",
    "\n",
    "Begin with an empty string s. For each group of **consecutive repeating characters** in chars:\n",
    "\n",
    "- If the group's length is 1, append the character to s.\n",
    "- Otherwise, append the character followed by the group's length.\n",
    "\n",
    "The compressed string s **should not be returned separately**, but instead, be stored **in the input character array chars**. Note that group lengths that are 10 or longer will be split into multiple characters in chars.\n",
    "\n",
    "After you are done **modifying the input array,** return *the new length of the array*.\n",
    "\n",
    "You must write an algorithm that uses only constant extra space.\n",
    "\n",
    "**Example 1:**\n",
    "\n",
    "**Input:** chars = [\"a\",\"a\",\"b\",\"b\",\"c\",\"c\",\"c\"]\n",
    "\n",
    "**Output:** Return 6, and the first 6 characters of the input array should be: [\"a\",\"2\",\"b\",\"2\",\"c\",\"3\"]\n",
    "\n",
    "**Explanation:**\n",
    "\n",
    "The groups are \"aa\", \"bb\", and \"ccc\". This compresses to \"a2b2c3\"."
   ]
  },
  {
   "cell_type": "code",
   "execution_count": 6,
   "id": "937277b6",
   "metadata": {},
   "outputs": [],
   "source": [
    "def compress(chars):\n",
    "        runner = 0\n",
    "        walker=0 \n",
    "        \n",
    "        while runner < len(chars):\n",
    "\n",
    "            chars[walker] = chars[runner]\n",
    "            count = 1\n",
    "\n",
    "            while runner + 1 < len(chars) and chars[runner] == chars[runner+1]:\n",
    "                runner += 1\n",
    "                count += 1\n",
    "\n",
    "            if count > 1:\n",
    "                for c in str(count):\n",
    "                    chars[walker+1] = c\n",
    "                    walker += 1\n",
    "            \n",
    "            runner += 1\n",
    "            walker += 1\n",
    "        \n",
    "        return walker"
   ]
  },
  {
   "cell_type": "code",
   "execution_count": 7,
   "id": "ea974776",
   "metadata": {},
   "outputs": [
    {
     "data": {
      "text/plain": [
       "6"
      ]
     },
     "execution_count": 7,
     "metadata": {},
     "output_type": "execute_result"
    }
   ],
   "source": [
    "chars = [\"a\",\"a\",\"b\",\"b\",\"c\",\"c\",\"c\"]\n",
    "compress(chars)"
   ]
  },
  {
   "cell_type": "code",
   "execution_count": null,
   "id": "d1a47fd0",
   "metadata": {},
   "outputs": [],
   "source": []
  },
  {
   "cell_type": "markdown",
   "id": "59f306b0",
   "metadata": {},
   "source": [
    "<aside>\n",
    "💡 **Question 6**\n",
    "\n",
    "Given two strings s and p, return *an array of all the start indices of* p*'s anagrams in* s. You may return the answer in **any order**.\n",
    "\n",
    "An **Anagram** is a word or phrase formed by rearranging the letters of a different word or phrase, typically using all the original letters exactly once.\n",
    "\n",
    "**Example 1:**\n",
    "\n",
    "**Input:** s = \"cbaebabacd\", p = \"abc\"\n",
    "\n",
    "**Output:** [0,6]\n",
    "\n",
    "**Explanation:**\n",
    "\n",
    "The substring with start index = 0 is \"cba\", which is an anagram of \"abc\".\n",
    "\n",
    "The substring with start index = 6 is \"bac\", which is an anagram of \"abc\".\n",
    "\n",
    "</aside>"
   ]
  },
  {
   "cell_type": "code",
   "execution_count": 9,
   "id": "229becc3",
   "metadata": {},
   "outputs": [],
   "source": [
    "from collections import Counter\n",
    "from typing import List\n",
    "\n",
    "def findAnagrams(s, p):\n",
    "        ans = []\n",
    "        count = Counter(p)\n",
    "        required = len(p)\n",
    "\n",
    "        for r, c in enumerate(s):\n",
    "            count[c] -= 1\n",
    "            if count[c] >= 0:\n",
    "                required -= 1\n",
    "            if r >= len(p):\n",
    "                left_char = s[r - len(p)]\n",
    "                count[left_char] += 1\n",
    "                if count[left_char] > 0:\n",
    "                    required += 1\n",
    "            if required == 0:\n",
    "                ans.append(r - len(p) + 1)\n",
    "\n",
    "        return ans\n",
    "    "
   ]
  },
  {
   "cell_type": "code",
   "execution_count": 11,
   "id": "9d1fd509",
   "metadata": {},
   "outputs": [
    {
     "data": {
      "text/plain": [
       "[0, 6]"
      ]
     },
     "execution_count": 11,
     "metadata": {},
     "output_type": "execute_result"
    }
   ],
   "source": [
    "s = \"cbaebabacd\"\n",
    "p = \"abc\"\n",
    "findAnagrams(s, p)"
   ]
  },
  {
   "cell_type": "markdown",
   "id": "1ac2c232",
   "metadata": {},
   "source": [
    "<aside>\n",
    "💡 **Question 7**\n",
    "\n",
    "Given an encoded string, return its decoded string.\n",
    "\n",
    "The encoding rule is: k[encoded_string], where the encoded_string inside the square brackets is being repeated exactly k times. Note that k is guaranteed to be a positive integer.\n",
    "\n",
    "You may assume that the input string is always valid; there are no extra white spaces, square brackets are well-formed, etc. Furthermore, you may assume that the original data does not contain any digits and that digits are only for those repeat numbers, k. For example, there will not be input like 3a or 2[4].\n",
    "\n",
    "The test cases are generated so that the length of the output will never exceed 105.\n",
    "\n",
    "**Example 1:**\n",
    "\n",
    "**Input:** s = \"3[a]2[bc]\"\n",
    "\n",
    "**Output:** \"aaabcbc\"\n",
    "\n",
    "</aside>"
   ]
  },
  {
   "cell_type": "code",
   "execution_count": 13,
   "id": "9fc2a023",
   "metadata": {},
   "outputs": [],
   "source": [
    "def decodeString(s):\n",
    "       \n",
    "        stack = []\n",
    "        for i in range(len(s)):\n",
    "            if not stack:\n",
    "                stack.append(s[i])\n",
    "                continue\n",
    "            if s[i] == ']':\n",
    "                currStr = ''\n",
    "                while stack:\n",
    "                    currChar = stack.pop()\n",
    "                    if currChar == '[':\n",
    "                        count = 0\n",
    "                        power = 1\n",
    "                        while stack:\n",
    "                            n = stack.pop()\n",
    "                            if not n.isnumeric():\n",
    "                                stack.append(n)\n",
    "                                break\n",
    "                            count += int(n)*power\n",
    "                            power *= 10\n",
    "                        currStr *= count\n",
    "                        stack.extend([c for c in currStr])\n",
    "                        break\n",
    "                    currStr = currChar + currStr\n",
    "            else:\n",
    "                stack.append(s[i])\n",
    "\n",
    "        return ''.join(stack)"
   ]
  },
  {
   "cell_type": "code",
   "execution_count": 14,
   "id": "f2cef121",
   "metadata": {},
   "outputs": [
    {
     "data": {
      "text/plain": [
       "'aaabcbc'"
      ]
     },
     "execution_count": 14,
     "metadata": {},
     "output_type": "execute_result"
    }
   ],
   "source": [
    "s = \"3[a]2[bc]\"\n",
    "decodeString(s)"
   ]
  },
  {
   "cell_type": "markdown",
   "id": "6406f684",
   "metadata": {},
   "source": [
    "<aside>\n",
    "💡 **Question 8**\n",
    "\n",
    "Given two strings s and goal, return true *if you can swap two letters in* s *so the result is equal to* goal*, otherwise, return* false*.*\n",
    "\n",
    "Swapping letters is defined as taking two indices i and j (0-indexed) such that i != j and swapping the characters at s[i] and s[j].\n",
    "\n",
    "- For example, swapping at indices 0 and 2 in \"abcd\" results in \"cbad\".\n",
    "\n",
    "**Example 1:**\n",
    "\n",
    "**Input:** s = \"ab\", goal = \"ba\"\n",
    "\n",
    "**Output:** true\n",
    "\n",
    "**Explanation:** You can swap s[0] = 'a' and s[1] = 'b' to get \"ba\", which is equal to goal.\n",
    "\n",
    "</aside>"
   ]
  },
  {
   "cell_type": "code",
   "execution_count": 15,
   "id": "41af6967",
   "metadata": {},
   "outputs": [],
   "source": [
    "def buddyStrings(s, goal):\n",
    "        if len(s) != len(goal):\n",
    "            return False\n",
    "\n",
    "        # 2 - not swapped, 1 - found symbols to swap, 0 - swapped, no more swaps available\n",
    "        swapStage, swap1, swap2 = 2, None, None\n",
    "        # need find at most one duplicate for case if all symbols are equal to swap it yourself\n",
    "        isDup, seen,  = False, set()\n",
    "        \n",
    "        for a, b in zip(s, goal):\n",
    "            if a != b:\n",
    "                if swapStage == 0: return False # more than 1 different symbols\n",
    "                if swapStage == 2:\n",
    "                    swap1, swap2 = a, b\n",
    "                    swapStage = 1\n",
    "                    continue\n",
    "                if a != swap2 or b != swap1: return False\n",
    "                swapStage = 0\n",
    "            \n",
    "            if a in seen: isDup = True\n",
    "            else: seen.add(a)\n",
    "\n",
    "        return swapStage == 0 or (swapStage == 2 and isDup)"
   ]
  },
  {
   "cell_type": "code",
   "execution_count": 16,
   "id": "4c484aca",
   "metadata": {},
   "outputs": [
    {
     "data": {
      "text/plain": [
       "True"
      ]
     },
     "execution_count": 16,
     "metadata": {},
     "output_type": "execute_result"
    }
   ],
   "source": [
    "s = \"ab\"\n",
    "goal = \"ba\"\n",
    "buddyStrings(s,goal)"
   ]
  },
  {
   "cell_type": "code",
   "execution_count": null,
   "id": "c39e4487",
   "metadata": {},
   "outputs": [],
   "source": []
  }
 ],
 "metadata": {
  "kernelspec": {
   "display_name": "Python 3 (ipykernel)",
   "language": "python",
   "name": "python3"
  },
  "language_info": {
   "codemirror_mode": {
    "name": "ipython",
    "version": 3
   },
   "file_extension": ".py",
   "mimetype": "text/x-python",
   "name": "python",
   "nbconvert_exporter": "python",
   "pygments_lexer": "ipython3",
   "version": "3.10.9"
  }
 },
 "nbformat": 4,
 "nbformat_minor": 5
}
