{
 "cells": [
  {
   "cell_type": "markdown",
   "id": "169e1a64",
   "metadata": {},
   "source": [
    "**Question 1**\n",
    "Given three integer arrays arr1, arr2 and arr3 **sorted** in **strictly increasing** order, return a sorted array of **only** the integers that appeared in **all** three arrays.\n",
    "\n",
    "**Example 1:**\n",
    "\n",
    "Input: arr1 = [1,2,3,4,5], arr2 = [1,2,5,7,9], arr3 = [1,3,4,5,8]\n",
    "\n",
    "Output: [1,5]\n",
    "\n",
    "**Explanation:** Only 1 and 5 appeared in the three arrays.\n"
   ]
  },
  {
   "cell_type": "code",
   "execution_count": 41,
   "id": "0410db1c",
   "metadata": {},
   "outputs": [],
   "source": [
    "def ele_present(arr1,arr2,arr3):\n",
    "    res=[]\n",
    "    for ele in arr1:\n",
    "        if ele in arr2 and ele in arr3:\n",
    "            res.append(ele)\n",
    "            \n",
    "    return res\n",
    "\n",
    "#Time complexity =O(n)\n",
    "#space complexity=O(1)"
   ]
  },
  {
   "cell_type": "code",
   "execution_count": 42,
   "id": "9bce6de2",
   "metadata": {},
   "outputs": [],
   "source": [
    "arr1 = [1,2,3,4,5,10]\n",
    "arr2 = [1,2,5,7,9,10]\n",
    "arr3 = [1,3,4,10,5,8]"
   ]
  },
  {
   "cell_type": "code",
   "execution_count": 43,
   "id": "4aff0a0a",
   "metadata": {},
   "outputs": [
    {
     "data": {
      "text/plain": [
       "[1, 5, 10]"
      ]
     },
     "execution_count": 43,
     "metadata": {},
     "output_type": "execute_result"
    }
   ],
   "source": [
    "ele_present(arr1,arr2,arr3)"
   ]
  },
  {
   "cell_type": "code",
   "execution_count": 45,
   "id": "ce73981c",
   "metadata": {},
   "outputs": [],
   "source": [
    "def ele_pre_2(arr1,arr2,arr3):\n",
    "    n1=len(arr1)\n",
    "    n2=len(arr2)\n",
    "    n3=len(arr3)\n",
    "    \n",
    "    i,j,k=0,0,0\n",
    "    \n",
    "    while (i<n1 and j<n2 and k<n3):\n",
    "        if arr1[i]==arr2[j]==arr3[k] :\n",
    "            print(arr1[i])\n",
    "            \n",
    "            i+=1\n",
    "            j+=1\n",
    "            k+=1\n",
    "        \n",
    "        elif arr1[i]<arr2[j]:\n",
    "            i+=1 \n",
    "            \n",
    "        elif arr2[j]<arr3[k]:\n",
    "            j+=1\n",
    "            \n",
    "        else:\n",
    "            k+=1\n",
    "            \n",
    "#Time complexity =O(n)\n",
    "#space complexity=O(1)"
   ]
  },
  {
   "cell_type": "code",
   "execution_count": 46,
   "id": "6ba5f322",
   "metadata": {},
   "outputs": [
    {
     "name": "stdout",
     "output_type": "stream",
     "text": [
      "1\n",
      "10\n"
     ]
    }
   ],
   "source": [
    "ele_pre_2(arr1,arr2,arr3)"
   ]
  },
  {
   "cell_type": "markdown",
   "id": "deaf4a84",
   "metadata": {},
   "source": [
    "2.Given two **0-indexed** integer arrays nums1 and nums2, return *a list* answer *of size* 2 *where:*\n",
    "\n",
    "- answer[0] *is a list of all **distinct** integers in* nums1 *which are **not** present in* nums2*.*\n",
    "- answer[1] *is a list of all **distinct** integers in* nums2 *which are **not** present in* nums1.\n",
    "\n",
    "**Note** that the integers in the lists may be returned in **any** order.\n",
    "\n",
    "**Example 1:**\n",
    "\n",
    "**Input:** nums1 = [1,2,3], nums2 = [2,4,6]\n",
    "\n",
    "**Output:** [[1,3],[4,6]]\n",
    "\n",
    "**Explanation:**\n",
    "\n",
    "For nums1, nums1[1] = 2 is present at index 0 of nums2, whereas nums1[0] = 1 and nums1[2] = 3 are not present in nums2. Therefore, answer[0] = [1,3].\n",
    "\n",
    "For nums2, nums2[0] = 2 is present at index 1 of nums1, whereas nums2[1] = 4 and nums2[2] = 6 are not present in nums2. Therefore, answer[1] = [4,6]."
   ]
  },
  {
   "cell_type": "code",
   "execution_count": 47,
   "id": "ff710291",
   "metadata": {},
   "outputs": [],
   "source": [
    "def not_common(l1,l2):\n",
    "    new=[]\n",
    "    for i in l1:\n",
    "        exist=False\n",
    "        for j in l2:\n",
    "            if i==j:\n",
    "                exist=True\n",
    "                break\n",
    "        if exist!=True:\n",
    "            new.append(i)\n",
    "    return new\n",
    "\n",
    "#Time complexity =O(n*2)\n",
    "#space complexity=O(1)"
   ]
  },
  {
   "cell_type": "code",
   "execution_count": 48,
   "id": "aa0845df",
   "metadata": {},
   "outputs": [],
   "source": [
    "nums1 = [1,2,3]\n",
    "nums2 = [2,4,6]"
   ]
  },
  {
   "cell_type": "code",
   "execution_count": 49,
   "id": "cb5f8a7f",
   "metadata": {},
   "outputs": [
    {
     "data": {
      "text/plain": [
       "[1, 3]"
      ]
     },
     "execution_count": 49,
     "metadata": {},
     "output_type": "execute_result"
    }
   ],
   "source": [
    "not_common(nums1,nums2)"
   ]
  },
  {
   "cell_type": "code",
   "execution_count": 50,
   "id": "64ed930c",
   "metadata": {},
   "outputs": [
    {
     "data": {
      "text/plain": [
       "[4, 6]"
      ]
     },
     "execution_count": 50,
     "metadata": {},
     "output_type": "execute_result"
    }
   ],
   "source": [
    "not_common(nums2,nums1)"
   ]
  },
  {
   "cell_type": "code",
   "execution_count": 51,
   "id": "56a6d62f",
   "metadata": {},
   "outputs": [],
   "source": [
    "def find_com2(l1,l2):\n",
    "    s1=list(set(l1))\n",
    "    s2=list(set(l2))\n",
    "    l=[]\n",
    "    \n",
    "    nl1=[]\n",
    "    nl2=[]\n",
    "    \n",
    "    for i in range(len(s1)):\n",
    "        if s1[i] not in l2:\n",
    "            nl1.append(s1[i])\n",
    "    for i in range(len(s2)):\n",
    "        if s2[i] not in l1:\n",
    "            nl2.append(s2[i])\n",
    "    l.append(nl1)\n",
    "    l.append(nl2)\n",
    "    return l\n",
    "            \n",
    "#Time complexity =O(n)\n",
    "#space complexity=O(n)"
   ]
  },
  {
   "cell_type": "code",
   "execution_count": 52,
   "id": "d8f59eee",
   "metadata": {},
   "outputs": [
    {
     "data": {
      "text/plain": [
       "[[1, 3], [4, 6]]"
      ]
     },
     "execution_count": 52,
     "metadata": {},
     "output_type": "execute_result"
    }
   ],
   "source": [
    "find_com2(nums1,nums2)"
   ]
  },
  {
   "cell_type": "code",
   "execution_count": 53,
   "id": "de28a098",
   "metadata": {},
   "outputs": [],
   "source": [
    "def findDifference( nums1, nums2):\n",
    "        n1=set(nums1)\n",
    "        n2=set(nums2)\n",
    "        r1=list(set(x for x in nums1 if x not in n2))\n",
    "        r2=list(set(x for x in nums2 if x not in n1))\n",
    "        return [r1,r2]"
   ]
  },
  {
   "cell_type": "markdown",
   "id": "0b647651",
   "metadata": {},
   "source": [
    "3. Given a 2D integer array matrix, return *the **transpose** of* matrix.\n",
    "\n",
    "The **transpose** of a matrix is the matrix flipped over its main diagonal, switching the matrix's row and column indices.\n",
    "\n",
    "**Example 1:**\n",
    "\n",
    "Input: matrix = [[1,2,3],[4,5,6],[7,8,9]]\n",
    "\n",
    "Output: [[1,4,7],[2,5,8],[3,6,9]]\n"
   ]
  },
  {
   "cell_type": "code",
   "execution_count": 55,
   "id": "249db423",
   "metadata": {},
   "outputs": [],
   "source": [
    "def trans(mat):\n",
    "    r=len(mat)\n",
    "    c=len(mat[0])\n",
    "    \n",
    "    new=[[0 for _ in range(r)]for _ in range(c)]\n",
    "    for r in range(r):\n",
    "        for c in range(c):\n",
    "            new[c][r]=mat[r][c]\n",
    "    return new\n",
    "#Time complexity =O(n)\n",
    "#space complexity=O(n)"
   ]
  },
  {
   "cell_type": "code",
   "execution_count": 56,
   "id": "1dc285a9",
   "metadata": {},
   "outputs": [
    {
     "data": {
      "text/plain": [
       "[[1, 4, 7], [2, 5, 0], [3, 0, 0]]"
      ]
     },
     "execution_count": 56,
     "metadata": {},
     "output_type": "execute_result"
    }
   ],
   "source": [
    "matrix = [[1,2,3],[4,5,6],[7,8,9]]\n",
    "trans(matrix)"
   ]
  },
  {
   "cell_type": "markdown",
   "id": "156e753b",
   "metadata": {},
   "source": [
    "4.Given an integer array nums of 2n integers, group these integers into n pairs (a1, b1), (a2, b2), ..., (an, bn) such that the sum of min(ai, bi) for all i is **maximized**. Return *the maximized sum*.\n",
    "\n",
    "**Example 1:**\n",
    "\n",
    "Input: nums = [1,4,3,2]\n",
    "\n",
    "Output: 4\n",
    "\n",
    "**Explanation:** All possible pairings (ignoring the ordering of elements) are:\n",
    "\n",
    "1. (1, 4), (2, 3) -> min(1, 4) + min(2, 3) = 1 + 2 = 3\n",
    "\n",
    "2. (1, 3), (2, 4) -> min(1, 3) + min(2, 4) = 1 + 2 = 3\n",
    "\n",
    "3. (1, 2), (3, 4) -> min(1, 2) + min(3, 4) = 1 + 3 = 4\n",
    "\n",
    "So the maximum possible sum is 4.\n",
    "\n"
   ]
  },
  {
   "cell_type": "code",
   "execution_count": 57,
   "id": "16395267",
   "metadata": {},
   "outputs": [],
   "source": [
    "def min_max(arr):\n",
    "    arr.sort()\n",
    "    result=0\n",
    "    for i in range(0,len(arr),2):\n",
    "        result=result+arr[i]\n",
    "    return result\n",
    "        \n",
    "        #Time complexity =O(n)\n",
    "#space complexity=O(1)"
   ]
  },
  {
   "cell_type": "code",
   "execution_count": 58,
   "id": "7f76815d",
   "metadata": {},
   "outputs": [],
   "source": [
    "nums=[1,3,2,4]"
   ]
  },
  {
   "cell_type": "code",
   "execution_count": 59,
   "id": "c9273997",
   "metadata": {},
   "outputs": [
    {
     "data": {
      "text/plain": [
       "4"
      ]
     },
     "execution_count": 59,
     "metadata": {},
     "output_type": "execute_result"
    }
   ],
   "source": [
    "min_max(nums)"
   ]
  },
  {
   "cell_type": "markdown",
   "id": "51b8be9c",
   "metadata": {},
   "source": [
    "5.You have n coins and you want to build a staircase with these coins. The staircase consists of k rows where the ith row has exactly i coins. The last row of the staircase **may be** incomplete.\n",
    "\n",
    "Given the integer n, return *the number of **complete rows** of the staircase you will build*.\n"
   ]
  },
  {
   "cell_type": "code",
   "execution_count": 60,
   "id": "c1db2d64",
   "metadata": {},
   "outputs": [],
   "source": [
    "def arrange(n):\n",
    "    st=0\n",
    "    en=n\n",
    "    \n",
    "    while st<en:\n",
    "        k=(st+en)//2\n",
    "        curr=k*(k+1)//2\n",
    "        \n",
    "        if curr==k:\n",
    "            return k\n",
    "        \n",
    "        elif n<curr:\n",
    "            en=en-1\n",
    "        else:\n",
    "            st=st+1\n",
    "            \n",
    "    return en\n",
    "#Time complexity =O(logn)\n",
    "#space complexity=O(1)  "
   ]
  },
  {
   "cell_type": "code",
   "execution_count": null,
   "id": "961c3c34",
   "metadata": {},
   "outputs": [],
   "source": []
  },
  {
   "cell_type": "code",
   "execution_count": 61,
   "id": "06bafd72",
   "metadata": {},
   "outputs": [],
   "source": [
    "def arrangeCoins( n: int) -> int:\n",
    "        return (int)((2 * n + 0.25)**0.5 - 0.5)   #math formula   where 0.25=1/4 and  0.5=1/2"
   ]
  },
  {
   "cell_type": "markdown",
   "id": "2b53d0d4",
   "metadata": {},
   "source": [
    "6.Given an integer array nums sorted in **non-decreasing** order, return *an array of **the squares of each number** sorted in non-decreasing order*.\n",
    "\n",
    "**Example 1:**\n",
    "\n",
    "Input: nums = [-4,-1,0,3,10]\n",
    "\n",
    "Output: [0,1,9,16,100]\n",
    "\n",
    "**Explanation:** After squaring, the array becomes [16,1,0,9,100].\n",
    "After sorting, it becomes [0,1,9,16,100]\n"
   ]
  },
  {
   "cell_type": "code",
   "execution_count": 62,
   "id": "cca01b7a",
   "metadata": {},
   "outputs": [],
   "source": [
    "def square(arr):\n",
    "    res=[]\n",
    "    for i in arr:\n",
    "        r=i*i\n",
    "        res.append(r)\n",
    "    res.sort()\n",
    "    return res\n",
    "\n",
    "#Time complexity =O(n)\n",
    "#space complexity=O(n)"
   ]
  },
  {
   "cell_type": "code",
   "execution_count": 63,
   "id": "c84a005e",
   "metadata": {},
   "outputs": [],
   "source": [
    "nums = [-4,-1,0,3,10]"
   ]
  },
  {
   "cell_type": "code",
   "execution_count": 64,
   "id": "cd1e9f18",
   "metadata": {},
   "outputs": [
    {
     "data": {
      "text/plain": [
       "[0, 1, 9, 16, 100]"
      ]
     },
     "execution_count": 64,
     "metadata": {},
     "output_type": "execute_result"
    }
   ],
   "source": [
    "square(nums)"
   ]
  },
  {
   "cell_type": "code",
   "execution_count": 65,
   "id": "ac63a2b9",
   "metadata": {},
   "outputs": [],
   "source": [
    "def sortedSquares( A):\n",
    "        for i in range(len(A)):         #with out using Extra space\n",
    "            A[i] *= A[i]\n",
    "        A.sort()\n",
    "        return A"
   ]
  },
  {
   "cell_type": "code",
   "execution_count": 66,
   "id": "a2bb2e75",
   "metadata": {},
   "outputs": [],
   "source": [
    "def sortedSquares( A) :\n",
    "        return sorted([v**2 for v in A])"
   ]
  },
  {
   "cell_type": "code",
   "execution_count": null,
   "id": "794c7972",
   "metadata": {},
   "outputs": [],
   "source": []
  },
  {
   "cell_type": "code",
   "execution_count": 67,
   "id": "13ac405e",
   "metadata": {},
   "outputs": [],
   "source": [
    "def sortedSquares( A):\n",
    "        return_array = [v**2 for v in A]\n",
    "\n",
    "        return_array.sort() # This is in place!\n",
    "        return return_array"
   ]
  },
  {
   "cell_type": "markdown",
   "id": "33b3765b",
   "metadata": {},
   "source": [
    "<aside>\n",
    "💡 **Question 7**\n",
    "You are given an m x n matrix M initialized with all 0's and an array of operations ops, where ops[i] = [ai, bi] means M[x][y] should be incremented by one for all 0 <= x < ai and 0 <= y < bi.\n",
    "\n",
    "Count and return *the number of maximum integers in the matrix after performing all the operations*\n",
    "\n",
    "</aside>"
   ]
  },
  {
   "cell_type": "raw",
   "id": "daacc239",
   "metadata": {},
   "source": [
    "Algorithm#\n",
    "Initialize two variables min_y and min_x to m and n, respectively.\n",
    "\n",
    "Iterate through each sublist in ops and for each sublist:\n",
    "\n",
    "Update min_y to be the minimum of its current value and the first element of the sublist.\n",
    "Update min_x to be the minimum of its current value and the second element of the sublist.\n",
    "Return the product of min_x and min_y, which is the maximum value in the resulting matrix.\n",
    "\n",
    "End of the algorithm.\n",
    "\n",
    "Complexity"
   ]
  },
  {
   "cell_type": "code",
   "execution_count": 69,
   "id": "723ceaad",
   "metadata": {},
   "outputs": [],
   "source": [
    "def maxCount(self, m: int, n: int, ops) -> int:\n",
    "        min_y = m\n",
    "        min_x = n\n",
    "\n",
    "        for y, x in ops:\n",
    "            min_y = min(min_y, y)\n",
    "            min_x = min(min_x, x)\n",
    "\n",
    "        return min_x * min_y\n",
    "    \n",
    "#Time complexity =O(n)\n",
    "#space complexity=O(1)"
   ]
  },
  {
   "cell_type": "code",
   "execution_count": 70,
   "id": "ecd82db4",
   "metadata": {},
   "outputs": [],
   "source": [
    "class Solution:\n",
    "    def maxCount( m,n,ops):\n",
    "        min_row = m\n",
    "        min_col = n\n",
    "        for i in range(len(ops)):\n",
    "            min_row=min(min_row, ops[i][0])\n",
    "            min_col=min(min_col, ops[i][1])\n",
    "        return min_row*min_col\n",
    "    \n",
    "#Time complexity =O(n)\n",
    "#space complexity=O(1)"
   ]
  },
  {
   "cell_type": "raw",
   "id": "5c84b5f3",
   "metadata": {},
   "source": [
    "8.Given the array nums consisting of 2n elements in the form [x1,x2,...,xn,y1,y2,...,yn].\n",
    "\n",
    "*Return the array in the form* [x1,y1,x2,y2,...,xn,yn].\n",
    "\n",
    "**Example 1:**\n",
    "\n",
    "**Input:** nums = [2,5,1,3,4,7], n = 3\n",
    "\n",
    "**Output:** [2,3,5,4,1,7]\n",
    "\n",
    "**Explanation:** Since x1=2, x2=5, x3=1, y1=3, y2=4, y3=7 then the answer is [2,3,5,4,1,7]."
   ]
  },
  {
   "cell_type": "raw",
   "id": "43f7b75a",
   "metadata": {},
   "source": []
  },
  {
   "cell_type": "code",
   "execution_count": 71,
   "id": "61243381",
   "metadata": {},
   "outputs": [],
   "source": [
    "def shuffle(nums, n):\n",
    "        result = [0] * (2 * n)\n",
    "        for i in range(n):\n",
    "            result[2 * i] = nums[i]\n",
    "            result[2 * i + 1] = nums[n + i]\n",
    "        return result\n",
    "    \n",
    "    #Time complexity =O(n)\n",
    "#space complexity=O(1)"
   ]
  },
  {
   "cell_type": "code",
   "execution_count": 40,
   "id": "dde2931f",
   "metadata": {},
   "outputs": [
    {
     "data": {
      "text/plain": [
       "[2, 3, 5, 4, 1, 7]"
      ]
     },
     "execution_count": 40,
     "metadata": {},
     "output_type": "execute_result"
    }
   ],
   "source": [
    "nums = [2,5,1,3,4,7]\n",
    "n = 3\n",
    "shuffle(nums, n)"
   ]
  },
  {
   "cell_type": "code",
   "execution_count": null,
   "id": "8acaecb4",
   "metadata": {},
   "outputs": [],
   "source": []
  }
 ],
 "metadata": {
  "kernelspec": {
   "display_name": "Python 3 (ipykernel)",
   "language": "python",
   "name": "python3"
  },
  "language_info": {
   "codemirror_mode": {
    "name": "ipython",
    "version": 3
   },
   "file_extension": ".py",
   "mimetype": "text/x-python",
   "name": "python",
   "nbconvert_exporter": "python",
   "pygments_lexer": "ipython3",
   "version": "3.10.9"
  }
 },
 "nbformat": 4,
 "nbformat_minor": 5
}
