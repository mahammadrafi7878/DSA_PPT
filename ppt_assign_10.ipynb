{
 "cells": [
  {
   "cell_type": "markdown",
   "id": "aaca6829",
   "metadata": {},
   "source": [
    "**Question 1**\n",
    "\n",
    "Given an integer `n`, return *`true` if it is a power of three. Otherwise, return `false`*.\n",
    "\n",
    "An integer `n` is a power of three, if there exists an integer `x` such that `n == 3x`.\n",
    "\n",
    "**Example 1:**\n",
    "\n",
    "```\n",
    "Input: n = 27\n",
    "Output: true\n",
    "Explanation: 27 = 33\n",
    "```\n",
    "\n",
    "**Example 2:**\n",
    "\n",
    "```\n",
    "Input: n = 0\n",
    "Output: false\n",
    "Explanation: There is no x where 3x = 0.\n",
    "\n",
    "```\n",
    "\n"
   ]
  },
  {
   "cell_type": "code",
   "execution_count": 6,
   "id": "9d2970ad",
   "metadata": {},
   "outputs": [],
   "source": [
    " def isPowerOfThree(n):\n",
    "        if n < 1:\n",
    "            return False\n",
    "        while(n % 3 == 0):\n",
    "            n /= 3\n",
    "        return n == 1\n"
   ]
  },
  {
   "cell_type": "code",
   "execution_count": 15,
   "id": "c0fccae7",
   "metadata": {},
   "outputs": [
    {
     "data": {
      "text/plain": [
       "True"
      ]
     },
     "execution_count": 15,
     "metadata": {},
     "output_type": "execute_result"
    }
   ],
   "source": [
    "n = 3\n",
    "isPowerOfThree(n) "
   ]
  },
  {
   "cell_type": "code",
   "execution_count": 16,
   "id": "0cf654ff",
   "metadata": {},
   "outputs": [],
   "source": [
    "def isPowerOfThree(self, n: int) -> bool:\n",
    "        return n > 0 and 3**19 % n == 0"
   ]
  },
  {
   "cell_type": "code",
   "execution_count": 17,
   "id": "52f82848",
   "metadata": {},
   "outputs": [],
   "source": [
    "def isPowerOfThree(self, n: int) -> bool:\n",
    "        return (n > 0) and 1162261467 % n == 0"
   ]
  },
  {
   "cell_type": "markdown",
   "id": "842914f8",
   "metadata": {},
   "source": [
    "**Question 2**\n",
    "\n",
    "You have a list `arr` of all integers in the range `[1, n]` sorted in a strictly increasing order. Apply the following algorithm on `arr`:\n",
    "\n",
    "- Starting from left to right, remove the first number and every other number afterward until you reach the end of the list.\n",
    "- Repeat the previous step again, but this time from right to left, remove the rightmost number and every other number from the remaining numbers.\n",
    "- Keep repeating the steps again, alternating left to right and right to left, until a single number remains.\n",
    "\n",
    "Given the integer `n`, return *the last number that remains in* `arr`.\n",
    "\n",
    "**Example 1:**\n",
    "\n",
    "```\n",
    "Input: n = 9\n",
    "Output: 6\n",
    "Explanation:\n",
    "arr = [1, 2,3, 4,5, 6,7, 8,9]\n",
    "arr = [2,4, 6,8]\n",
    "arr = [2, 6]\n",
    "arr = [6]\n",
    "\n",
    "```\n",
    "\n",
    "**Example 2:**\n",
    "\n"
   ]
  },
  {
   "cell_type": "raw",
   "id": "1d21b6b6",
   "metadata": {},
   "source": [
    "#ALGORITHM:\n",
    "\n",
    "Everytime our \"n\" is getting halved.\n",
    "We notice that if we take out 2 common, all the patterns are same\n",
    "First Step : 1,2,3,4,5,6,7,8,9\n",
    "Second Step : 2 x [1,2,3,4]\n",
    "Third Step : 2x [1,3]\n",
    "We just need to take care about the iteration with odd length, so we add a 1 in the end. Odd+1=Even."
   ]
  },
  {
   "cell_type": "code",
   "execution_count": 18,
   "id": "ae379505",
   "metadata": {},
   "outputs": [],
   "source": [
    "def last_remaining(n):\n",
    "    if n==1:\n",
    "        return 1\n",
    "    return 2*(n//2 - last_remaining(n//2)+1)"
   ]
  },
  {
   "cell_type": "code",
   "execution_count": 19,
   "id": "d45a5414",
   "metadata": {},
   "outputs": [
    {
     "data": {
      "text/plain": [
       "6"
      ]
     },
     "execution_count": 19,
     "metadata": {},
     "output_type": "execute_result"
    }
   ],
   "source": [
    "last_remaining(9)"
   ]
  },
  {
   "cell_type": "markdown",
   "id": "81c88ef7",
   "metadata": {},
   "source": [
    "**Question 3**\n",
    "\n",
    "****Given a set represented as a string, write a recursive code to print all subsets of it. The subsets can be printed in any order.\n",
    "\n",
    "**Example 1:**\n",
    "\n",
    "Input :  set = “abc”\n",
    "\n",
    "Output : { “”, “a”, “b”, “c”, “ab”, “ac”, “bc”, “abc”}\n",
    "\n",
    "**Example 2:**\n",
    "\n",
    "Input : set = “abcd”\n",
    "\n",
    "Output : { “”, “a” ,”ab” ,”abc” ,”abcd”, “abd” ,”ac” ,”acd”, “ad” ,”b”, “bc” ,”bcd” ,”bd” ,”c” ,”cd” ,”d” }\n"
   ]
  },
  {
   "cell_type": "raw",
   "id": "f1eacdaa",
   "metadata": {},
   "source": [
    "#ALGORITHM\n",
    "\n",
    "The base condition of the recursive approach is when the current index reaches the size of the given string (i.e, index == n). then print the current string say, curr.\n",
    "Make two recursive calls for the two cases for every character\n",
    "We consider the character as part of the current subset\n",
    "We do not consider current character as part of the current subset"
   ]
  },
  {
   "cell_type": "code",
   "execution_count": 20,
   "id": "88c97532",
   "metadata": {},
   "outputs": [],
   "source": [
    "def powerset(string,index,current):\n",
    "    \n",
    "    if index==len(string):\n",
    "        print(current)\n",
    "        return\n",
    "    \n",
    "    powerset(string,index+1,current+string[index])\n",
    "    powerset(string,index+1,current)"
   ]
  },
  {
   "cell_type": "code",
   "execution_count": 21,
   "id": "ec957b6a",
   "metadata": {},
   "outputs": [
    {
     "name": "stdout",
     "output_type": "stream",
     "text": [
      "abc\n",
      "ab\n",
      "ac\n",
      "a\n",
      "bc\n",
      "b\n",
      "c\n",
      "\n"
     ]
    }
   ],
   "source": [
    "s1 = \"abc\"\n",
    "index = 0\n",
    "current = \"\"\n",
    "powerset(s1, index, current)"
   ]
  },
  {
   "cell_type": "raw",
   "id": "af05d56f",
   "metadata": {},
   "source": [
    "#Algorithm\n",
    "The base condition of the recursive approach is when the current index reaches the size of the given string (i.e, index == n), then return\n",
    "First, print the current subset\n",
    "Iterate over the given string from the current index (i.e, index) to less than the size of the string\n",
    "Appending the remaining characters to the current subset\n",
    "Make the recursive call for the next index.\n",
    "Once all subsets beginning with the initial “curr” are printed, remove the last character to consider a different prefix of subsets."
   ]
  },
  {
   "cell_type": "code",
   "execution_count": 22,
   "id": "59ad9a84",
   "metadata": {},
   "outputs": [],
   "source": [
    "def powerSet(str1, index, curr):\n",
    "    n = len(str1)\n",
    " \n",
    "    # base case\n",
    "    if (index == n):\n",
    "        return\n",
    " \n",
    "    # First print current subset\n",
    "    print(curr)\n",
    " \n",
    "    # Try appending remaining characters\n",
    "    # to current subset\n",
    "    for i in range(index + 1, n):\n",
    "        curr += str1[i]\n",
    "        powerSet(str1, i, curr)\n",
    " \n",
    "        # Once all subsets beginning with\n",
    "        # initial \"curr\" are printed, remove\n",
    "        # last character to consider a different\n",
    "        # prefix of subsets.\n",
    "        curr = curr.replace(curr[len(curr) - 1], \"\")\n",
    " \n",
    "    return"
   ]
  },
  {
   "cell_type": "markdown",
   "id": "81169afd",
   "metadata": {},
   "source": [
    "Question 4**\n",
    "\n",
    "Given a string calculate length of the string using recursion.\n",
    "Input : str = \"abcd\"\n",
    "Output :4\n",
    "\n",
    "Input : str = \"GEEKSFORGEEKS\"\n",
    "Output :13\n"
   ]
  },
  {
   "cell_type": "code",
   "execution_count": 23,
   "id": "eac546c4",
   "metadata": {},
   "outputs": [],
   "source": [
    "def length_of_string(st):\n",
    "    if st=='':\n",
    "        return 0\n",
    "    else:\n",
    "        return 1+length_of_string(st[1:])"
   ]
  },
  {
   "cell_type": "code",
   "execution_count": 24,
   "id": "c0dff90b",
   "metadata": {},
   "outputs": [
    {
     "data": {
      "text/plain": [
       "13"
      ]
     },
     "execution_count": 24,
     "metadata": {},
     "output_type": "execute_result"
    }
   ],
   "source": [
    "str = \"GEEKSFORGEEKS\"\n",
    "length_of_string(str)"
   ]
  },
  {
   "cell_type": "markdown",
   "id": "807a3a7d",
   "metadata": {},
   "source": [
    " **Question 5**\n",
    "\n",
    "We are given a string S, we need to find count of all contiguous substrings starting and ending with same character.\n",
    "\n",
    "**Examples :**\n",
    "Input  : S = \"abcab\"\n",
    "Output : 7\n",
    "There are 15 substrings of \"abcab\"\n",
    "a, ab, abc, abca, abcab, b, bc, bca\n",
    "bcab, c, ca, cab, a, ab, b\n",
    "Out of the above substrings, there\n",
    "are 7 substrings : a, abca, b, bcab,\n",
    "c, a and b.\n",
    "\n",
    "Input  : S = \"aba\"\n",
    "Output : 4\n",
    "The substrings are a, b, a and aba"
   ]
  },
  {
   "cell_type": "code",
   "execution_count": 25,
   "id": "3a39f5a2",
   "metadata": {},
   "outputs": [
    {
     "name": "stdout",
     "output_type": "stream",
     "text": [
      "7\n"
     ]
    }
   ],
   "source": [
    "def countsub(st,i,j,n):\n",
    "    \n",
    "    if n<=0:\n",
    "        return 0\n",
    "    \n",
    "    if n==1:\n",
    "        return 1\n",
    "    res=(  countsub(st,i+1,j,n-1)\n",
    "         +countsub(st,i,j-1,n-1)\n",
    "         -countsub(st,i+1,j-1,n-2))\n",
    "    \n",
    "    if (st[i]==st[j]):\n",
    "        res+=1\n",
    "        \n",
    "    return res\n",
    "\n",
    "\n",
    "str = \"abcab\"\n",
    "n = len(str)\n",
    "print(countsub(str, 0, n - 1, n))\n",
    "        \n",
    "        "
   ]
  },
  {
   "cell_type": "markdown",
   "id": "1e7c2db0",
   "metadata": {},
   "source": [
    "**Question 6**\n",
    "\n",
    "The [tower of Hanoi](https://en.wikipedia.org/wiki/Tower_of_Hanoi) is a famous puzzle where we have three rods and **N** disks. The objective of the puzzle is to move the entire stack to another rod. You are given the number of discs **N**. Initially, these discs are in the rod 1. You need to print all the steps of discs movement so that all the discs reach the 3rd rod. Also, you need to find the total moves.**Note:** The discs are arranged such that the **top disc is numbered 1** and the **bottom-most disc is numbered N**. Also, all the discs have **different sizes** and a bigger disc **cannot** be put on the top of a smaller disc. Refer the provided link to get a better clarity about the puzzle.\n",
    "\n"
   ]
  },
  {
   "cell_type": "code",
   "execution_count": 26,
   "id": "10c5b93e",
   "metadata": {},
   "outputs": [
    {
     "name": "stdout",
     "output_type": "stream",
     "text": [
      "Move disk 1 from rod A to rod C\n",
      "Move disk 2 from rod A to rod B\n",
      "Move disk 1 from rod C to rod B\n",
      "Move disk 3 from rod A to rod C\n",
      "Move disk 1 from rod B to rod A\n",
      "Move disk 2 from rod B to rod C\n",
      "Move disk 1 from rod A to rod C\n"
     ]
    }
   ],
   "source": [
    "def TowerOfHanoi(n, from_rod, to_rod, aux_rod):\n",
    "    if n == 0:\n",
    "        return\n",
    "    TowerOfHanoi(n-1, from_rod, aux_rod, to_rod)\n",
    "    print(\"Move disk\", n, \"from rod\", from_rod, \"to rod\", to_rod)\n",
    "    TowerOfHanoi(n-1, aux_rod, to_rod, from_rod)\n",
    "  \n",
    "  \n",
    "# Driver code\n",
    "N = 3\n",
    "  \n",
    "# A, C, B are the name of rods\n",
    "TowerOfHanoi(N, 'A', 'C', 'B')"
   ]
  },
  {
   "cell_type": "markdown",
   "id": "6ce60ecf",
   "metadata": {},
   "source": [
    "7.Given a string **str**, the task is to print all the permutations of **str**. A **permutation** is an arrangement of all or part of a set of objects, with regard to the order of the arrangement. For instance, the words ‘bat’ and ‘tab’ represents two distinct permutation (or arrangements) of a similar three letter word.\n",
    "\n",
    "**Examples:**\n",
    "\n",
    "> Input: str = “cd”\n",
    "> \n",
    "> \n",
    "> **Output:** cd dc\n",
    "> \n",
    "> **Input:** str = “abb”\n",
    "> \n",
    "> **Output:** abb abb bab bba bab bba\n",
    ">"
   ]
  },
  {
   "cell_type": "code",
   "execution_count": 36,
   "id": "94061ee7",
   "metadata": {},
   "outputs": [],
   "source": [
    "def permute(s, answer):\n",
    "    if (len(s) == 0):\n",
    "        print(answer, end=\"  \")\n",
    "        return\n",
    " \n",
    "    for i in range(len(s)):\n",
    "        ch = s[i]\n",
    "        left_substr = s[0:i]\n",
    "        right_substr = s[i + 1:]\n",
    "        rest = left_substr + right_substr\n",
    "        permute(rest, answer + ch)"
   ]
  },
  {
   "cell_type": "code",
   "execution_count": 37,
   "id": "68cdcf76",
   "metadata": {},
   "outputs": [
    {
     "name": "stdout",
     "output_type": "stream",
     "text": [
      "ABC  ACB  BAC  BCA  CAB  CBA  "
     ]
    }
   ],
   "source": [
    "S = \"ABC\"\n",
    "ans=\"\"\n",
    "permute(S,ans)"
   ]
  },
  {
   "cell_type": "markdown",
   "id": "106589cc",
   "metadata": {},
   "source": [
    "\n",
    "💡 **Question 8**\n",
    "\n",
    "Given a string, count total number of consonants in it. A consonant is an English alphabet character that is not vowel (a, e, i, o and u). Examples of constants are b, c, d, f, and g.\n",
    "\n",
    "**Examples :**\n",
    "\n",
    "Input : abc de\n",
    "Output : 3\n",
    "There are three consonants b, c and d.\n",
    "\n",
    "Input : geeksforgeeks portal\n",
    "Output : 12"
   ]
  },
  {
   "cell_type": "code",
   "execution_count": 50,
   "id": "82fbddb7",
   "metadata": {},
   "outputs": [],
   "source": [
    "def isConsonant(ch):\n",
    "      \n",
    "    \n",
    "    ch = ch.upper()\n",
    "  \n",
    "    return not (ch == 'A' or ch == 'E' or \n",
    "                ch == 'I' or ch == 'O' or \n",
    "                ch == 'U') and ord(ch) >= 65 and ord(ch) <= 90\n",
    "  \n",
    "def totalConsonants(string):\n",
    "      \n",
    "    count = 0\n",
    "      \n",
    "    for i in range(len(string)):\n",
    "  \n",
    "       \n",
    "        if (isConsonant(string[i])):\n",
    "            count += 1\n",
    "              \n",
    "    return count"
   ]
  },
  {
   "cell_type": "code",
   "execution_count": 51,
   "id": "d61730ce",
   "metadata": {},
   "outputs": [
    {
     "data": {
      "text/plain": [
       "8"
      ]
     },
     "execution_count": 51,
     "metadata": {},
     "output_type": "execute_result"
    }
   ],
   "source": [
    "s=\"geeksforgeeks\"\n",
    "totalConsonants(s)"
   ]
  },
  {
   "cell_type": "code",
   "execution_count": null,
   "id": "ddcb736a",
   "metadata": {},
   "outputs": [],
   "source": []
  }
 ],
 "metadata": {
  "kernelspec": {
   "display_name": "Python 3 (ipykernel)",
   "language": "python",
   "name": "python3"
  },
  "language_info": {
   "codemirror_mode": {
    "name": "ipython",
    "version": 3
   },
   "file_extension": ".py",
   "mimetype": "text/x-python",
   "name": "python",
   "nbconvert_exporter": "python",
   "pygments_lexer": "ipython3",
   "version": "3.10.9"
  }
 },
 "nbformat": 4,
 "nbformat_minor": 5
}
