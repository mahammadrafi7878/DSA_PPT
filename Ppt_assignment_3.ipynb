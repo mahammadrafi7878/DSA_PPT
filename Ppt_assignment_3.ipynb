{
 "cells": [
  {
   "cell_type": "markdown",
   "id": "33ebbedc",
   "metadata": {},
   "source": [
    "1.Given an integer array nums of length n and an integer target, find three integers\n",
    "in nums such that the sum is closest to the target.\n",
    "Return the sum of the three integers.\n",
    "\n",
    "You may assume that each input would have exactly one solution.\n",
    "\n",
    "Example 1:\n",
    "Input: nums = [-1,2,1,-4], target = 1\n",
    "Output: 2\n",
    "\n",
    "Explanation: The sum that is closest to the target is 2. (-1 + 2 + 1 = 2)."
   ]
  },
  {
   "cell_type": "code",
   "execution_count": 1,
   "id": "04a8fa59",
   "metadata": {},
   "outputs": [],
   "source": [
    "def three_sum_close(arr,tar):\n",
    "    arr.sort()\n",
    "    \n",
    "    n=len(arr)\n",
    "    close_sum=arr[0]+arr[1]+arr[2]\n",
    "    \n",
    "    for i in range(n-2):\n",
    "        l=i+1\n",
    "        r=n-1\n",
    "        \n",
    "        while l<r:\n",
    "            su=arr[i]+arr[l]+arr[r]\n",
    "            \n",
    "            if su==tar:\n",
    "                return su\n",
    "            elif su<tar:\n",
    "                l+=1\n",
    "            else:\n",
    "                r-=1\n",
    "           \n",
    "            if abs(su-tar)<abs(close_sum-tar):\n",
    "                close_sum=su\n",
    "    return close_sum\n",
    "\n",
    "\n",
    "#Time complexity =O(n*2)\n",
    "#space complexity=O(1)"
   ]
  },
  {
   "cell_type": "code",
   "execution_count": 2,
   "id": "46978f55",
   "metadata": {},
   "outputs": [],
   "source": [
    "nums = [-1,2,1,-4]\n",
    "target = 1"
   ]
  },
  {
   "cell_type": "code",
   "execution_count": 3,
   "id": "2cef9d20",
   "metadata": {},
   "outputs": [
    {
     "data": {
      "text/plain": [
       "2"
      ]
     },
     "execution_count": 3,
     "metadata": {},
     "output_type": "execute_result"
    }
   ],
   "source": [
    "three_sum_close(nums,target)"
   ]
  },
  {
   "cell_type": "markdown",
   "id": "5fdcb921",
   "metadata": {},
   "source": [
    "2.Given an array nums of n integers, return an array of all the unique quadruplets\n",
    "[nums[a], nums[b], nums[c], nums[d]] such that:\n",
    "           ● 0 <= a, b, c, d < n\n",
    "           ● a, b, c, and d are distinct.\n",
    "           ● nums[a] + nums[b] + nums[c] + nums[d] == target\n",
    "\n",
    "You may return the answer in any order.\n",
    "\n",
    "Example 1:\n",
    "Input: nums = [1,0,-1,0,-2,2], target = 0\n",
    "Output: [[-2,-1,1,2],[-2,0,0,2],[-1,0,0,1]]"
   ]
  },
  {
   "cell_type": "code",
   "execution_count": 49,
   "id": "1d81cfea",
   "metadata": {},
   "outputs": [],
   "source": [
    "def fourSum( nums, target):\n",
    "\n",
    "        def kSum(nums, target,k):\n",
    "            res = []\n",
    "            \n",
    "            \n",
    "            if not nums:\n",
    "                return res\n",
    "            \n",
    "            \n",
    "            average_value = target // k\n",
    "            \n",
    "            \n",
    "            if average_value < nums[0] or nums[-1] < average_value:\n",
    "                return res\n",
    "            \n",
    "            if k == 2:\n",
    "                return twoSum(nums, target)\n",
    "    \n",
    "            for i in range(len(nums)):\n",
    "                if i == 0 or nums[i - 1] != nums[i]:\n",
    "                    for subset in kSum(nums[i + 1:], target - nums[i], k - 1):\n",
    "                        res.append([nums[i]] + subset)\n",
    "    \n",
    "            return res\n",
    "\n",
    "        def twoSum(nums, target):\n",
    "            res = []\n",
    "            lo, hi = 0, len(nums) - 1\n",
    "    \n",
    "            while (lo < hi):\n",
    "                curr_sum = nums[lo] + nums[hi]\n",
    "                if curr_sum < target or (lo > 0 and nums[lo] == nums[lo - 1]):\n",
    "                    lo += 1\n",
    "                elif curr_sum > target or (hi < len(nums) - 1 and nums[hi] == nums[hi + 1]):\n",
    "                    hi -= 1\n",
    "                else:\n",
    "                    res.append([nums[lo], nums[hi]])\n",
    "                    lo += 1\n",
    "                    hi -= 1\n",
    "                                                         \n",
    "            return res\n",
    "\n",
    "        nums.sort()\n",
    "        return kSum(nums, target, 4)\n",
    "    \n",
    "    \n",
    "#Time complexity =O(n*3)  and O(n) for two sum\n",
    "#space complexity=O(n)   Using recursion"
   ]
  },
  {
   "cell_type": "code",
   "execution_count": 50,
   "id": "4ae784cf",
   "metadata": {},
   "outputs": [],
   "source": [
    "target = 0\n",
    "nums = [1,0,-1,0,-2,2]"
   ]
  },
  {
   "cell_type": "code",
   "execution_count": 51,
   "id": "1cfd829b",
   "metadata": {},
   "outputs": [
    {
     "data": {
      "text/plain": [
       "[[-2, -1, 1, 2], [-2, 0, 0, 2], [-1, 0, 0, 1]]"
      ]
     },
     "execution_count": 51,
     "metadata": {},
     "output_type": "execute_result"
    }
   ],
   "source": [
    "fourSum(nums,target)"
   ]
  },
  {
   "cell_type": "markdown",
   "id": "e7169067",
   "metadata": {},
   "source": [
    "3.A permutation of an array of integers is an arrangement of its members into a\n",
    "sequence or linear order.\n",
    "\n",
    "For example, for arr = [1,2,3], the following are all the permutations of arr:\n",
    "[1,2,3], [1,3,2], [2, 1, 3], [2, 3, 1], [3,1,2], [3,2,1].\n",
    "\n",
    "The next permutation of an array of integers is the next lexicographically greater\n",
    "permutation of its integer. More formally, if all the permutations of the array are\n",
    "sorted in one container according to their lexicographical order, then the next\n",
    "permutation of that array is the permutation that follows it in the sorted container.\n",
    "\n",
    "If such an arrangement is not possible, the array must be rearranged as the\n",
    "lowest possible order (i.e., sorted in ascending order).\n",
    "\n",
    "● For example, the next permutation of arr = [1,2,3] is [1,3,2].\n",
    "● Similarly, the next permutation of arr = [2,3,1] is [3,1,2].\n",
    "● While the next permutation of arr = [3,2,1] is [1,2,3] because [3,2,1] does not\n",
    "have a lexicographical larger rearrangement.\n",
    "\n",
    "Given an array of integers nums, find the next permutation of nums.\n",
    "The replacement must be in place and use only constant extra memory.\n",
    "\n",
    "**Example 1:**\n",
    "Input: nums = [1,2,3]\n",
    "Output: [1,3,2]"
   ]
  },
  {
   "cell_type": "code",
   "execution_count": 52,
   "id": "0629887c",
   "metadata": {},
   "outputs": [],
   "source": [
    "def permutation(arr):\n",
    "    \n",
    "    i=len(arr)-2\n",
    "    while i<=0 and arr[i+1]<arr[i]:\n",
    "        i=i-1\n",
    "        \n",
    "    if i>=0:\n",
    "        j=len(arr)-1\n",
    "        while arr[j]<=arr[i]:\n",
    "            j=j-1\n",
    "        arr[i],arr[j]=arr[j],arr[i]\n",
    "        \n",
    "    reverse(arr,i+1)\n",
    "    return arr\n",
    "\n",
    "def reverse(arr,start):\n",
    "    i=start\n",
    "    j=len(arr)-1\n",
    "    \n",
    "    while i<j:\n",
    "        arr[i],arr[j]=arr[j],arr[i]\n",
    "        \n",
    "        i=i+1\n",
    "        j=j-1\n",
    "        \n",
    "        \n",
    "#Time complexity =O(n*2)  and o(n)\n",
    "#space complexity=O(1)"
   ]
  },
  {
   "cell_type": "code",
   "execution_count": 53,
   "id": "3291ea33",
   "metadata": {},
   "outputs": [],
   "source": [
    "nums = [1,2,3]"
   ]
  },
  {
   "cell_type": "code",
   "execution_count": 54,
   "id": "13cdba2e",
   "metadata": {},
   "outputs": [
    {
     "data": {
      "text/plain": [
       "[1, 3, 2]"
      ]
     },
     "execution_count": 54,
     "metadata": {},
     "output_type": "execute_result"
    }
   ],
   "source": [
    "permutation(nums)"
   ]
  },
  {
   "cell_type": "markdown",
   "id": "3ef0353d",
   "metadata": {},
   "source": [
    "4.Given a sorted array of distinct integers and a target value, return the index if the\n",
    "target is found. If not, return the index where it would be if it were inserted in\n",
    "order.\n",
    "\n",
    "You must write an algorithm with O(log n) runtime complexity.\n",
    "\n",
    "Example 1:\n",
    "Input: nums = [1,3,5,6], target = 5\n",
    "Output: 2"
   ]
  },
  {
   "cell_type": "code",
   "execution_count": 55,
   "id": "4a500843",
   "metadata": {},
   "outputs": [],
   "source": [
    "def sort_find(arr,tar):\n",
    "    s=0\n",
    "    e=len(arr)-1\n",
    "    \n",
    "    while s<e:\n",
    "        mid=(s+e)//2\n",
    "        if arr[mid]==tar:\n",
    "            return mid\n",
    "        elif arr[mid]<tar:\n",
    "            s=mid+1\n",
    "        else:\n",
    "            ans=mid\n",
    "            e=mid-1\n",
    "    return ans\n",
    "\n",
    "#Time complexity =O(logn)\n",
    "#space complexity=O(1)"
   ]
  },
  {
   "cell_type": "code",
   "execution_count": 56,
   "id": "66a12483",
   "metadata": {},
   "outputs": [],
   "source": [
    "nums = [1,3,5,6]\n",
    "target = 5"
   ]
  },
  {
   "cell_type": "code",
   "execution_count": 57,
   "id": "28d2426f",
   "metadata": {},
   "outputs": [
    {
     "data": {
      "text/plain": [
       "2"
      ]
     },
     "execution_count": 57,
     "metadata": {},
     "output_type": "execute_result"
    }
   ],
   "source": [
    "sort_find(nums,target)"
   ]
  },
  {
   "cell_type": "markdown",
   "id": "51acd7e5",
   "metadata": {},
   "source": [
    "5. You are given a large integer represented as an integer array digits, where each\n",
    "digits[i] is the ith digit of the integer. The digits are ordered from most significant\n",
    "to least significant in left-to-right order. The large integer does not contain any\n",
    "leading 0's.\n",
    "\n",
    "Increment the large integer by one and return the resulting array of digits.\n",
    "\n",
    "**Example 1:**\n",
    "Input: digits = [1,2,3]\n",
    "Output: [1,2,4]\n",
    "\n",
    "**Explanation:** The array represents the integer 123.\n",
    "Incrementing by one gives 123 + 1 = 124.\n",
    "Thus, the result should be [1,2,4]."
   ]
  },
  {
   "cell_type": "code",
   "execution_count": 58,
   "id": "31d0bfad",
   "metadata": {},
   "outputs": [],
   "source": [
    "def arrpluse(arr):\n",
    "    \n",
    "    digits=[str(i) for i in arr]\n",
    "    s=''.join(digits)\n",
    "    a=int(s)+1\n",
    "    l=list(str(a))\n",
    "    l=[int(i) for i in l]\n",
    "    return l\n",
    "\n",
    "#Time complexity =O(1)\n",
    "#space complexity=O(1)"
   ]
  },
  {
   "cell_type": "code",
   "execution_count": 59,
   "id": "fbe3d254",
   "metadata": {},
   "outputs": [
    {
     "data": {
      "text/plain": [
       "[1, 2, 4]"
      ]
     },
     "execution_count": 59,
     "metadata": {},
     "output_type": "execute_result"
    }
   ],
   "source": [
    "digits = [1,2,3]\n",
    "arrpluse(digits)"
   ]
  },
  {
   "cell_type": "markdown",
   "id": "fe6be5df",
   "metadata": {},
   "source": [
    "6. Given a non-empty array of integers nums, every element appears twice except\n",
    "for one. Find that single one.\n",
    "\n",
    "You must implement a solution with a linear runtime complexity and use only\n",
    "constant extra space.\n",
    "\n",
    "**Example 1:**\n",
    "Input: nums = [2,2,1]\n",
    "Output: 1\n"
   ]
  },
  {
   "cell_type": "code",
   "execution_count": 60,
   "id": "16f0695d",
   "metadata": {},
   "outputs": [],
   "source": [
    "def findOne(arr):\n",
    "    hash_map={}\n",
    "    for i in range(len(arr)):\n",
    "        c=arr[i]\n",
    "        hash_map[c]=hash_map.get(c,0)+1\n",
    "        \n",
    "    for i in range(len(arr)):\n",
    "        if arr.count(arr[i])==1:\n",
    "            return arr[i]\n",
    "    return -1\n",
    "\n",
    "#Time complexity =O(n)\n",
    "#space complexity=O(n)"
   ]
  },
  {
   "cell_type": "code",
   "execution_count": 61,
   "id": "2897547f",
   "metadata": {},
   "outputs": [
    {
     "data": {
      "text/plain": [
       "1"
      ]
     },
     "execution_count": 61,
     "metadata": {},
     "output_type": "execute_result"
    }
   ],
   "source": [
    "nums = [2,2,1]\n",
    "findOne(nums)"
   ]
  },
  {
   "cell_type": "code",
   "execution_count": null,
   "id": "84bd0c95",
   "metadata": {},
   "outputs": [],
   "source": []
  },
  {
   "cell_type": "code",
   "execution_count": 62,
   "id": "9b8025c4",
   "metadata": {},
   "outputs": [],
   "source": [
    "def sort_app(arr):\n",
    "    arr.sort()\n",
    "    for i in range(len(arr)):\n",
    "        if arr[i]!=arr[i+1]:\n",
    "            return arr[i]\n",
    "        \n",
    "        \n",
    "    #Time complexity =O(n)\n",
    "#space complexity=O(1)"
   ]
  },
  {
   "cell_type": "code",
   "execution_count": 63,
   "id": "d555ef86",
   "metadata": {},
   "outputs": [
    {
     "data": {
      "text/plain": [
       "1"
      ]
     },
     "execution_count": 63,
     "metadata": {},
     "output_type": "execute_result"
    }
   ],
   "source": [
    "sort_app(nums)"
   ]
  },
  {
   "cell_type": "markdown",
   "id": "87cd82c4",
   "metadata": {},
   "source": [
    "7.You are given an inclusive range [lower, upper] and a sorted unique integer array\n",
    "nums, where all elements are within the inclusive range.\n",
    "\n",
    "A number x is considered missing if x is in the range [lower, upper] and x is not in\n",
    "nums.\n",
    "\n",
    "Return the shortest sorted list of ranges that exactly covers all the missing\n",
    "numbers. That is, no element of nums is included in any of the ranges, and each\n",
    "missing number is covered by one of the ranges.\n",
    "\n",
    "Example 1:\n",
    "Input: nums = [0,1,3,50,75], lower = 0, upper = 99\n",
    "Output: [[2,2],[4,49],[51,74],[76,99]]\n",
    "\n",
    "Explanation: The ranges are:\n",
    "[2,2]\n",
    "[4,49]\n",
    "[51,74]\n",
    "[76,99]"
   ]
  },
  {
   "cell_type": "code",
   "execution_count": 64,
   "id": "c2518858",
   "metadata": {},
   "outputs": [],
   "source": [
    "from itertools import pairwise\n",
    "def findmiss(arr,lo,hi):\n",
    "    def fun(a,b):\n",
    "        if a==b:\n",
    "            return str(a)\n",
    "        return  f'{a}->{b}'\n",
    "    \n",
    "    n=len(arr)\n",
    "    if n==0:\n",
    "        return [f(lo,hi)]\n",
    "    \n",
    "    ans=[]\n",
    "    if arr[0]>lo:\n",
    "        ans.append(fun(lo,arr[0]-1))\n",
    "        \n",
    "    for a,b in pairwise(arr):\n",
    "        if b-a>1:\n",
    "            ans.append(fun(a+1,b-1))\n",
    "            \n",
    "    if arr[-1]<hi:\n",
    "        ans.append(fun(arr[-1],hi))\n",
    "        \n",
    "    return ans\n",
    "\n",
    "\n",
    "#Time complexity =O(n)\n",
    "#space complexity=O(1)\n",
    "        "
   ]
  },
  {
   "cell_type": "code",
   "execution_count": 65,
   "id": "410060e6",
   "metadata": {},
   "outputs": [],
   "source": [
    "nums = [0,1,3,50,75]\n",
    "lower = 0\n",
    "upper = 99"
   ]
  },
  {
   "cell_type": "code",
   "execution_count": 66,
   "id": "76cc1777",
   "metadata": {},
   "outputs": [
    {
     "data": {
      "text/plain": [
       "['2', '4->49', '51->74', '75->99']"
      ]
     },
     "execution_count": 66,
     "metadata": {},
     "output_type": "execute_result"
    }
   ],
   "source": [
    "findmiss(nums,lower,upper)"
   ]
  },
  {
   "cell_type": "raw",
   "id": "0684bb88",
   "metadata": {},
   "source": [
    "8.Given an array of meeting time intervals where intervals[i] = [starti, endi],\n",
    "determine if a person could attend all meetings.\n",
    "\n",
    "Example 1:\n",
    "Input: intervals = [[0,30],[5,10],[15,20]]\n",
    "Output: false"
   ]
  },
  {
   "cell_type": "code",
   "execution_count": 68,
   "id": "9ea3eeab",
   "metadata": {},
   "outputs": [],
   "source": [
    "def canAttendMeetings(intervals):\n",
    "        new_intervals = sorted(intervals, key=lambda x: x[0])\n",
    "        for i in range(1,len(new_intervals)):\n",
    "            if new_intervals[i-1][1] > new_intervals[i][0]:return False\n",
    "        return True\n",
    "    \n",
    "    \n",
    "#Time complexity =O(n)\n",
    "#space complexity=O(1)"
   ]
  },
  {
   "cell_type": "code",
   "execution_count": 69,
   "id": "ffb99575",
   "metadata": {},
   "outputs": [
    {
     "data": {
      "text/plain": [
       "False"
      ]
     },
     "execution_count": 69,
     "metadata": {},
     "output_type": "execute_result"
    }
   ],
   "source": [
    "intervals = [[0,30],[5,10],[15,20]]\n",
    "canAttendMeetings(intervals)"
   ]
  },
  {
   "cell_type": "code",
   "execution_count": null,
   "id": "85365db0",
   "metadata": {},
   "outputs": [],
   "source": []
  }
 ],
 "metadata": {
  "kernelspec": {
   "display_name": "Python 3 (ipykernel)",
   "language": "python",
   "name": "python3"
  },
  "language_info": {
   "codemirror_mode": {
    "name": "ipython",
    "version": 3
   },
   "file_extension": ".py",
   "mimetype": "text/x-python",
   "name": "python",
   "nbconvert_exporter": "python",
   "pygments_lexer": "ipython3",
   "version": "3.10.9"
  }
 },
 "nbformat": 4,
 "nbformat_minor": 5
}
