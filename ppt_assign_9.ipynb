{
 "cells": [
  {
   "cell_type": "markdown",
   "id": "c6a274aa",
   "metadata": {},
   "source": [
    " **Question 1**\n",
    "\n",
    "Given an integer `n`, return *`true` if it is a power of two. Otherwise, return `false`*.\n",
    "\n",
    "An integer `n` is a power of two, if there exists an integer `x` such that `n == 2x`.\n",
    "\n",
    "**Example 1:**\n",
    "Input: n = 1 \n",
    "\n",
    "Output: true\n",
    "\n",
    "**Example 2:**\n",
    "Input: n = 16 \n",
    "\n",
    "Output: true\n",
    "\n",
    "**Example 3:**\n",
    "Input: n = 3 \n",
    "\n",
    "Output: false"
   ]
  },
  {
   "cell_type": "code",
   "execution_count": 1,
   "id": "9c96c4da",
   "metadata": {},
   "outputs": [],
   "source": [
    "def ispower(n):\n",
    "    if n<=0:\n",
    "        return False\n",
    "    if n==1:\n",
    "        return True\n",
    "    while (n%2 ==0):\n",
    "        n /=2\n",
    "        \n",
    "    return n==1"
   ]
  },
  {
   "cell_type": "code",
   "execution_count": 2,
   "id": "0e22d948",
   "metadata": {},
   "outputs": [
    {
     "data": {
      "text/plain": [
       "True"
      ]
     },
     "execution_count": 2,
     "metadata": {},
     "output_type": "execute_result"
    }
   ],
   "source": [
    "ispower(16)"
   ]
  },
  {
   "cell_type": "code",
   "execution_count": 3,
   "id": "772c1588",
   "metadata": {},
   "outputs": [],
   "source": [
    "def is_power_2(n):\n",
    "    if n==1:\n",
    "        return True\n",
    "    if (n%2 != 0 or n<=0):\n",
    "        return False\n",
    "    return is_power_2(n/2)"
   ]
  },
  {
   "cell_type": "code",
   "execution_count": 4,
   "id": "3ea5813f",
   "metadata": {},
   "outputs": [],
   "source": [
    "def is_power_bit(n):\n",
    "    if n<=0:\n",
    "        return False\n",
    "    return (n&(n-1))==0\n",
    "\n",
    "                          #BIT MANIPULATION\n",
    "\n",
    "\n",
    "\n",
    "#example\n",
    "        # n= 16 (ie 10000)  ,  n-1= 15 (ie 01111)\n",
    "\t\t\n",
    "\t\t#   10000(16)\n",
    "\t\t# & 01111(15)\n",
    "\t\t#  -------\n",
    "\t\t# = 00000"
   ]
  },
  {
   "cell_type": "markdown",
   "id": "190bbfa2",
   "metadata": {},
   "source": [
    "**Question 2**\n",
    "\n",
    "Given a number n, find the sum of the first natural numbers.\n",
    "\n",
    "**Example 1:**\n",
    "\n",
    "Input: n = 3 \n",
    "\n",
    "Output: 6\n",
    "\n",
    "**Example 2:**\n",
    "\n",
    "Input  : 5 \n",
    "\n",
    "Output : 15\n"
   ]
  },
  {
   "cell_type": "code",
   "execution_count": 5,
   "id": "d604a6f4",
   "metadata": {},
   "outputs": [],
   "source": [
    "def sum_natural(n):\n",
    "    if n<0:\n",
    "        return 0\n",
    "    if n==1:\n",
    "        return 1\n",
    "    else:\n",
    "        return n+sum_natural(n-1)"
   ]
  },
  {
   "cell_type": "code",
   "execution_count": 6,
   "id": "1dbf7a33",
   "metadata": {},
   "outputs": [
    {
     "data": {
      "text/plain": [
       "15"
      ]
     },
     "execution_count": 6,
     "metadata": {},
     "output_type": "execute_result"
    }
   ],
   "source": [
    "sum_natural(5)"
   ]
  },
  {
   "cell_type": "code",
   "execution_count": 7,
   "id": "7acbfeb8",
   "metadata": {},
   "outputs": [],
   "source": [
    "def findSum(n) :\n",
    "    return n * (n + 1) / 2\n",
    "     "
   ]
  },
  {
   "cell_type": "code",
   "execution_count": 8,
   "id": "f3aa6175",
   "metadata": {},
   "outputs": [],
   "source": [
    "def findSum(n):\n",
    "    if (n % 2 == 0):\n",
    "        return (n / 2) * (n + 1)\n",
    " \n",
    "   # If n is odd, (n+1) must be even\n",
    "    else:\n",
    "        return ((n + 1) / 2) * n"
   ]
  },
  {
   "cell_type": "markdown",
   "id": "0bbd1793",
   "metadata": {},
   "source": [
    "**Question 3**\n",
    "\n",
    "****Given a positive integer, N. Find the factorial of N. \n",
    "\n",
    "**Example 1:**\n",
    "\n",
    "Input: N = 5 \n",
    "\n",
    "Output: 120\n",
    "\n",
    "**Example 2:**\n",
    "\n",
    "Input: N = 4\n",
    "\n",
    "Output: 24"
   ]
  },
  {
   "cell_type": "code",
   "execution_count": 9,
   "id": "1d5fa0ba",
   "metadata": {},
   "outputs": [],
   "source": [
    "def factorial(n):\n",
    "    if n<=0:\n",
    "        return 0\n",
    "    if n==1:\n",
    "        return 1\n",
    "    else:\n",
    "        return n*factorial(n-1)"
   ]
  },
  {
   "cell_type": "code",
   "execution_count": 10,
   "id": "62a87476",
   "metadata": {},
   "outputs": [
    {
     "data": {
      "text/plain": [
       "120"
      ]
     },
     "execution_count": 10,
     "metadata": {},
     "output_type": "execute_result"
    }
   ],
   "source": [
    "factorial(5)"
   ]
  },
  {
   "cell_type": "markdown",
   "id": "6c4f66b3",
   "metadata": {},
   "source": [
    "**Question 4**\n",
    "\n",
    "Given a number N and a power P, the task is to find the exponent of this number raised to the given power, i.e. N^P.\n",
    "\n",
    "**Example 1 :** \n",
    "\n",
    "Input: N = 5, P = 2\n",
    "\n",
    "Output: 25\n",
    "\n",
    "**Example 2 :**\n",
    "Input: N = 2, P = 5\n",
    "\n",
    "Output: 32"
   ]
  },
  {
   "cell_type": "code",
   "execution_count": 11,
   "id": "c55960b2",
   "metadata": {},
   "outputs": [],
   "source": [
    "def power_expo(n,p):\n",
    "    return n**p\n",
    "    "
   ]
  },
  {
   "cell_type": "code",
   "execution_count": 12,
   "id": "1be7baad",
   "metadata": {},
   "outputs": [
    {
     "data": {
      "text/plain": [
       "32"
      ]
     },
     "execution_count": 12,
     "metadata": {},
     "output_type": "execute_result"
    }
   ],
   "source": [
    "power_expo(2,5)"
   ]
  },
  {
   "cell_type": "code",
   "execution_count": 13,
   "id": "f0e65a48",
   "metadata": {},
   "outputs": [],
   "source": [
    "def pow_ex(n,p):\n",
    "    if p==0:\n",
    "        return 1\n",
    "    if p<0:\n",
    "        n=1/n\n",
    "        p=-p\n",
    "    if p==1:\n",
    "        return n\n",
    "    else:\n",
    "        return n*pow_ex(n,(p-1))"
   ]
  },
  {
   "cell_type": "code",
   "execution_count": 14,
   "id": "d7a1655b",
   "metadata": {},
   "outputs": [
    {
     "data": {
      "text/plain": [
       "0.0625"
      ]
     },
     "execution_count": 14,
     "metadata": {},
     "output_type": "execute_result"
    }
   ],
   "source": [
    "pow_ex(2,-4)"
   ]
  },
  {
   "cell_type": "markdown",
   "id": "99612ddb",
   "metadata": {},
   "source": [
    "**Question 5**\n",
    "\n",
    "Given an array of integers **arr**, the task is to find maximum element of that array using recursion.\n",
    "\n",
    "**Example 1:**\n",
    "\n",
    "Input: arr = {1, 4, 3, -5, -4, 8, 6};\n",
    "Output: 8\n",
    "\n",
    "**Example 2:**\n",
    "\n",
    "Input: arr = {1, 4, 45, 6, 10, -8};\n",
    "Output: 45\n"
   ]
  },
  {
   "cell_type": "raw",
   "id": "81a516eb",
   "metadata": {},
   "source": [
    "Recursive call: If the base case is not met, then call the function by passing the array of one size less from the end, i.e. from arr[0] to arr[n-1].\n",
    "Return statement: At each recursive call (except for the base case), return the minimum of the last element of the current array (i.e. arr[n-1]) and the element returned from the previous recursive call. "
   ]
  },
  {
   "cell_type": "code",
   "execution_count": 15,
   "id": "723bd6cd",
   "metadata": {},
   "outputs": [],
   "source": [
    "def find_max_recursion(arr,a):\n",
    "    if a==1:\n",
    "        return arr[0]\n",
    "    return max(arr[a-1],find_max_recursion(arr,a-1))"
   ]
  },
  {
   "cell_type": "code",
   "execution_count": 16,
   "id": "2ca21b69",
   "metadata": {},
   "outputs": [
    {
     "data": {
      "text/plain": [
       "45"
      ]
     },
     "execution_count": 16,
     "metadata": {},
     "output_type": "execute_result"
    }
   ],
   "source": [
    "arr = [1, 4, 45, 6, 10, -8];\n",
    "a=len(arr)\n",
    "find_max_recursion(arr,a)"
   ]
  },
  {
   "cell_type": "code",
   "execution_count": 17,
   "id": "482f068f",
   "metadata": {},
   "outputs": [],
   "source": [
    "def findMaxRec(A, n):\n",
    " \n",
    "    # if n = 0 means whole array\n",
    "    # has been traversed\n",
    "    if (n == 1):\n",
    "        return A[0]\n",
    "    return max(A[n - 1], findMaxRec(A, n - 1))"
   ]
  },
  {
   "cell_type": "code",
   "execution_count": 18,
   "id": "d10f29ad",
   "metadata": {},
   "outputs": [
    {
     "data": {
      "text/plain": [
       "45"
      ]
     },
     "execution_count": 18,
     "metadata": {},
     "output_type": "execute_result"
    }
   ],
   "source": [
    "findMaxRec(arr,a)"
   ]
  },
  {
   "cell_type": "markdown",
   "id": "e0820a38",
   "metadata": {},
   "source": [
    "6.Given first term (a), common difference (d) and a integer N of the Arithmetic Progression series, the task is to find Nth term of the series.\n",
    "\n",
    "**Example 1:**\n",
    "\n",
    "Input : a = 2 d = 1 N = 5\n",
    "Output : 6\n",
    "The 5th term of the series is : 6\n",
    "\n",
    "**Example 2:**\n",
    "\n",
    "Input : a = 5 d = 2 N = 10\n",
    "Output : 23\n",
    "The 10th term of the series is : 23"
   ]
  },
  {
   "cell_type": "code",
   "execution_count": 19,
   "id": "058f59f4",
   "metadata": {},
   "outputs": [],
   "source": [
    "#TN = a1 + (N-1) * d\n",
    "def nth_series(a,n,d):\n",
    "    return (a+(n-1)*d)"
   ]
  },
  {
   "cell_type": "code",
   "execution_count": 20,
   "id": "d6d23ac9",
   "metadata": {},
   "outputs": [],
   "source": [
    "def arithe_rec(a,d,n):\n",
    "    if n==0:\n",
    "        return 0\n",
    "    \n",
    "    return a+arithe_rec(a+d,d,n-1)"
   ]
  },
  {
   "cell_type": "code",
   "execution_count": 21,
   "id": "f015627d",
   "metadata": {},
   "outputs": [
    {
     "data": {
      "text/plain": [
       "6"
      ]
     },
     "execution_count": 21,
     "metadata": {},
     "output_type": "execute_result"
    }
   ],
   "source": [
    "a = 2\n",
    "d = 1\n",
    "n= 5\n",
    "nth_series(a,n,d)"
   ]
  },
  {
   "cell_type": "markdown",
   "id": "c96966cf",
   "metadata": {},
   "source": [
    "7.Given a string S, the task is to write a program to print all permutations of a given string.\n",
    "\n",
    "**Example 1:**\n",
    "\n",
    "***Input:***\n",
    "\n",
    "*S = “ABC”*\n",
    "\n",
    "***Output:***\n",
    "\n",
    "*“ABC”, “ACB”, “BAC”, “BCA”, “CBA”, “CAB”*\n",
    "\n",
    "**Example 2:**\n",
    "\n",
    "***Input:***\n",
    "\n",
    "*S = “XY”*\n",
    "\n",
    "***Output:***\n",
    "\n",
    "*“XY”, “YX”*"
   ]
  },
  {
   "cell_type": "raw",
   "id": "6bf80b25",
   "metadata": {},
   "source": [
    "#ALGORITHM\n",
    "Create a recursive function say permute(string s, int l, int r), and pass string along with starting index of the string and the ending index of the string.\n",
    "Base condition will be if(l==r) then print the s.\n",
    "Otherwise, run a loop from [l, r]\n",
    "And, swap(s[l], s[i])\n",
    "Call permute(s, l+1, r) function\n",
    "And again swap(s[l], s[i]) to backtrack.\n"
   ]
  },
  {
   "cell_type": "code",
   "execution_count": 39,
   "id": "effc1001",
   "metadata": {},
   "outputs": [],
   "source": [
    "def permute(s, answer):\n",
    "    if (len(s) == 0):\n",
    "        print(answer, end=\"  \")\n",
    "        return\n",
    " \n",
    "    for i in range(len(s)):\n",
    "        ch = s[i]\n",
    "        left_substr = s[0:i]\n",
    "        right_substr = s[i + 1:]\n",
    "        rest = left_substr + right_substr\n",
    "        permute(rest, answer + ch)"
   ]
  },
  {
   "cell_type": "code",
   "execution_count": 41,
   "id": "1f356c0b",
   "metadata": {},
   "outputs": [
    {
     "name": "stdout",
     "output_type": "stream",
     "text": [
      "ABC  ACB  BAC  BCA  CAB  CBA  "
     ]
    }
   ],
   "source": [
    "S = \"ABC\"\n",
    "ans=\"\"\n",
    "permute(S,ans)"
   ]
  },
  {
   "cell_type": "markdown",
   "id": "99d81cd7",
   "metadata": {},
   "source": [
    "**Question 8**\n",
    "\n",
    "Given an array, find a product of all array elements.\n",
    "\n",
    "**Example 1:**\n",
    "\n",
    "Input  : arr[] = {1, 2, 3, 4, 5}\n",
    "Output : 120\n",
    "**Example 2:**\n",
    "\n",
    "Input  : arr[] = {1, 6, 3}\n",
    "Output : 18\n"
   ]
  },
  {
   "cell_type": "code",
   "execution_count": 23,
   "id": "af342633",
   "metadata": {},
   "outputs": [],
   "source": [
    "def product(arr,n):\n",
    "    if n==0:\n",
    "        return n-1\n",
    "    return -arr[n-1]*product(arr,n-1)"
   ]
  },
  {
   "cell_type": "code",
   "execution_count": 24,
   "id": "2415e890",
   "metadata": {},
   "outputs": [
    {
     "data": {
      "text/plain": [
       "120"
      ]
     },
     "execution_count": 24,
     "metadata": {},
     "output_type": "execute_result"
    }
   ],
   "source": [
    "arr=[1,2,3,4,5]\n",
    "n=len(arr)\n",
    "product(arr,n)"
   ]
  },
  {
   "cell_type": "code",
   "execution_count": null,
   "id": "b192cc75",
   "metadata": {},
   "outputs": [],
   "source": []
  },
  {
   "cell_type": "code",
   "execution_count": null,
   "id": "38238390",
   "metadata": {},
   "outputs": [],
   "source": []
  }
 ],
 "metadata": {
  "kernelspec": {
   "display_name": "Python 3 (ipykernel)",
   "language": "python",
   "name": "python3"
  },
  "language_info": {
   "codemirror_mode": {
    "name": "ipython",
    "version": 3
   },
   "file_extension": ".py",
   "mimetype": "text/x-python",
   "name": "python",
   "nbconvert_exporter": "python",
   "pygments_lexer": "ipython3",
   "version": "3.10.9"
  }
 },
 "nbformat": 4,
 "nbformat_minor": 5
}
