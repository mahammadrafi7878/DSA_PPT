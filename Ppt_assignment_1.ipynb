{
 "cells": [
  {
   "cell_type": "markdown",
   "id": "432399b3",
   "metadata": {},
   "source": [
    "Q1. Given an array of integers nums and an integer target, return indices of the two numbers such that they add up to target.\n",
    "\n",
    "You may assume that each input would have exactly one solution, and you may not use the same element twice.\n",
    "\n",
    "You can return the answer in any order.\n",
    "\n",
    "**Example:**\n",
    "Input: nums = [2,7,11,15], target = 9\n",
    "Output0 [0,1]\n",
    "\n",
    "**Explanation:** Because nums[0] + nums[1] == 9, we return [0, 1]"
   ]
  },
  {
   "cell_type": "code",
   "execution_count": 1,
   "id": "38e44b4f",
   "metadata": {},
   "outputs": [],
   "source": [
    "def final(arr,tar):\n",
    "    p1=0\n",
    "    p2=1\n",
    "    l=[]\n",
    "    \n",
    "    while p2<len(arr) or p1<len(arr)-1:\n",
    "        if arr[p1]+arr[p2] !=tar:\n",
    "            p1+=1\n",
    "            p2+=1\n",
    "        else:\n",
    "            l.append([p1,p2])\n",
    "            return l\n",
    "    return -1\n",
    "\n",
    "\n",
    "#Time complexity = O(n)\n",
    "#space complexity =O(1)"
   ]
  },
  {
   "cell_type": "code",
   "execution_count": 2,
   "id": "38469cd1",
   "metadata": {},
   "outputs": [],
   "source": [
    "nums = [11,7,2,15,4,8,9,2,7]\n",
    "target = 9"
   ]
  },
  {
   "cell_type": "code",
   "execution_count": 3,
   "id": "91255417",
   "metadata": {},
   "outputs": [
    {
     "data": {
      "text/plain": [
       "[[1, 2]]"
      ]
     },
     "execution_count": 3,
     "metadata": {},
     "output_type": "execute_result"
    }
   ],
   "source": [
    "final(nums,target)"
   ]
  },
  {
   "cell_type": "markdown",
   "id": "07057ede",
   "metadata": {},
   "source": [
    "2. Given an integer array nums and an integer val, remove all occurrences of val in nums in-place. The order of the elements may be changed. Then return the number of elements in nums which are not equal to val.\n",
    "\n",
    "Consider the number of elements in nums which are not equal to val be k, to get accepted, you need to do the following things:\n",
    "\n",
    "- Change the array nums such that the first k elements of nums contain the elements which are not equal to val. The remaining elements of nums are not important as well as the size of nums.\n",
    "- Return k.\n",
    "\n",
    "Example :\n",
    "Input: nums = [3,2,2,3], val = 3\n",
    "Output: 2, nums = [2,2,_*,_*]\n",
    "\n",
    "Explanation: Your function should return k = 2, with the first two elements of nums being 2. It does not matter what you leave beyond the returned k (hence they are underscores)\n"
   ]
  },
  {
   "cell_type": "code",
   "execution_count": 4,
   "id": "29bbddc6",
   "metadata": {},
   "outputs": [],
   "source": [
    "def removeVal(arr,val):\n",
    "    i=0\n",
    "    \n",
    "    for x in arr:\n",
    "        if x!=val:\n",
    "            arr[i]=x\n",
    "            i=i+1\n",
    "    return i\n",
    "\n",
    "#time complexity= O(n)\n",
    "#space complexitry =O(1)"
   ]
  },
  {
   "cell_type": "code",
   "execution_count": 5,
   "id": "e8a810c1",
   "metadata": {},
   "outputs": [],
   "source": [
    "nums = [3,2,2,3]\n",
    "val = 3"
   ]
  },
  {
   "cell_type": "code",
   "execution_count": 6,
   "id": "3ffc4347",
   "metadata": {},
   "outputs": [
    {
     "data": {
      "text/plain": [
       "2"
      ]
     },
     "execution_count": 6,
     "metadata": {},
     "output_type": "execute_result"
    }
   ],
   "source": [
    "removeVal(nums,val)"
   ]
  },
  {
   "cell_type": "markdown",
   "id": "55c30229",
   "metadata": {},
   "source": [
    "3. Given a sorted array of distinct integers and a target value, return the index if the target is found. If not, return the index where it would be if it were inserted in order.\n",
    "\n",
    "You must write an algorithm with O(log n) runtime complexity.\n",
    "\n",
    "Example 1:\n",
    "Input: nums = [1,3,5,6], target = 5\n",
    "\n",
    "Output: 2"
   ]
  },
  {
   "cell_type": "code",
   "execution_count": 7,
   "id": "641b29fa",
   "metadata": {},
   "outputs": [],
   "source": [
    "#Traverse through array\n",
    "def sort_arr(arr,val):\n",
    "    for i in range(len(arr)):\n",
    "        if arr[i]==val:\n",
    "            return i\n",
    "        \n",
    "    return -1\n",
    "        \n",
    "    \n",
    "    \n",
    "#Time complexity = O(n)\n",
    "#space complexity =O(1)"
   ]
  },
  {
   "cell_type": "code",
   "execution_count": 8,
   "id": "df79a889",
   "metadata": {},
   "outputs": [],
   "source": [
    "nums = [1,3,5,6]\n",
    "target = 4"
   ]
  },
  {
   "cell_type": "code",
   "execution_count": 9,
   "id": "7aeb192b",
   "metadata": {},
   "outputs": [],
   "source": [
    "#Using binary search\n",
    "def sort_bina(arr,tar):\n",
    "    s=0\n",
    "    e=len(arr)-1\n",
    "    \n",
    "    while s<=e:\n",
    "        mid=(s+e)//2\n",
    "        \n",
    "        if arr[mid]==tar:\n",
    "            return mid\n",
    "        \n",
    "        elif arr[mid]<tar:\n",
    "            s=mid+1\n",
    "            \n",
    "        else:\n",
    "            ans=mid\n",
    "            e=e-1\n",
    "    return ans\n",
    "            \n",
    "    \n",
    "#Time complexity = O(logn)\n",
    "#space complexity =O(1)"
   ]
  },
  {
   "cell_type": "code",
   "execution_count": 10,
   "id": "7aea5533",
   "metadata": {},
   "outputs": [
    {
     "data": {
      "text/plain": [
       "2"
      ]
     },
     "execution_count": 10,
     "metadata": {},
     "output_type": "execute_result"
    }
   ],
   "source": [
    "sort_bina(nums,target)"
   ]
  },
  {
   "cell_type": "markdown",
   "id": "7e67c920",
   "metadata": {},
   "source": [
    "4. You are given a large integer represented as an integer array digits, where each digits[i] is the ith digit of the integer. The digits are ordered from most significant to least significant in left-to-right order. The large integer does not contain any leading 0's.\n",
    "\n",
    "Increment the large integer by one and return the resulting array of digits.\n",
    "\n",
    "Example 1:\n",
    "Input: digits = [1,2,3]\n",
    "Output: [1,2,4]\n",
    "\n",
    "Explanation: The array represents the integer 123.\n",
    "\n",
    "Incrementing by one gives 123 + 1 = 124.\n",
    "Thus, the result should be [1,2,4].\n",
    "\n"
   ]
  },
  {
   "cell_type": "code",
   "execution_count": 11,
   "id": "1d98b4af",
   "metadata": {},
   "outputs": [],
   "source": [
    "def pluseOne(arr):\n",
    "    digits=[str(i) for i in arr]\n",
    "    s=''.join(digits)\n",
    "    a=int(s)+1\n",
    "    l=list(str(a))\n",
    "    l=[int(i) for i in l]\n",
    "    return l\n",
    "    \n",
    "    \n",
    "#Time complexity = O(1)\n",
    "#space complexity =O(1)"
   ]
  },
  {
   "cell_type": "code",
   "execution_count": 12,
   "id": "ccee1232",
   "metadata": {},
   "outputs": [
    {
     "data": {
      "text/plain": [
       "[1, 3, 5, 7]"
      ]
     },
     "execution_count": 12,
     "metadata": {},
     "output_type": "execute_result"
    }
   ],
   "source": [
    "pluseOne(nums)"
   ]
  },
  {
   "cell_type": "markdown",
   "id": "8fcaafe1",
   "metadata": {},
   "source": [
    "5. You are given two integer arrays nums1 and nums2, sorted in non-decreasing order, and two integers m and n, representing the number of elements in nums1 and nums2 respectively.\n",
    "\n",
    "Merge nums1 and nums2 into a single array sorted in non-decreasing order.\n",
    "\n",
    "The final sorted array should not be returned by the function, but instead be stored inside the array nums1. To accommodate this, nums1 has a length of m + n, where the first m elements denote the elements that should be merged, and the last n elements are set to 0 and should be ignored. nums2 has a length of n.\n",
    "\n",
    "**Example 1:**\n",
    "Input: nums1 = [1,2,3,0,0,0], m = 3, nums2 = [2,5,6], n = 3\n",
    "Output: [1,2,2,3,5,6]\n",
    "\n",
    "**Explanation:** The arrays we are merging are [1,2,3] and [2,5,6].\n",
    "The result of the merge is [1,2,2,3,5,6] with the underlined elements coming from nums1.\n",
    "\n"
   ]
  },
  {
   "cell_type": "code",
   "execution_count": 13,
   "id": "9c4ff6a4",
   "metadata": {},
   "outputs": [],
   "source": [
    "def integer_merge(arr1,arr2,m,n):\n",
    "    arr1_copy=arr1[:m]\n",
    "    p1=0\n",
    "    p2=0\n",
    "    p=0\n",
    "    \n",
    "    while p<m+n:\n",
    "        if p2>=n or (p1<m and arr1_copy[p1]<arr2[p2]):\n",
    "            arr1[p]=arr1_copy[p1]\n",
    "            p1=p1+1\n",
    "        else:\n",
    "            arr1[p]=arr2[p2]\n",
    "            p2=p2+1\n",
    "        p=p+1\n",
    "    return arr1\n",
    "            \n",
    "    \n",
    "#Time complexity = O(n)\n",
    "#space complexity =O(1)"
   ]
  },
  {
   "cell_type": "code",
   "execution_count": 14,
   "id": "91d857c6",
   "metadata": {},
   "outputs": [],
   "source": [
    "nums1 = [1,2,3,0,0,0]\n",
    "m = 3\n",
    "nums2 = [2,5,6]\n",
    "n = 3"
   ]
  },
  {
   "cell_type": "code",
   "execution_count": 15,
   "id": "85fe01d0",
   "metadata": {},
   "outputs": [
    {
     "data": {
      "text/plain": [
       "[1, 2, 2, 3, 5, 6]"
      ]
     },
     "execution_count": 15,
     "metadata": {},
     "output_type": "execute_result"
    }
   ],
   "source": [
    "integer_merge(nums1,nums2,m,n)"
   ]
  },
  {
   "cell_type": "markdown",
   "id": "60098988",
   "metadata": {},
   "source": [
    "6. Given an integer array nums, return true if any value appears at least twice in the array, and return false if every element is distinct.\n",
    "\n",
    "**Example 1:**\n",
    "Input: nums = [1,2,3,1]\n",
    "\n",
    "Output: true"
   ]
  },
  {
   "cell_type": "code",
   "execution_count": 16,
   "id": "09fe46f3",
   "metadata": {},
   "outputs": [],
   "source": [
    "def val_appears(arr):\n",
    "    hash_map={}\n",
    "    \n",
    "    for i in range(len(arr)):\n",
    "        c=arr[i]\n",
    "        hash_map[c]=hash_map.get(c,0)+1\n",
    "        \n",
    "    for i in range(len(arr)):\n",
    "        if arr[i]>1:\n",
    "            return true \n",
    "    return false\n",
    "\n",
    "#Time complexity = O(n)\n",
    "#space complexity =O(n)"
   ]
  },
  {
   "cell_type": "code",
   "execution_count": 17,
   "id": "ed5b3c7b",
   "metadata": {},
   "outputs": [],
   "source": [
    "def second(arr):\n",
    "    \n",
    "    for i in range(len(arr)):\n",
    "        if arr.count(arr[i])>1:\n",
    "            return 'true'\n",
    "    return 'false'\n",
    "\n",
    "\n",
    "#Time complexity = O(n)\n",
    "#space complexity =O(1)"
   ]
  },
  {
   "cell_type": "code",
   "execution_count": 18,
   "id": "b0a5b40a",
   "metadata": {},
   "outputs": [],
   "source": [
    "nums = [1,2,3,2]"
   ]
  },
  {
   "cell_type": "code",
   "execution_count": 19,
   "id": "c59dbac4",
   "metadata": {},
   "outputs": [
    {
     "data": {
      "text/plain": [
       "'true'"
      ]
     },
     "execution_count": 19,
     "metadata": {},
     "output_type": "execute_result"
    }
   ],
   "source": [
    "second(nums)"
   ]
  },
  {
   "cell_type": "markdown",
   "id": "61905c6b",
   "metadata": {},
   "source": [
    "7. Given an integer array nums, move all 0's to the end of it while maintaining the relative order of the nonzero elements.\n",
    "\n",
    "Note that you must do this in-place without making a copy of the array.\n",
    "\n",
    "**Example 1:**\n",
    "Input: nums = [0,1,0,3,12]\n",
    "Output: [1,3,12,0,0]"
   ]
  },
  {
   "cell_type": "code",
   "execution_count": 20,
   "id": "14393d06",
   "metadata": {},
   "outputs": [],
   "source": [
    "#using traverse\n",
    "def move(arr):\n",
    "    p=0\n",
    "    for i in range(len(arr)):\n",
    "        if arr[i]!=0:\n",
    "            arr[p]=arr[i]\n",
    "            p=p+1\n",
    "            \n",
    "    while p<len(arr):\n",
    "        arr[p]=0\n",
    "        p=p+1\n",
    "    return arr\n",
    "\n",
    "#Time complexity = O(n)\n",
    "#space complexity =O(n)"
   ]
  },
  {
   "cell_type": "code",
   "execution_count": 21,
   "id": "eabddb96",
   "metadata": {},
   "outputs": [],
   "source": [
    " nums = [0,1,0,3,12,5,7,0]"
   ]
  },
  {
   "cell_type": "code",
   "execution_count": 22,
   "id": "71682427",
   "metadata": {},
   "outputs": [
    {
     "data": {
      "text/plain": [
       "[1, 3, 12, 5, 7, 0, 0, 0]"
      ]
     },
     "execution_count": 22,
     "metadata": {},
     "output_type": "execute_result"
    }
   ],
   "source": [
    "move(nums)"
   ]
  },
  {
   "cell_type": "code",
   "execution_count": 23,
   "id": "b3d4ac55",
   "metadata": {},
   "outputs": [],
   "source": [
    "#using partionating \n",
    "\n",
    "def move1(arr):\n",
    "    j=0\n",
    "    \n",
    "    for i in range(len(arr)):\n",
    "        if arr[i]!=0:\n",
    "            arr[i],arr[j]=arr[j],arr[i]\n",
    "            j=j+1\n",
    "            \n",
    "    return arr\n",
    "\n",
    "#Time complexity = O(n)\n",
    "#space complexity =O(1)"
   ]
  },
  {
   "cell_type": "code",
   "execution_count": 73,
   "id": "3f81f92a",
   "metadata": {},
   "outputs": [
    {
     "data": {
      "text/plain": [
       "[1, 3, 12, 5, 7, 0, 0, 0]"
      ]
     },
     "execution_count": 73,
     "metadata": {},
     "output_type": "execute_result"
    }
   ],
   "source": [
    "move1(nums)"
   ]
  },
  {
   "cell_type": "markdown",
   "id": "39b50071",
   "metadata": {},
   "source": [
    "8.You have a set of integers s, which originally contains all the numbers from 1 to n. Unfortunately, due to some error, one of the numbers in s got duplicated to another number in the set, which results in repetition of one number and loss of another number.\n",
    "\n",
    "You are given an integer array nums representing the data status of this set after the error.\n",
    "\n",
    "Find the number that occurs twice and the number that is missing and return them in the form of an array.\n",
    "\n",
    "**Example 1:**\n",
    "Input: nums = [1,2,2,4]\n",
    "Output: [2,3]"
   ]
  },
  {
   "cell_type": "code",
   "execution_count": 24,
   "id": "46076ae6",
   "metadata": {},
   "outputs": [],
   "source": [
    "def duplicated(arr):\n",
    "    set_arr=set(arr)\n",
    "    \n",
    "    n=len(set_arr)+1\n",
    "    \n",
    "    for i in range(1,n):\n",
    "        if i not in set_arr:\n",
    "            res=i\n",
    "            break\n",
    "    s1=sum(arr)\n",
    "    s2=sum(set_arr)\n",
    "    \n",
    "    return s1-s2,res\n",
    "\n",
    "\n",
    "#Time complexity = O(n)\n",
    "#space complexity =O(1)"
   ]
  },
  {
   "cell_type": "code",
   "execution_count": 25,
   "id": "a33d2240",
   "metadata": {},
   "outputs": [],
   "source": [
    "nums = [1,2,2,4]"
   ]
  },
  {
   "cell_type": "code",
   "execution_count": 26,
   "id": "ed256fc0",
   "metadata": {},
   "outputs": [
    {
     "data": {
      "text/plain": [
       "(2, 3)"
      ]
     },
     "execution_count": 26,
     "metadata": {},
     "output_type": "execute_result"
    }
   ],
   "source": [
    "duplicated(nums)"
   ]
  }
 ],
 "metadata": {
  "kernelspec": {
   "display_name": "Python 3 (ipykernel)",
   "language": "python",
   "name": "python3"
  },
  "language_info": {
   "codemirror_mode": {
    "name": "ipython",
    "version": 3
   },
   "file_extension": ".py",
   "mimetype": "text/x-python",
   "name": "python",
   "nbconvert_exporter": "python",
   "pygments_lexer": "ipython3",
   "version": "3.10.9"
  }
 },
 "nbformat": 4,
 "nbformat_minor": 5
}
