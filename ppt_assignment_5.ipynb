{
 "cells": [
  {
   "cell_type": "markdown",
   "id": "21ee5d1f",
   "metadata": {},
   "source": [
    "1.Convert 1D Array Into 2D Array\n",
    "\n",
    "You are given a **0-indexed** 1-dimensional (1D) integer array original, and two integers, m and n. You are tasked with creating a 2-dimensional (2D) array with  m rows and n columns using **all** the elements from original.\n",
    "\n",
    "The elements from indices 0 to n - 1 (**inclusive**) of original should form the first row of the constructed 2D array, the elements from indices n to 2 * n - 1 (**inclusive**) should form the second row of the constructed 2D array, and so on.\n",
    "\n",
    "Return *an* m x n *2D array constructed according to the above procedure, or an empty 2D array if it is impossible*.\n",
    "\n",
    "\n",
    "**Input:** original = [1,2,3,4], m = 2, n = 2\n",
    "\n",
    "**Output:** [[1,2],[3,4]]\n",
    "\n",
    "**Explanation:** The constructed 2D array should contain 2 rows and 2 columns.\n",
    "\n",
    "The first group of n=2 elements in original, [1,2], becomes the first row in the constructed 2D array.\n",
    "\n",
    "The second group of n=2 elements in original, [3,4], becomes the second row in the constructed 2D array."
   ]
  },
  {
   "cell_type": "code",
   "execution_count": 78,
   "id": "7fc310d1",
   "metadata": {},
   "outputs": [],
   "source": [
    "def arr_3d(arr,m,n):\n",
    "    \n",
    "    res=[]\n",
    "    p1=0\n",
    "    \n",
    "    if len(arr)==0:\n",
    "        return []\n",
    "    \n",
    "    for i in range(m):\n",
    "        temp=[]\n",
    "        \n",
    "        for j in range(n):\n",
    "            temp.append(arr[p1])\n",
    "            p1+=1\n",
    "        res.append(temp)\n",
    "    return res\n",
    "\n",
    "#time complexity=O(n*2)\n",
    "#space complexity=O(1)"
   ]
  },
  {
   "cell_type": "code",
   "execution_count": 79,
   "id": "a55b3df3",
   "metadata": {},
   "outputs": [
    {
     "data": {
      "text/plain": [
       "[[1, 2], [3, 4]]"
      ]
     },
     "execution_count": 79,
     "metadata": {},
     "output_type": "execute_result"
    }
   ],
   "source": [
    "original = [1,2,3,4]\n",
    "m = 2\n",
    "n = 2\n",
    "arr_3d(original,m,n)"
   ]
  },
  {
   "cell_type": "markdown",
   "id": "534c2082",
   "metadata": {},
   "source": [
    "2.You have n coins and you want to build a staircase with these coins. The staircase consists of k rows where the ith row has exactly i coins. The last row of the staircase **may be** incomplete.\n",
    "\n",
    "Given the integer n, return *the number of **complete rows** of the staircase you will build*.\n",
    "\n",
    "**Input:** n = 5\n",
    "\n",
    "**Output:** 2\n",
    "\n",
    "**Explanation:** Because the 3rd row is incomplete, we return 2."
   ]
  },
  {
   "cell_type": "code",
   "execution_count": 80,
   "id": "729bd4d2",
   "metadata": {},
   "outputs": [],
   "source": [
    "def stair_case(n):\n",
    "    st=0\n",
    "    en=n\n",
    "    \n",
    "    while st<en:\n",
    "        mid=(st+en)//2\n",
    "        curr=k*(k+1)//2\n",
    "        \n",
    "        if curr==k:\n",
    "            return k\n",
    "        \n",
    "        elif n<curr:\n",
    "            en=en-1\n",
    "        \n",
    "        else:\n",
    "            st=st+1\n",
    "            \n",
    "    return en\n",
    "\n",
    "#time complexity=O(logn)\n",
    "#space complexity=O(1)"
   ]
  },
  {
   "cell_type": "code",
   "execution_count": 81,
   "id": "9c46bce5",
   "metadata": {},
   "outputs": [],
   "source": [
    "def arrangeCoins( n: int) -> int:\n",
    "        return (int)((2 * n + 0.25)**0.5 - 0.5) "
   ]
  },
  {
   "cell_type": "markdown",
   "id": "36a2739e",
   "metadata": {},
   "source": [
    "3.Given an integer array nums sorted in **non-decreasing** order, return *an array of **the squares of each number** sorted in non-decreasing order*.\n",
    "\n",
    "**Example 1:**\n",
    "\n",
    "**Input:** nums = [-4,-1,0,3,10]\n",
    "\n",
    "**Output:** [0,1,9,16,100]\n",
    "\n",
    "**Explanation:** After squaring, the array becomes [16,1,0,9,100].\n",
    "\n",
    "After sorting, it becomes [0,1,9,16,100]."
   ]
  },
  {
   "cell_type": "code",
   "execution_count": 84,
   "id": "731711d0",
   "metadata": {},
   "outputs": [],
   "source": [
    "def square(arr):\n",
    "    res=[]\n",
    "    for i in arr:\n",
    "        r=i*i\n",
    "        res.append(r)\n",
    "    res.sort()\n",
    "    return res\n",
    "#time complexity=O(n)\n",
    "#space complexity=O(n)"
   ]
  },
  {
   "cell_type": "code",
   "execution_count": 85,
   "id": "aba9ac18",
   "metadata": {},
   "outputs": [
    {
     "data": {
      "text/plain": [
       "[0, 1, 9, 16, 100]"
      ]
     },
     "execution_count": 85,
     "metadata": {},
     "output_type": "execute_result"
    }
   ],
   "source": [
    "nums = [-4,-1,0,3,10]\n",
    "square(nums)"
   ]
  },
  {
   "cell_type": "code",
   "execution_count": 86,
   "id": "0d88a890",
   "metadata": {},
   "outputs": [],
   "source": [
    "def square_sort(arr):\n",
    "    for i in range(len(arr)):\n",
    "        arr[i]*=arr[i]\n",
    "    arr.sort()\n",
    "    return arr\n",
    "    "
   ]
  },
  {
   "cell_type": "code",
   "execution_count": 87,
   "id": "82fd46f3",
   "metadata": {},
   "outputs": [
    {
     "data": {
      "text/plain": [
       "[0, 1, 9, 16, 100]"
      ]
     },
     "execution_count": 87,
     "metadata": {},
     "output_type": "execute_result"
    }
   ],
   "source": [
    "square_sort(nums)"
   ]
  },
  {
   "cell_type": "code",
   "execution_count": 88,
   "id": "ff90134d",
   "metadata": {},
   "outputs": [],
   "source": [
    "def sortedSquares(self, A):\n",
    "        return_array = [v**2 for v in A]\n",
    "\n",
    "        return_array.sort() # This is in place!\n",
    "        return return_array"
   ]
  },
  {
   "cell_type": "code",
   "execution_count": null,
   "id": "1042f10c",
   "metadata": {},
   "outputs": [],
   "source": []
  },
  {
   "cell_type": "markdown",
   "id": "e6169de1",
   "metadata": {},
   "source": [
    "4.Given two **0-indexed** integer arrays nums1 and nums2, return *a list* answer *of size* 2 *where:*\n",
    "\n",
    "- answer[0] *is a list of all **distinct** integers in* nums1 *which are **not** present in* nums2*.*\n",
    "- answer[1] *is a list of all **distinct** integers in* nums2 *which are **not** present in* nums1.\n",
    "\n",
    "**Note** that the integers in the lists may be returned in **any** order.\n",
    "\n",
    "**Example 1:**\n",
    "\n",
    "**Input:** nums1 = [1,2,3], nums2 = [2,4,6]\n",
    "\n",
    "**Output:** [[1,3],[4,6]]\n",
    "\n",
    "**Explanation:**\n",
    "\n",
    "For nums1, nums1[1] = 2 is present at index 0 of nums2, whereas nums1[0] = 1 and nums1[2] = 3 are not present in nums2. Therefore, answer[0] = [1,3].\n",
    "\n",
    "For nums2, nums2[0] = 2 is present at index 1 of nums1, whereas nums2[1] = 4 and nums2[2] = 6 are not present in nums2. Therefore, answer[1] = [4,6]."
   ]
  },
  {
   "cell_type": "code",
   "execution_count": 89,
   "id": "c03fa2d3",
   "metadata": {},
   "outputs": [],
   "source": [
    "def non_pre(n1,n2):\n",
    "    s1=list(set(n1))\n",
    "    s2=list(set(n2))\n",
    "    l=[]\n",
    "    l1=[]\n",
    "    l2=[]\n",
    "    \n",
    "    for i in range(len(s1)):\n",
    "        if s1[i] not in n2:\n",
    "            l1.append(s1[i])\n",
    "    for i in range(len(s2)):\n",
    "        if s2[i] not in l1:\n",
    "            l2.append(s2[i])\n",
    "            \n",
    "    l.append(l1)\n",
    "    l.append(l2)\n",
    "    return l\n",
    "            \n",
    "    \n",
    "#time complexity=O(n)\n",
    "#space complexity=O(n*3)"
   ]
  },
  {
   "cell_type": "code",
   "execution_count": 90,
   "id": "2ea36fc4",
   "metadata": {},
   "outputs": [
    {
     "data": {
      "text/plain": [
       "[[1, 3], [2, 4, 6]]"
      ]
     },
     "execution_count": 90,
     "metadata": {},
     "output_type": "execute_result"
    }
   ],
   "source": [
    "nums1 = [1,2,3]\n",
    "nums2 = [2,4,6]\n",
    "non_pre(nums1,nums2)"
   ]
  },
  {
   "cell_type": "code",
   "execution_count": 92,
   "id": "c03fe48b",
   "metadata": {},
   "outputs": [],
   "source": [
    "def findDifference( nums1, nums2):\n",
    "        n1=set(nums1)\n",
    "        n2=set(nums2)\n",
    "        r1=list(set(x for x in nums1 if x not in n2))\n",
    "        r2=list(set(x for x in nums2 if x not in n1))\n",
    "        return [r1,r2]\n",
    "    \n",
    "#time complexity=O(1)\n",
    "#space complexity=O(n*2)"
   ]
  },
  {
   "cell_type": "code",
   "execution_count": 93,
   "id": "8bf3a42f",
   "metadata": {},
   "outputs": [
    {
     "data": {
      "text/plain": [
       "[[1, 3], [4, 6]]"
      ]
     },
     "execution_count": 93,
     "metadata": {},
     "output_type": "execute_result"
    }
   ],
   "source": [
    "findDifference(nums1,nums2)"
   ]
  },
  {
   "cell_type": "code",
   "execution_count": 94,
   "id": "d3f2c3ac",
   "metadata": {},
   "outputs": [],
   "source": [
    "def not_common(n1,n2):\n",
    "    new=[]\n",
    "    for i in n1:\n",
    "        exist=False\n",
    "        for j in n2:\n",
    "            if i==j:\n",
    "                exist=True\n",
    "                break\n",
    "        if exist!= True:\n",
    "            new.append(i)\n",
    "    return new                     #In calling function we may interchanfe parameters"
   ]
  },
  {
   "cell_type": "markdown",
   "id": "3eac7221",
   "metadata": {},
   "source": [
    "5. **Question 5**\n",
    "\n",
    "Given two integer arrays arr1 and arr2, and the integer d, *return the distance value between the two arrays*.\n",
    "\n",
    "The distance value is defined as the number of elements arr1[i] such that there is not any element arr2[j] where |arr1[i]-arr2[j]| <= d.\n",
    "\n",
    "**Example 1:**\n",
    "\n",
    "**Input:** arr1 = [4,5,8], arr2 = [10,9,1,8], d = 2\n",
    "\n",
    "**Output:** 2\n",
    "\n",
    "**Explanation:**\n",
    "\n",
    "For arr1[0]=4 we have:\n",
    "\n",
    "|4-10|=6 > d=2\n",
    "\n",
    "|4-9|=5 > d=2\n",
    "\n",
    "|4-1|=3 > d=2\n",
    "\n",
    "|4-8|=4 > d=2\n",
    "\n",
    "For arr1[1]=5 we have:\n",
    "\n",
    "|5-10|=5 > d=2\n",
    "\n",
    "|5-9|=4 > d=2\n",
    "\n",
    "|5-1|=4 > d=2\n",
    "\n",
    "|5-8|=3 > d=2\n",
    "\n",
    "For arr1[2]=8 we have:\n",
    "\n",
    "**|8-10|=2 <= d=2**\n",
    "\n",
    "**|8-9|=1 <= d=2**\n",
    "\n",
    "|8-1|=7 > d=2\n",
    "\n",
    "**|8-8|=0 <= d=2**\n",
    "\n",
    "</aside>"
   ]
  },
  {
   "cell_type": "code",
   "execution_count": 95,
   "id": "c77f91ae",
   "metadata": {},
   "outputs": [],
   "source": [
    "def finddistance(a,b,d):\n",
    "    b.sort()\n",
    "    count=0\n",
    "    \n",
    "    for i in a:\n",
    "        m=0\n",
    "        n=len(b)-1\n",
    "        flag=0\n",
    "        \n",
    "        while m<n:\n",
    "            mid=(m+n)//2\n",
    "            \n",
    "            if i<b[mid]:\n",
    "                n=mid\n",
    "            if i>b[mid]:\n",
    "                m=mid+1\n",
    "                \n",
    "            if i==b[mid]:\n",
    "                flag=1\n",
    "                break\n",
    "            if flag==1:\n",
    "                continue\n",
    "                \n",
    "            if m==n:\n",
    "                if m==0 and abs(i-b[m])>d:\n",
    "                    count+=1\n",
    "                elif m==len(b) and abs(i-b[m-1])>d:\n",
    "                    count+=1\n",
    "                elif abs(b[m-1]-i)>d and abs(b[m]-i)>d:\n",
    "                    count+=1\n",
    "        return count\n",
    "        \n",
    "#time complexity=O(nlogn + n*2)\n",
    "#space complexity=O(1)"
   ]
  },
  {
   "cell_type": "code",
   "execution_count": 96,
   "id": "b28cfe94",
   "metadata": {},
   "outputs": [
    {
     "data": {
      "text/plain": [
       "1"
      ]
     },
     "execution_count": 96,
     "metadata": {},
     "output_type": "execute_result"
    }
   ],
   "source": [
    "arr1 = [4,5,8]\n",
    "arr2 = [10,9,1,8]\n",
    "d = 2\n",
    "finddistance(arr1,arr2,d)"
   ]
  },
  {
   "cell_type": "markdown",
   "id": "5bf41fe9",
   "metadata": {},
   "source": [
    "6.Given an integer array nums of length n where all the integers of nums are in the range [1, n] and each integer appears **once** or **twice**, return *an array of all the integers that appears **twice***.\n",
    "\n",
    "You must write an algorithm that runs in O(n) time and uses only constant extra space.\n",
    "\n",
    "**Example 1:**\n",
    "\n",
    "**Input:** nums = [4,3,2,7,8,2,3,1]\n",
    "\n",
    "**Output:**\n",
    "\n",
    "[2,3]"
   ]
  },
  {
   "cell_type": "code",
   "execution_count": null,
   "id": "e8c7713c",
   "metadata": {},
   "outputs": [],
   "source": []
  },
  {
   "cell_type": "raw",
   "id": "4cb4127a",
   "metadata": {},
   "source": [
    "#Algorithm\n",
    "Define a function named findDuplicates that takes in an array of integers called nums and returns an array of integers as the output.\n",
    "Initialize an empty array called result to store the duplicates.\n",
    "Iterate over the nums array using a for loop that goes from 0 to the length of the nums array - 1.\n",
    "Within the for loop, assign the variable index to the absolute value of the current number in the array minus 1. The minus 1 is used because the numbers in the array start from 1, while the index starts from 0.\n",
    "Check if the number at the index position in the nums array is negative. If it is negative, it means that we have seen this number before and it's a duplicate. So, append the index+1 to the result array.\n",
    "If the number at the index position in the nums array is positive, negate it by multiplying it by -1. This is done to indicate that we have seen this number before.\n",
    "After iterating through the entire nums array, return the result array containing the duplicates."
   ]
  },
  {
   "cell_type": "code",
   "execution_count": 97,
   "id": "638796a9",
   "metadata": {},
   "outputs": [],
   "source": [
    "def findduplicates(arr):\n",
    "    res=[]\n",
    "                                                  #[4,3,2,7,8,2,3,1]\n",
    "    for i in range(len(arr)):\n",
    "        index=abs(arr[i]-1)\n",
    "        if nums[index]>0:\n",
    "            res.append(index+1)\n",
    "        else:\n",
    "            arr[index]=-arr[index]\n",
    "            \n",
    "    return res\n",
    "\n",
    "#time complexity=O(n)\n",
    "#space complexity=O(1)"
   ]
  },
  {
   "cell_type": "code",
   "execution_count": 98,
   "id": "a08385f8",
   "metadata": {},
   "outputs": [
    {
     "data": {
      "text/plain": [
       "[4, 3, 2, 7, 8, 2, 3, 1]"
      ]
     },
     "execution_count": 98,
     "metadata": {},
     "output_type": "execute_result"
    }
   ],
   "source": [
    "nums = [4,3,2,7,8,2,3,1]\n",
    "findduplicates(nums)"
   ]
  },
  {
   "cell_type": "code",
   "execution_count": 99,
   "id": "13402ba5",
   "metadata": {},
   "outputs": [],
   "source": [
    "class Solution:\n",
    "    def cyclicSort(self,nums):\n",
    "        i = 0\n",
    "        while i < len(nums):\n",
    "            correct = nums[i] - 1\n",
    "            if nums[correct] != nums[i]:\n",
    "                nums[correct], nums[i] = nums[i], nums[correct]\n",
    "            else:\n",
    "                i += 1\n",
    "\n",
    "    def findDuplicates(self,nums):\n",
    "        self.cyclicSort(nums)\n",
    "        output = []\n",
    "        for i in range(len(nums)):\n",
    "            if nums[i] != i+1:\n",
    "                output.append(nums[i])\n",
    "        return output"
   ]
  },
  {
   "cell_type": "markdown",
   "id": "37b2c93d",
   "metadata": {},
   "source": [
    "7.Suppose an array of length n sorted in ascending order is **rotated** between 1 and n times. For example, the array nums = [0,1,2,4,5,6,7] might become:\n",
    "\n",
    "- [4,5,6,7,0,1,2] if it was rotated 4 times.\n",
    "- [0,1,2,4,5,6,7] if it was rotated 7 times.\n",
    "\n",
    "Notice that **rotating** an array [a[0], a[1], a[2], ..., a[n-1]] 1 time results in the array [a[n-1], a[0], a[1], a[2], ..., a[n-2]].\n",
    "\n",
    "Given the sorted rotated array nums of **unique** elements, return *the minimum element of this array*.\n",
    "\n",
    "You must write an algorithm that runs in O(log n) time.\n",
    "\n",
    "**Example 1:**\n",
    "\n",
    "**Input:** nums = [3,4,5,1,2]\n",
    "\n",
    "**Output:** 1\n",
    "\n",
    "**Explanation:**\n",
    "\n",
    "The original array was [1,2,3,4,5] rotated 3 times."
   ]
  },
  {
   "cell_type": "raw",
   "id": "48a6e947",
   "metadata": {},
   "source": [
    "#Algorithms\n",
    "Initialize two pointers, left and right, representing the start and end indices of the search space.\n",
    "Enter a while loop as long as left is less than right.\n",
    "Calculate the midpoint mid using the formula mid = left + (right - left) / 2.\n",
    "Compare the value at index mid with the value at index right to determine which half of the array contains the minimum element.\n",
    "If nums[mid] > nums[right], it means the minimum element lies in the right half of the array. Update left = mid + 1 to search in the right half.\n",
    "Otherwise, the minimum element lies in the left half of the array, including the mid index. Update right = mid to search in the left half.\n",
    "Repeat steps 3-4 until the search space is narrowed down to a single element, i.e., left >= right.\n",
    "Return the value at nums[left] as the minimum element."
   ]
  },
  {
   "cell_type": "code",
   "execution_count": 101,
   "id": "6319fd01",
   "metadata": {},
   "outputs": [],
   "source": [
    "def find_min(arr):\n",
    "    st=0              #[3,4,5,1,2]\n",
    "    en=len(arr)-1\n",
    "    \n",
    "    while st<en:\n",
    "        mid=st+(en-st)//2\n",
    "        \n",
    "        if arr[mid]>arr[st]:\n",
    "            st=mid+1\n",
    "        else:\n",
    "            en=mid\n",
    "    return arr[st]\n",
    "\n",
    "#time complexity=O(logn)\n",
    "#space complexity=O(1)"
   ]
  },
  {
   "cell_type": "code",
   "execution_count": 102,
   "id": "e54be371",
   "metadata": {},
   "outputs": [
    {
     "data": {
      "text/plain": [
       "1"
      ]
     },
     "execution_count": 102,
     "metadata": {},
     "output_type": "execute_result"
    }
   ],
   "source": [
    "nums = [3,4,5,1,2]\n",
    "find_min(nums)"
   ]
  },
  {
   "cell_type": "markdown",
   "id": "dbea89e7",
   "metadata": {},
   "source": [
    "8.An integer array original is transformed into a **doubled** array changed by appending **twice the value** of every element in original, and then randomly **shuffling** the resulting array.\n",
    "\n",
    "Given an array changed, return original *if* changed *is a **doubled** array. If* changed *is not a **doubled** array, return an empty array. The elements in* original *may be returned in **any** order*.\n",
    "\n",
    "**Example 1:**\n",
    "\n",
    "**Input:** changed = [1,3,4,2,6,8]\n",
    "\n",
    "**Output:** [1,3,4]\n",
    "\n",
    "**Explanation:** One possible original array could be [1,3,4]:\n",
    "\n",
    "- Twice the value of 1 is 1 * 2 = 2.\n",
    "- Twice the value of 3 is 3 * 2 = 6.\n",
    "- Twice the value of 4 is 4 * 2 = 8.\n",
    "\n",
    "Other original arrays could be [4,3,1] or [3,1,4]."
   ]
  },
  {
   "cell_type": "code",
   "execution_count": 103,
   "id": "fa371bc2",
   "metadata": {},
   "outputs": [],
   "source": [
    "from collections import Counter\n",
    "def find_original(arr):\n",
    "    \n",
    "    if len(arr)%2==1:\n",
    "        return []\n",
    "    \n",
    "    data=Counter(arr)\n",
    "    res=[]\n",
    "    \n",
    "    for k in sorted(data):\n",
    "        if data[k]<0:\n",
    "            return []\n",
    "        elif k==0:\n",
    "            x,y=divmod(dat[k],2)\n",
    "            if y==1:\n",
    "                return []\n",
    "            res +=[0]*x\n",
    "            \n",
    "        elif data[k]>0:\n",
    "            value=k*2\n",
    "            if data[value]==0:\n",
    "                return []\n",
    "            \n",
    "            min_value=min(value,data[k])\n",
    "            res +=[k]*min_value\n",
    "            data[k] -= min_value\n",
    "            data[value] -= min_value\n",
    "    return res\n",
    "\n",
    "#time complexity=O(n)\n",
    "#space complexity=O(n)"
   ]
  },
  {
   "cell_type": "code",
   "execution_count": 104,
   "id": "6898c509",
   "metadata": {},
   "outputs": [
    {
     "data": {
      "text/plain": [
       "[1, 3, 4]"
      ]
     },
     "execution_count": 104,
     "metadata": {},
     "output_type": "execute_result"
    }
   ],
   "source": [
    "changed = [1,3,4,2,6,8]\n",
    "find_original(changed)"
   ]
  },
  {
   "cell_type": "code",
   "execution_count": 105,
   "id": "2457ef84",
   "metadata": {},
   "outputs": [],
   "source": [
    "from collections import Counter\n",
    "def findOriginalArray( changed) :\n",
    "        if len(changed)%2!=0:return []\n",
    "        changed.sort()\n",
    "        c=Counter(changed)\n",
    "        ans=[]\n",
    "        if c[0]%2==0:\n",
    "            ans+=[0]*(c[0]//2)\n",
    "            \n",
    "        for i in c:\n",
    "            if i==0 or c[i]==0:\n",
    "                continue\n",
    "            elif (i*2 not in c) or c[i]>c[i*2]:\n",
    "                return []\n",
    "            c[i*2]-=c[i]\n",
    "            ans+=[i]*c[i]\n",
    "                \n",
    "        return ans"
   ]
  },
  {
   "cell_type": "code",
   "execution_count": 75,
   "id": "e9e68a08",
   "metadata": {},
   "outputs": [
    {
     "data": {
      "text/plain": [
       "[1, 3, 4]"
      ]
     },
     "execution_count": 75,
     "metadata": {},
     "output_type": "execute_result"
    }
   ],
   "source": [
    "findOriginalArray( changed)"
   ]
  },
  {
   "cell_type": "code",
   "execution_count": null,
   "id": "7c0a373d",
   "metadata": {},
   "outputs": [],
   "source": []
  }
 ],
 "metadata": {
  "kernelspec": {
   "display_name": "Python 3 (ipykernel)",
   "language": "python",
   "name": "python3"
  },
  "language_info": {
   "codemirror_mode": {
    "name": "ipython",
    "version": 3
   },
   "file_extension": ".py",
   "mimetype": "text/x-python",
   "name": "python",
   "nbconvert_exporter": "python",
   "pygments_lexer": "ipython3",
   "version": "3.10.9"
  }
 },
 "nbformat": 4,
 "nbformat_minor": 5
}
