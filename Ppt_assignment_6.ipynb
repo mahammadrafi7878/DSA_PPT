{
 "cells": [
  {
   "cell_type": "markdown",
   "id": "28ac18aa",
   "metadata": {},
   "source": [
    "1.A permutation perm of n + 1 integers of all the integers in the range [0, n] can be represented as a string s of length n where:\n",
    "\n",
    "- s[i] == 'I' if perm[i] < perm[i + 1], and\n",
    "- s[i] == 'D' if perm[i] > perm[i + 1].\n",
    "\n",
    "Given a string s, reconstruct the permutation perm and return it. If there are multiple valid permutations perm, return **any of them**.\n",
    "\n",
    "**Example 1:**\n",
    "\n",
    "**Input:** s = \"IDID\"\n",
    "\n",
    "**Output:**\n",
    "\n",
    "[0,4,1,3,2]"
   ]
  },
  {
   "cell_type": "code",
   "execution_count": 1,
   "id": "ddff1da2",
   "metadata": {},
   "outputs": [],
   "source": [
    "def stringmath(s):\n",
    "    ans=[]\n",
    "    lo=0\n",
    "    hi=len(s)\n",
    "    \n",
    "    for x in s:\n",
    "        if x =='I':\n",
    "            ans.append(lo)\n",
    "            lo+=1\n",
    "        else:\n",
    "            ans.append(hi)\n",
    "            hi-=1\n",
    "    return ans+[lo]\n"
   ]
  },
  {
   "cell_type": "code",
   "execution_count": 3,
   "id": "a15854d9",
   "metadata": {},
   "outputs": [
    {
     "data": {
      "text/plain": [
       "[0, 4, 1, 3, 2]"
      ]
     },
     "execution_count": 3,
     "metadata": {},
     "output_type": "execute_result"
    }
   ],
   "source": [
    "s = \"IDID\"\n",
    "stringmath(s)"
   ]
  },
  {
   "cell_type": "markdown",
   "id": "3105840d",
   "metadata": {},
   "source": [
    "**Question 2**\n",
    "\n",
    "You are given an m x n integer matrix matrix with the following two properties:\n",
    "\n",
    "- Each row is sorted in non-decreasing order.\n",
    "- The first integer of each row is greater than the last integer of the previous row.\n",
    "\n",
    "Given an integer target, return true *if* target *is in* matrix *or* false *otherwise*.\n",
    "\n",
    "You must write a solution in O(log(m * n)) time complexity.\n",
    "\n",
    "**Input:** matrix = [[1,3,5,7],[10,11,16,20],[23,30,34,60]], target = 3\n",
    "\n",
    "**Output:** true"
   ]
  },
  {
   "cell_type": "code",
   "execution_count": 4,
   "id": "8c11c3d6",
   "metadata": {},
   "outputs": [],
   "source": [
    "def binary_search(arr,tar):\n",
    "    r=len(arr)\n",
    "    c=len(arr[0])\n",
    "    l=0\n",
    "    r=r*c -1\n",
    "    \n",
    "    while l<=r:\n",
    "        mid =l+(r-l)//2\n",
    "        row,col=mid//c, mid%c\n",
    "        \n",
    "        if arr[row][col]<tar:\n",
    "            l=mid+1\n",
    "        elif arr[row][col]>tar:\n",
    "            r=mid-1\n",
    "            \n",
    "        else:\n",
    "            return True\n",
    "        \n",
    "    return False"
   ]
  },
  {
   "cell_type": "code",
   "execution_count": 5,
   "id": "af576f98",
   "metadata": {},
   "outputs": [
    {
     "data": {
      "text/plain": [
       "True"
      ]
     },
     "execution_count": 5,
     "metadata": {},
     "output_type": "execute_result"
    }
   ],
   "source": [
    "matrix = [[1,3,5,7],[10,11,16,20],[23,30,34,60]]\n",
    "target = 3  \n",
    "binary_search(matrix,target)"
   ]
  },
  {
   "cell_type": "code",
   "execution_count": null,
   "id": "7b844201",
   "metadata": {},
   "outputs": [],
   "source": [
    "search()"
   ]
  },
  {
   "cell_type": "markdown",
   "id": "7146ba60",
   "metadata": {},
   "source": [
    "3.Given an array of integers arr, return *true if and only if it is a valid mountain array*.\n",
    "\n",
    "Recall that arr is a mountain array if and only if:\n",
    "\n",
    "- arr.length >= 3\n",
    "- There exists some i with 0 < i < arr.length - 1 such that:\n",
    "    - arr[0] < arr[1] < ... < arr[i - 1] < arr[i]\n",
    "    - arr[i] > arr[i + 1] > ... > arr[arr.length - 1]\n",
    "    \n",
    "    **Example 1:**\n",
    "\n",
    "**Input:** arr = [2,1]\n",
    "\n",
    "**Output:**\n",
    "\n",
    "false"
   ]
  },
  {
   "cell_type": "code",
   "execution_count": 9,
   "id": "7debf06a",
   "metadata": {},
   "outputs": [],
   "source": [
    "def validmountain(arr):\n",
    "    i=0\n",
    "    n=len(arr)\n",
    "    \n",
    "    while i<n and arr[i]<arr[i+1]:\n",
    "        i+=1\n",
    "    \n",
    "    if i==0 and i== n-1:\n",
    "        return False\n",
    "    \n",
    "    while i<n and arr[i]<arr[i+1]:\n",
    "        i=i+1\n",
    "        \n",
    "    return i== n-1"
   ]
  },
  {
   "cell_type": "code",
   "execution_count": 10,
   "id": "d2dd610b",
   "metadata": {},
   "outputs": [
    {
     "data": {
      "text/plain": [
       "False"
      ]
     },
     "execution_count": 10,
     "metadata": {},
     "output_type": "execute_result"
    }
   ],
   "source": [
    "arr = [2,1]\n",
    "validmountain(arr)"
   ]
  },
  {
   "cell_type": "code",
   "execution_count": 12,
   "id": "6a1353b5",
   "metadata": {},
   "outputs": [],
   "source": [
    " def validMountainArray( arr):\n",
    "        if len(arr) < 3: return False;\n",
    "        l = 0;\n",
    "        r = len(arr) - 1\n",
    "        while l + 1 < len(arr) - 1 and arr[l] < arr[l + 1]: \n",
    "            l += 1\n",
    "        while r - 1 > 0 and arr[r] < arr[r - 1]: \n",
    "            r -= 1\n",
    "        return l == r"
   ]
  },
  {
   "cell_type": "code",
   "execution_count": 13,
   "id": "889e64cc",
   "metadata": {},
   "outputs": [
    {
     "data": {
      "text/plain": [
       "False"
      ]
     },
     "execution_count": 13,
     "metadata": {},
     "output_type": "execute_result"
    }
   ],
   "source": [
    "validMountainArray( arr)"
   ]
  },
  {
   "cell_type": "markdown",
   "id": "d04222fa",
   "metadata": {},
   "source": [
    "4.Given a binary array nums, return *the maximum length of a contiguous subarray with an equal number of* 0 *and* 1.\n",
    "\n",
    "**Example 1:**\n",
    "\n",
    "**Input:** nums = [0,1]\n",
    "\n",
    "**Output:** 2\n",
    "\n",
    "**Explanation:**\n",
    "\n",
    "[0, 1] is the longest contiguous subarray with an equal number of 0 and 1."
   ]
  },
  {
   "cell_type": "raw",
   "id": "6bb92598",
   "metadata": {},
   "source": [
    "#Algorithm\n",
    "let me explain you the approach 😄 :\n",
    "        1.we are going to use hash map  to store the count of 0 and 1\n",
    "        2.we are going to declare a variable max_len and count assign it to 0\n",
    "        3.we are going to use a for loop to iterate through the array\n",
    "        4.if the current number is 0 then we will decrement the count by 1\n",
    "        5.if the current number is 1 then we will increment the count by 1\n",
    "        6. we are going to check that our count is equal to 0  are not if it 0 then we will make our max_len equal to i+1 .let me explain you why so keep following the logic 😄.\n",
    "\n",
    "        7. we are going to update our count to our hash .if it was already in the hash we will compare the value of the hash with max_len and if it is greater than max_len then we will update max_len to the value of the hash\n",
    "        if it was not there we will add the count to the hash\n",
    "            key --> count\n",
    "            value --> index\n",
    "        8. we are going to return max_len"
   ]
  },
  {
   "cell_type": "code",
   "execution_count": 22,
   "id": "1b724428",
   "metadata": {},
   "outputs": [],
   "source": [
    "def findmax(arr):\n",
    "    \n",
    "    map={}\n",
    "    max_length=0\n",
    "    count=0\n",
    "    \n",
    "    for i in range(len(arr)):\n",
    "        current=arr[i]\n",
    "        if current==0:\n",
    "            count-=1\n",
    "        else:\n",
    "            count+=1\n",
    "            \n",
    "            \n",
    "        if count==0:\n",
    "            max_length=i+1\n",
    "            \n",
    "        if count in map:\n",
    "            max_length=max(max_length,i-map[count])\n",
    "        else:\n",
    "            map[count]=i\n",
    "    return max_length"
   ]
  },
  {
   "cell_type": "code",
   "execution_count": 23,
   "id": "6bb8d2ba",
   "metadata": {},
   "outputs": [
    {
     "data": {
      "text/plain": [
       "2"
      ]
     },
     "execution_count": 23,
     "metadata": {},
     "output_type": "execute_result"
    }
   ],
   "source": [
    "findmax(nums)"
   ]
  },
  {
   "cell_type": "markdown",
   "id": "631d2ffd",
   "metadata": {},
   "source": [
    "<aside>\n",
    "💡 **Question 5**\n",
    "\n",
    "The **product sum** of two equal-length arrays a and b is equal to the sum of a[i] * b[i] for all 0 <= i < a.length (**0-indexed**).\n",
    "\n",
    "- For example, if a = [1,2,3,4] and b = [5,2,3,1], the **product sum** would be 1*5 + 2*2 + 3*3 + 4*1 = 22.\n",
    "\n",
    "Given two arrays nums1 and nums2 of length n, return *the **minimum product sum** if you are allowed to **rearrange** the **order** of the elements in* nums1.\n",
    "\n",
    "**Example 1:**\n",
    "\n",
    "**Input:** nums1 = [5,3,4,2], nums2 = [4,2,2,5]\n",
    "\n",
    "**Output:** 40\n",
    "\n",
    "**Explanation:**\n",
    "\n",
    "We can rearrange nums1 to become [3,5,4,2]. The product sum of [3,5,4,2] and [4,2,2,5] is 3*4 + 5*2 + 4*2 + 2*5 = 40.\n",
    "\n",
    "</aside>"
   ]
  },
  {
   "cell_type": "code",
   "execution_count": 24,
   "id": "f98caf51",
   "metadata": {},
   "outputs": [],
   "source": [
    "def min_product(arr1,arr2):\n",
    "    ans=0\n",
    "    arr1.sort()\n",
    "    arr2.sort()\n",
    "    \n",
    "    for i in range(len(arr1)):\n",
    "        ans += arr1[i]*arr2[len(arr1)-i-1]\n",
    "    return ans"
   ]
  },
  {
   "cell_type": "code",
   "execution_count": 25,
   "id": "f5fd6956",
   "metadata": {},
   "outputs": [
    {
     "data": {
      "text/plain": [
       "40"
      ]
     },
     "execution_count": 25,
     "metadata": {},
     "output_type": "execute_result"
    }
   ],
   "source": [
    "nums1 = [5,3,4,2]\n",
    "nums2 = [4,2,2,5]\n",
    "min_product(nums1,nums2)"
   ]
  },
  {
   "cell_type": "markdown",
   "id": "d2ddc296",
   "metadata": {},
   "source": [
    "6.An integer array original is transformed into a **doubled** array changed by appending **twice the value** of every element in original, and then randomly **shuffling** the resulting array.\n",
    "\n",
    "Given an array changed, return original *if* changed *is a **doubled** array. If* changed *is not a **doubled** array, return an empty array. The elements in* original *may be returned in **any** order*.\n",
    "\n",
    "**Example 1:**\n",
    "\n",
    "**Input:** changed = [1,3,4,2,6,8]\n",
    "\n",
    "**Output:** [1,3,4]\n",
    "\n",
    "**Explanation:** One possible original array could be [1,3,4]:\n",
    "\n",
    "- Twice the value of 1 is 1 * 2 = 2.\n",
    "- Twice the value of 3 is 3 * 2 = 6.\n",
    "- Twice the value of 4 is 4 * 2 = 8.\n",
    "\n",
    "Other original arrays could be [4,3,1] or [3,1,4]."
   ]
  },
  {
   "cell_type": "code",
   "execution_count": 36,
   "id": "376ac73e",
   "metadata": {},
   "outputs": [],
   "source": [
    "def findOriginalArray( nums) :\n",
    "            ans = []\n",
    "            vacans = [] \n",
    "\n",
    "            if len(nums)%2:\n",
    "                    return ans\n",
    "\n",
    "            nums.sort()\n",
    "\n",
    "\n",
    "            temp = Counter(nums)\n",
    "\n",
    "            for i in nums:    \n",
    "                if temp[i] == 0:  \n",
    "\n",
    "                    continue\n",
    "                else:\n",
    "                    if temp.get(2*i,0) >= 1:\n",
    "\n",
    "                        ans.append(i)\n",
    "\n",
    "                        temp[2*i] -= 1\n",
    "                        temp[i] -= 1\n",
    "                    else:        \n",
    "                        return vacans\n",
    "            return ans"
   ]
  },
  {
   "cell_type": "code",
   "execution_count": 37,
   "id": "3ad575dc",
   "metadata": {},
   "outputs": [
    {
     "data": {
      "text/plain": [
       "[1, 3, 4]"
      ]
     },
     "execution_count": 37,
     "metadata": {},
     "output_type": "execute_result"
    }
   ],
   "source": [
    "changed = [1,3,4,2,6,8]\n",
    "findOriginalArray(changed)"
   ]
  },
  {
   "cell_type": "markdown",
   "id": "03500ba6",
   "metadata": {},
   "source": [
    "7.Given a positive integer n, generate an n x n matrix filled with elements from 1 to n2 in spiral order.\n",
    "\n",
    "**Input:** n = 3\n",
    "\n",
    "**Output:** [[1,2,3],[8,9,4],[7,6,5]]"
   ]
  },
  {
   "cell_type": "code",
   "execution_count": 39,
   "id": "68ee7e98",
   "metadata": {},
   "outputs": [],
   "source": [
    "def generateMatrix( n):\n",
    "        ans=[[0]*n for _ in range(n)]\n",
    "        i=0\n",
    "        start_col,start_row,end_col,end_row=0,0,n,n\n",
    "        \n",
    "        while start_col<end_col or start_row<end_row:\n",
    "            for c in range(start_col,end_col):\n",
    "                i+=1\n",
    "                ans[start_row][c]=i\n",
    "\n",
    "            start_row+=1\n",
    "            for r in range(start_row,end_row):\n",
    "                i+=1\n",
    "                ans[r][end_col-1]=i\n",
    "\n",
    "            end_col-=1\n",
    "\n",
    "            for c in range(end_col-1,start_col-1,-1):\n",
    "                i+=1\n",
    "                ans[end_row-1][c]=i\n",
    "\n",
    "            end_row-=1\n",
    "            for r in range(end_row-1,start_row-1,-1):\n",
    "                i+=1\n",
    "                ans[r][start_col]=i\n",
    "\n",
    "            start_col+=1\n",
    "\n",
    "        return ans                    "
   ]
  },
  {
   "cell_type": "code",
   "execution_count": 40,
   "id": "49ad6ed1",
   "metadata": {},
   "outputs": [
    {
     "data": {
      "text/plain": [
       "[[1, 2, 3], [8, 9, 4], [7, 6, 5]]"
      ]
     },
     "execution_count": 40,
     "metadata": {},
     "output_type": "execute_result"
    }
   ],
   "source": [
    "n=3\n",
    "generateMatrix( n)"
   ]
  },
  {
   "cell_type": "markdown",
   "id": "47f7fdb0",
   "metadata": {},
   "source": [
    "**Question 8**\n",
    "\n",
    "Given two [sparse matrices](https://en.wikipedia.org/wiki/Sparse_matrix) mat1 of size m x k and mat2 of size k x n, return the result of mat1 x mat2. You may assume that multiplication is always possible.\n",
    "\n",
    "**Example 1:**\n",
    "\n",
    "**Input:** mat1 = [[1,0,0],[-1,0,3]], mat2 = [[7,0,0],[0,0,0],[0,0,1]]\n",
    "\n",
    "**Output:**\n",
    "\n",
    "[[7,0,0],[-7,0,3]]\n"
   ]
  },
  {
   "cell_type": "code",
   "execution_count": null,
   "id": "6ff9d9c9",
   "metadata": {},
   "outputs": [],
   "source": []
  },
  {
   "cell_type": "code",
   "execution_count": 54,
   "id": "fbde8a75",
   "metadata": {},
   "outputs": [],
   "source": [
    "from collections import defaultdict\n",
    "def mat_multi(a,b):\n",
    "    \n",
    "    r1=len(a)\n",
    "    c1=len(a[0])\n",
    "    c2=len(b[0])\n",
    "    \n",
    "    res=[[0] * c2 for _ in range(r1)]\n",
    "    mp=defaultdict(list)\n",
    "    \n",
    "    for i in range(r1):\n",
    "        for j in range(c1):\n",
    "            if a[i][j]  !=0:\n",
    "                mp[i].append(j)\n",
    "                \n",
    "                \n",
    "    for i in range(r1):\n",
    "        for j in range(c2):\n",
    "            for k in mp[i]:\n",
    "                res[i][j] += a[i][k]*b[k][j]\n",
    "    return res"
   ]
  },
  {
   "cell_type": "code",
   "execution_count": 55,
   "id": "758bcb3a",
   "metadata": {},
   "outputs": [
    {
     "data": {
      "text/plain": [
       "[[7, 0, 0], [-7, 0, 3]]"
      ]
     },
     "execution_count": 55,
     "metadata": {},
     "output_type": "execute_result"
    }
   ],
   "source": [
    "mat1 = [[1,0,0],[-1,0,3]]\n",
    "mat2 = [[7,0,0],[0,0,0],[0,0,1]]\n",
    "mat_multi(mat1,mat2)"
   ]
  },
  {
   "cell_type": "code",
   "execution_count": null,
   "id": "b6576d37",
   "metadata": {},
   "outputs": [],
   "source": []
  }
 ],
 "metadata": {
  "kernelspec": {
   "display_name": "Python 3 (ipykernel)",
   "language": "python",
   "name": "python3"
  },
  "language_info": {
   "codemirror_mode": {
    "name": "ipython",
    "version": 3
   },
   "file_extension": ".py",
   "mimetype": "text/x-python",
   "name": "python",
   "nbconvert_exporter": "python",
   "pygments_lexer": "ipython3",
   "version": "3.10.9"
  }
 },
 "nbformat": 4,
 "nbformat_minor": 5
}
