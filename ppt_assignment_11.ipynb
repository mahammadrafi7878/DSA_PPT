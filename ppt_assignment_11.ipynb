{
 "cells": [
  {
   "cell_type": "markdown",
   "id": "2a718426",
   "metadata": {},
   "source": [
    " **Question 1**\n",
    "\n",
    "Given a non-negative integer `x`, return *the square root of* `x` *rounded down to the nearest integer*. The returned integer should be **non-negative** as well.\n",
    "\n",
    "You **must not use** any built-in exponent function or operator.\n",
    "\n",
    "- For example, do not use `pow(x, 0.5)` in c++ or `x ** 0.5` in python.\n",
    "\n",
    "**Example 1:**\n",
    "\n",
    "Input: x = 4\n",
    "Output: 2\n",
    "Explanation: The square root of 4 is 2, so we return 2.\n",
    "\n"
   ]
  },
  {
   "cell_type": "code",
   "execution_count": 1,
   "id": "a6ee3071",
   "metadata": {},
   "outputs": [],
   "source": [
    "def sqrt(x):                             #brute force\n",
    "    if x==0:\n",
    "        return 0\n",
    "    \n",
    "    for i in range(1,n):\n",
    "        if i*i==x:\n",
    "            return i\n",
    "        elif i*i>x:\n",
    "            return i-1"
   ]
  },
  {
   "cell_type": "code",
   "execution_count": 17,
   "id": "7c39428d",
   "metadata": {},
   "outputs": [
    {
     "data": {
      "text/plain": [
       "2"
      ]
     },
     "execution_count": 17,
     "metadata": {},
     "output_type": "execute_result"
    }
   ],
   "source": [
    "n=6\n",
    "sqrt(n)"
   ]
  },
  {
   "cell_type": "code",
   "execution_count": 18,
   "id": "737e2e50",
   "metadata": {},
   "outputs": [],
   "source": [
    "def mysqrt(x):\n",
    "    \n",
    "    l=0\n",
    "    r=x\n",
    "    \n",
    "    while l<=r:\n",
    "        mid=l+(r-l)//2\n",
    "        \n",
    "        if mid*mid <=x <= (mid+1)*(mid+1):\n",
    "            return mid\n",
    "        elif x< mid*mid:\n",
    "            r=mid-1\n",
    "            \n",
    "        else:\n",
    "            l=l+1"
   ]
  },
  {
   "cell_type": "markdown",
   "id": "84ca65ca",
   "metadata": {},
   "source": [
    "**Question 2**\n",
    "\n",
    "A peak element is an element that is strictly greater than its neighbors.\n",
    "\n",
    "Given a **0-indexed** integer array `nums`, find a peak element, and return its index. If the array contains multiple peaks, return the index to **any of the peaks**.\n",
    "\n",
    "You may imagine that `nums[-1] = nums[n] = -∞`. In other words, an element is always considered to be strictly greater than a neighbor that is outside the array.\n",
    "\n",
    "You must write an algorithm that runs in `O(log n)` time.\n",
    "\n",
    "**Example 1:**\n",
    "Input: nums = [1,2,3,1]\n",
    "Output: 2\n",
    "Explanation: 3 is a peak element and your function should return the index number 2.\n"
   ]
  },
  {
   "cell_type": "raw",
   "id": "c84a3860",
   "metadata": {},
   "source": [
    "#ALOGORITHM\n",
    "The code initializes two pointers, start and end, which represent the start and end indices of the search range.\n",
    "A while loop runs until the start pointer is less than the end pointer.\n",
    "Inside the loop, the code calculates the middle index mid as the average of start and end.\n",
    "Special cases are handled for mid being the first or last index. If mid is the first index, the code checks if the element at index 0 is a peak by comparing it with the element at index 1. If it is greater, it returns 0; otherwise, it returns 1. Similarly, if mid is the last index, the code checks if the element at index end - 1 is a peak by comparing it with the element at index end - 2. If it is greater, it returns end - 1; otherwise, it returns end - 2.\n",
    "If none of the special cases are met, the code checks if the element at index mid is a peak by comparing it with its neighboring elements at indices mid + 1 and mid - 1. If it is greater than both neighbors, it is a peak, and the function returns mid.\n",
    "If the element at index mid is less than its left neighbor (mid - 1), the code sets end to mid - 1, as the peak must be on the left side.\n",
    "Otherwise, if the element at index mid is less than its right neighbor (mid + 1), the code sets start to mid + 1, as the peak must be on the right side.\n",
    "The loop continues with the updated values of start and end until a peak element is found.\n",
    "If the loop completes without finding a peak element, thenction returns start as the index of the last checked element, which is considered as a potential peak."
   ]
  },
  {
   "cell_type": "code",
   "execution_count": 3,
   "id": "534e47a5",
   "metadata": {},
   "outputs": [],
   "source": [
    "def find_peak(arr):\n",
    "    \n",
    "    st=0\n",
    "    en=len(arr)-1\n",
    "    \n",
    "    while st<en:\n",
    "        mid=(st+en)//2\n",
    "        \n",
    "        if arr[mid]==0:\n",
    "            if arr[0]>=arr[1]:\n",
    "                return 0\n",
    "            else:\n",
    "                return 1\n",
    "            \n",
    "        if arr[mid]==en:\n",
    "            if arr[en-1]>=arr[en-2]:\n",
    "                return en-1\n",
    "            else:\n",
    "                return en-2\n",
    "            \n",
    "        if arr[mid]>arr[mid+1]  and arr[mid]>arr[mid-1]:\n",
    "            return mid\n",
    "        \n",
    "        if arr[mid]<arr[mid-1]:\n",
    "            en=mid-1\n",
    "        else:\n",
    "            st=st+1\n",
    "            \n",
    "    return st\n",
    "        "
   ]
  },
  {
   "cell_type": "code",
   "execution_count": 19,
   "id": "80d633fb",
   "metadata": {},
   "outputs": [
    {
     "data": {
      "text/plain": [
       "2"
      ]
     },
     "execution_count": 19,
     "metadata": {},
     "output_type": "execute_result"
    }
   ],
   "source": [
    "nums = [1,2,3,1]\n",
    "find_peak(nums)"
   ]
  },
  {
   "cell_type": "markdown",
   "id": "8cf4086c",
   "metadata": {},
   "source": [
    "**Question 3**\n",
    "\n",
    "****\n",
    "\n",
    "Given an array `nums` containing `n` distinct numbers in the range `[0, n]`, return *the only number in the range that is missing from the array.*\n",
    "\n",
    "Input: nums = [3,0,1]\n",
    "Output: 2\n",
    "Explanation: n = 3 since there are 3 numbers, so all numbers are in the range [0,3]. 2 is the missing number in the range since it does not appear in nums."
   ]
  },
  {
   "cell_type": "code",
   "execution_count": 22,
   "id": "fe58dde3",
   "metadata": {},
   "outputs": [],
   "source": [
    "#Using binary search we need to sort the array \n",
    "\n",
    "def missing_number(arr):\n",
    "    arr.sort()\n",
    "    \n",
    "    lo=0\n",
    "    hi=len(arr)-1\n",
    "    \n",
    "    while lo<hi:\n",
    "        mid=(lo+hi)//2\n",
    "        \n",
    "        if mid==arr[mid]:\n",
    "            lo=lo+1\n",
    "            \n",
    "        elif mid!= arr[mid]:\n",
    "            hi=mid-1\n",
    "    return hi\n",
    "            "
   ]
  },
  {
   "cell_type": "code",
   "execution_count": 23,
   "id": "a5075aa7",
   "metadata": {},
   "outputs": [
    {
     "data": {
      "text/plain": [
       "2"
      ]
     },
     "execution_count": 23,
     "metadata": {},
     "output_type": "execute_result"
    }
   ],
   "source": [
    "nums = [3,0,1]\n",
    "missing_number(nums)"
   ]
  },
  {
   "cell_type": "code",
   "execution_count": 24,
   "id": "891a2dab",
   "metadata": {},
   "outputs": [],
   "source": [
    "def missing_set(arr):\n",
    "    arr_set=set(arr)\n",
    "    \n",
    "    length=len(arr)+1\n",
    "    \n",
    "    for i in range(length):\n",
    "        if i not in arr_set:\n",
    "            return i"
   ]
  },
  {
   "cell_type": "code",
   "execution_count": 25,
   "id": "a4502dd9",
   "metadata": {},
   "outputs": [],
   "source": [
    "def missingNumber(nums) :\n",
    "        n = len(nums) + 1\n",
    "        total = (n * (n-1)) // 2\n",
    "        \n",
    "        for num in nums:\n",
    "            total -= num\n",
    "        \n",
    "        return total"
   ]
  },
  {
   "cell_type": "code",
   "execution_count": 28,
   "id": "07e03cfc",
   "metadata": {},
   "outputs": [],
   "source": [
    "def missingNumber( nums):\n",
    "       \n",
    "        for s in set(range(len(nums) + 1)) - set(nums):\n",
    "            return s"
   ]
  },
  {
   "cell_type": "markdown",
   "id": "2a918dfb",
   "metadata": {},
   "source": [
    "**Question 4**\n",
    "\n",
    "Given an array of integers `nums` containing `n + 1` integers where each integer is in the range `[1, n]` inclusive.\n",
    "\n",
    "There is only **one repeated number** in `nums`, return *this repeated number*.\n",
    "\n",
    "You must solve the problem **without** modifying the array `nums` and uses only constant extra space.\n",
    "\n",
    "**Example 1:**\n",
    "\n",
    "    Input: nums = [1,3,4,2,2]\n",
    "Output: 2\n",
    "\n"
   ]
  },
  {
   "cell_type": "code",
   "execution_count": 29,
   "id": "50dbff21",
   "metadata": {},
   "outputs": [],
   "source": [
    "\n",
    "def findDuplicate(nums):\n",
    "    # Using Floyd's Tortoise and Hare algorithm\n",
    "    # to detect the cycle in the linked list\n",
    "    tortoise = nums[0]\n",
    "    hare = nums[0]\n",
    "    \n",
    "    # Move tortoise and hare until they meet\n",
    "    while True:\n",
    "        tortoise = nums[tortoise]\n",
    "        hare = nums[nums[hare]]\n",
    "        if tortoise == hare:\n",
    "            break\n",
    "    \n",
    "    # Reset tortoise to the start of the list\n",
    "    tortoise = nums[0]\n",
    "    \n",
    "    # Move tortoise and hare at the same speed until they meet again\n",
    "    while tortoise != hare:\n",
    "        tortoise = nums[tortoise]\n",
    "        hare = nums[hare]\n",
    "    \n",
    "    # Return the duplicate number\n",
    "    return tortoise"
   ]
  },
  {
   "cell_type": "code",
   "execution_count": 30,
   "id": "a059910f",
   "metadata": {},
   "outputs": [
    {
     "data": {
      "text/plain": [
       "2"
      ]
     },
     "execution_count": 30,
     "metadata": {},
     "output_type": "execute_result"
    }
   ],
   "source": [
    "nums = [1,3,4,2,2]\n",
    "findDuplicate(nums)"
   ]
  },
  {
   "cell_type": "code",
   "execution_count": 31,
   "id": "157f8d3d",
   "metadata": {},
   "outputs": [],
   "source": [
    "def findDuplicate(self, nums: list[int]) -> int:\n",
    "        return (sum(nums) - sum(set(nums))) // (len(nums) - len(set(nums)))"
   ]
  },
  {
   "cell_type": "raw",
   "id": "3364b604",
   "metadata": {},
   "source": [
    "Define the bounds: The smallest possible duplicate number is 1, and the largest possible duplicate number isn - 1 (since there are only n numbers, and they are all in the range 1 to n inclusive). We start the search within left = 1 and right = n - 1.\n",
    "\n",
    "Repeatedly split the search space in half: check which half the duplicate number is in by counting how many numbers in the arrays are less than or equal to the mid. If greater, we know the duplicate must be in the left half and vice versa.\n",
    "\n",
    "We repeat step 2 until the search space is reduced to a single number. This number is the duplicate number we are looking for."
   ]
  },
  {
   "cell_type": "code",
   "execution_count": 32,
   "id": "9ef3eee6",
   "metadata": {},
   "outputs": [],
   "source": [
    "#Using binary search\n",
    "\n",
    "def find_duplicate(arr):\n",
    "    \n",
    "    arr.sort()\n",
    "    \n",
    "    l=1\n",
    "    h=len(arr)-1\n",
    "    \n",
    "    while l<r:\n",
    "        \n",
    "        count=0\n",
    "        mid=l+(r-l)//2\n",
    "        \n",
    "        for num in arr:\n",
    "            if num<=mid:\n",
    "                count+=1\n",
    "        if count<=mid:\n",
    "            l=mid+1\n",
    "        else:\n",
    "            h=mid-1\n",
    "    return l"
   ]
  },
  {
   "cell_type": "markdown",
   "id": "ca2d4361",
   "metadata": {},
   "source": [
    "**Question 5**\n",
    "\n",
    "Given two integer arrays `nums1` and `nums2`, return *an array of their intersection*. Each element in the result must be **unique** and you may return the result in **any order**.\n",
    "\n",
    "**Example 1:**\n",
    "\n",
    "Input: nums1 = [1,2,2,1], nums2 = [2,2]\n",
    "Output: [2]\n"
   ]
  },
  {
   "cell_type": "code",
   "execution_count": 37,
   "id": "e1a03c6f",
   "metadata": {},
   "outputs": [],
   "source": [
    "def binary_search(arr,n,tar):\n",
    "    \n",
    "    st=0\n",
    "    en=n-1\n",
    "    \n",
    "    while st<en:\n",
    "        mid=st+(en-st)//2\n",
    "        \n",
    "        if arr[mid]==tar:\n",
    "            return True\n",
    "        \n",
    "        elif arr[mid]<tar:\n",
    "            st=mid+1\n",
    "            \n",
    "        else:\n",
    "            en=en-1\n",
    "    return False\n",
    "\n",
    "\n",
    "\n",
    "\n",
    "\n",
    "def intersection(num1,num2):\n",
    "    n1=len(num1)\n",
    "    n2=len(num2)\n",
    "    \n",
    "    if n1<n2:\n",
    "        n1,n2=n2,n1\n",
    "        num1,num2=num2,num1\n",
    "        \n",
    "    num2.sort()\n",
    "    \n",
    "    output=set()\n",
    "    for num in num1:\n",
    "        if binary_search(num2,n2,num):\n",
    "            output.add(num)\n",
    "            \n",
    "    return output\n",
    "            "
   ]
  },
  {
   "cell_type": "code",
   "execution_count": 38,
   "id": "1b1fa04d",
   "metadata": {},
   "outputs": [
    {
     "data": {
      "text/plain": [
       "{2}"
      ]
     },
     "execution_count": 38,
     "metadata": {},
     "output_type": "execute_result"
    }
   ],
   "source": [
    "nums1 = [1,2,2,1]\n",
    "nums2 = [2,2] \n",
    "intersection(nums1,nums2)"
   ]
  },
  {
   "cell_type": "code",
   "execution_count": 39,
   "id": "a5540e88",
   "metadata": {},
   "outputs": [],
   "source": [
    "def intersection(nums1, nums2):\n",
    "        v = set()\n",
    "        nums1 = set(nums1)\n",
    "        for i in nums1:                                       #Iteration method also use , two for loops\n",
    "            if i in nums2:\n",
    "                v.add(i)\n",
    "        return list(v)"
   ]
  },
  {
   "cell_type": "markdown",
   "id": "6e138cf9",
   "metadata": {},
   "source": [
    "**Question 6**\n",
    "\n",
    "Suppose an array of length `n` sorted in ascending order is **rotated** between `1` and `n` times. For example, the array `nums = [0,1,2,4,5,6,7]` might become:\n",
    "\n",
    "- `[4,5,6,7,0,1,2]` if it was rotated `4` times.\n",
    "- `[0,1,2,4,5,6,7]` if it was rotated `7` times.\n",
    "\n",
    "Notice that **rotating** an array `[a[0], a[1], a[2], ..., a[n-1]]` 1 time results in the array `[a[n-1], a[0], a[1], a[2], ..., a[n-2]]`.\n",
    "\n",
    "Given the sorted rotated array `nums` of **unique** elements, return *the minimum element of this array*.\n",
    "\n",
    "You must write an algorithm that runs in `O(log n) time.`\n",
    "\n",
    "**Example 1:**\n",
    "\n",
    "Input: nums = [3,4,5,1,2]\n",
    "Output: 1\n",
    "Explanation: The original array was [1,2,3,4,5] rotated 3 times.\n"
   ]
  },
  {
   "cell_type": "raw",
   "id": "8695a010",
   "metadata": {},
   "source": [
    "#ALGORITHM\n",
    "Initialize two pointers, left and right, representing the start and end indices of the search space.\n",
    "Enter a while loop as long as left is less than right.\n",
    "Calculate the midpoint mid using the formula mid = left + (right - left) / 2.\n",
    "Compare the value at index mid with the value at index right to determine which half of the array contains the minimum element.\n",
    "If nums[mid] > nums[right], it means the minimum element lies in the right half of the array. Update left = mid + 1 to search in the right half.\n",
    "Otherwise, the minimum element lies in the left half of the array, including the mid index. Update right = mid to search in the left half.\n",
    "Repeat steps 3-4 until the search space is narrowed down to a single element, i.e., left >= right.\n",
    "Return the value at nums[left] as the minimum element."
   ]
  },
  {
   "cell_type": "code",
   "execution_count": 40,
   "id": "ee1afea7",
   "metadata": {},
   "outputs": [],
   "source": [
    "def findmin(arr):\n",
    "    \n",
    "    st=0\n",
    "    en=len(arr)-1                                    #in live class we have one type these problem use that\n",
    "    \n",
    "    while st<en:\n",
    "        mid=st+(en-st)//2\n",
    "        \n",
    "        if arr[mid]>arr[en]:\n",
    "            st=mid+1\n",
    "            \n",
    "        else:\n",
    "            st=en\n",
    "    return arr[en]"
   ]
  },
  {
   "cell_type": "code",
   "execution_count": 41,
   "id": "3da726fc",
   "metadata": {},
   "outputs": [
    {
     "data": {
      "text/plain": [
       "2"
      ]
     },
     "execution_count": 41,
     "metadata": {},
     "output_type": "execute_result"
    }
   ],
   "source": [
    "nums = [3,4,5,1,2] \n",
    "findmin(nums)"
   ]
  },
  {
   "cell_type": "markdown",
   "id": "eb0e30ca",
   "metadata": {},
   "source": [
    "**Question 7**\n",
    "\n",
    "Given an array of integers `nums` sorted in non-decreasing order, find the starting and ending position of a given `target` value.\n",
    "\n",
    "If `target` is not found in the array, return `[-1, -1]`.\n",
    "\n",
    "You must write an algorithm with `O(log n)` runtime complexity.\n",
    "\n",
    "**Example 1:**\n",
    "Input: nums = [5,7,7,8,8,10], target = 8\n",
    "Output: [3,4]\n"
   ]
  },
  {
   "cell_type": "raw",
   "id": "ff13e5cc",
   "metadata": {},
   "source": [
    "#ALGORITHM\n",
    "Initialize the answer vector ans with [-1, -1] to represent the starting and ending indices of the target value.\n",
    "Initialize start as 0, end as the last index of the nums array.\n",
    "Calculate mid as the floor division of (start + end) / 2.\n",
    "Run a binary search loop until start becomes greater than end.\n",
    "Check if the target value is equal to the element at the mid index of nums.\n",
    "If true, update ans[0] (starting index) with mid and move the end pointer to mid - 1 to continue searching for the leftmost occurrence of the target.\n",
    "If false, check if the target value is less than the element at the mid index of nums.\n",
    "If true, update end to mid - 1 to narrow down the search range to the left half.\n",
    "If false, update start to mid + 1 to narrow down the search range to the right half.\n",
    "Reset start to 0 and end to the last index of the nums array.\n",
    "Calculate mid as the floor division of (start + end) / 2.\n",
    "Run another binary search loop until start becomes greater than end.\n",
    "Check if the target value is equal to the element at the mid index of nums.\n",
    "If true, update ans[1] (ending index) with mid and move the start pointer to mid + 1 to continue searching for the rightmost occurrence of the target.\n",
    "If false, check if the target value is less than the element at the mid index of nums.\n",
    "If true, update end to mid - 1 to narrow down the search range to the left half.\n",
    "If false, update start to mid + 1 to narrow down the search range to the right half.\n",
    "Return the ans vector containing the starting and ending indices of the target value."
   ]
  },
  {
   "cell_type": "code",
   "execution_count": 42,
   "id": "f2bb6d0d",
   "metadata": {},
   "outputs": [],
   "source": [
    "def search_ele_range(arr,tar):\n",
    "    \n",
    "    ans=[-1,1]\n",
    "    \n",
    "    st=0\n",
    "    en=len(arr)-1\n",
    "    \n",
    "    \n",
    "    #first occurance\n",
    "    while st <= en:\n",
    "        mid=(st+en)//2\n",
    "        \n",
    "        if arr[mid]==tar:\n",
    "            ans[0]=mid\n",
    "            en=en-1\n",
    "            \n",
    "        elif tar<arr[mid]:\n",
    "            en=en-1\n",
    "        else:\n",
    "            st=st+1\n",
    "            \n",
    "    #last occurance\n",
    "    \n",
    "    st=0\n",
    "    en=len(arr)-1\n",
    "    \n",
    "    while st<=en:\n",
    "        mid=(st+en)//2\n",
    "        \n",
    "        if tar==arr[mid]:\n",
    "            ans[1]=mid\n",
    "\n",
    "            st=st+1\n",
    "            \n",
    "        elif tar<arr[mid]:\n",
    "            en=en-1\n",
    "        else:\n",
    "            st=st+1\n",
    "            \n",
    "    return ans\n",
    "            \n",
    "        "
   ]
  },
  {
   "cell_type": "code",
   "execution_count": 43,
   "id": "33d0f8d0",
   "metadata": {},
   "outputs": [
    {
     "data": {
      "text/plain": [
       "[3, 4]"
      ]
     },
     "execution_count": 43,
     "metadata": {},
     "output_type": "execute_result"
    }
   ],
   "source": [
    "nums = [5,7,7,8,8,10]\n",
    "target = 8\n",
    "search_ele_range(nums,target)"
   ]
  },
  {
   "cell_type": "markdown",
   "id": "630fc351",
   "metadata": {},
   "source": [
    "<aside>\n",
    "💡 **Question 8**\n",
    "\n",
    "Given two integer arrays `nums1` and `nums2`, return *an array of their intersection*. Each element in the result must appear as many times as it shows in both arrays and you may return the result in **any order**.\n",
    "\n",
    "**Example 1:**\n",
    "\n",
    "</aside>\n",
    "\n",
    "Input: nums1 = [1,2,2,1], nums2 = [2,2]\n",
    "Output: [2,2]\n"
   ]
  },
  {
   "cell_type": "code",
   "execution_count": 46,
   "id": "4ab85cab",
   "metadata": {},
   "outputs": [],
   "source": [
    "def intersection(nums1, nums2):\n",
    "        v = []\n",
    "        #nums1 = set(nums1)\n",
    "        for i in nums1:                                       \n",
    "            if i in nums2:\n",
    "                v.append(i)\n",
    "        return v"
   ]
  },
  {
   "cell_type": "code",
   "execution_count": 47,
   "id": "b8a53443",
   "metadata": {},
   "outputs": [
    {
     "data": {
      "text/plain": [
       "[2, 2]"
      ]
     },
     "execution_count": 47,
     "metadata": {},
     "output_type": "execute_result"
    }
   ],
   "source": [
    "nums1 = [1,2,2,1]\n",
    "nums2 = [2,2]\n",
    "intersection(nums1, nums2)"
   ]
  },
  {
   "cell_type": "code",
   "execution_count": null,
   "id": "171883ed",
   "metadata": {},
   "outputs": [],
   "source": []
  }
 ],
 "metadata": {
  "kernelspec": {
   "display_name": "Python 3 (ipykernel)",
   "language": "python",
   "name": "python3"
  },
  "language_info": {
   "codemirror_mode": {
    "name": "ipython",
    "version": 3
   },
   "file_extension": ".py",
   "mimetype": "text/x-python",
   "name": "python",
   "nbconvert_exporter": "python",
   "pygments_lexer": "ipython3",
   "version": "3.10.9"
  }
 },
 "nbformat": 4,
 "nbformat_minor": 5
}
